{
 "cells": [
  {
   "cell_type": "markdown",
   "metadata": {},
   "source": [
    "# Gesture Recognition\n",
    "In this group project, you are going to build a 3D Conv model that will be able to predict the 5 gestures correctly. Please import the following libraries to get started."
   ]
  },
  {
   "cell_type": "code",
   "execution_count": 30,
   "metadata": {},
   "outputs": [],
   "source": [
    "import numpy as np\n",
    "import os\n",
    "#from scipy.misc import imread, imresize\n",
    "import imageio\n",
    "import datetime\n",
    "import os\n",
    "from skimage.io import imread\n",
    "import cv2"
   ]
  },
  {
   "cell_type": "markdown",
   "metadata": {},
   "source": [
    "We set the random seed so that the results don't vary drastically."
   ]
  },
  {
   "cell_type": "code",
   "execution_count": 31,
   "metadata": {
    "scrolled": true
   },
   "outputs": [],
   "source": [
    "np.random.seed(30)\n",
    "import random as rn\n",
    "rn.seed(30)\n",
    "from keras import backend as K\n",
    "import tensorflow as tf\n",
    "tf.random.set_seed(30)"
   ]
  },
  {
   "cell_type": "markdown",
   "metadata": {},
   "source": [
    "In this block, you read the folder names for training and validation. You also set the `batch_size` here. Note that you set the batch size in such a way that you are able to use the GPU in full capacity. You keep increasing the batch size until the machine throws an error."
   ]
  },
  {
   "cell_type": "code",
   "execution_count": 32,
   "metadata": {},
   "outputs": [],
   "source": [
    "train_doc = np.random.permutation(open('E:/Project_data/Project_data/train.csv').readlines())\n",
    "val_doc = np.random.permutation(open('E:/Project_data/Project_data/val.csv').readlines())\n",
    "batch_size = 32\n"
   ]
  },
  {
   "cell_type": "code",
   "execution_count": null,
   "metadata": {},
   "outputs": [],
   "source": [
    "## Generator\n",
    "This is one of the most important part of the code. The overall structure of the generator has been given. In the generator, you are going to preprocess the images as you have images of 2 different dimensions as well as create a batch of video frames. You have to experiment with `img_idx`, `y`,`z` and normalization such that you get high accuracy.\n",
    "\n",
    "def generator(source_path, folder_list, batch_size):\n",
    "    print( 'Source path = ', source_path, '; batch size =', batch_size)\n",
    "    img_idx = [0,1,2,3,6,8,10,12,14,16,18,20,24,26,27,28,29]#create a list of image numbers you want to use for a particular video\n",
    "    while True:\n",
    "        t = np.random.permutation(folder_list)\n",
    "        num_batches = int(len(folder_list)/batch_size)\n",
    "        # calculate the number of batches\n",
    "        for batch in range(num_batches): # we iterate over the number of batches\n",
    "            x=len(img_idx)\n",
    "            #batch_data = np.zeros((batch_size,x,y,z,3)) # x is the number of images you use for each video, (y,z) is the final size of the input images and 3 is the number of channels RGB\n",
    "            batch_data = np.zeros((batch_size,x,100,100,3))\n",
    "            batch_labels = np.zeros((batch_size,5)) # batch_labels is the one hot representation of the output\n",
    "            for folder in range(batch_size): # iterate over the batch_size\n",
    "                imgs = os.listdir(source_path+'/'+ t[folder + (batch*batch_size)].split(';')[0]) # read all the images in the folder\n",
    "                for idx,item in enumerate(img_idx): #  Iterate iver the frames/images of a folder to read them in\n",
    "                    image = imread(source_path+'/'+ t[folder + (batch*batch_size)].strip().split(';')[0]+'/'+imgs[item]).astype(np.float32)\n",
    "\n",
    "                    \n",
    "                    #crop the images and resize them. Note that the images are of 2 different shape \n",
    "                    #and the conv3D will throw error if the inputs in a batch have different shapes\n",
    "                    \n",
    "                    height, width, channel = image.shape\n",
    "                    if height == 120 and width == 120:\n",
    "                        image = image[20:140, :120, :]\n",
    "                    image = cv2.resize(image, (100, 100)) #resizing all image to 100*100\n",
    "                    image = image/255\n",
    "\n",
    "                    batch_data[folder,idx,:,:,0] = image[:,:,0]\n",
    "                    #normalise and feed in the image\n",
    "                    batch_data[folder,idx,:,:,1] = image[:,:,1]\n",
    "                    #normalise and feed in the image\n",
    "                    batch_data[folder,idx,:,:,2] = image[:,:,2]\n",
    "                    #normalise and feed in the image\n",
    "\n",
    "                batch_labels[folder, int(t[folder + (batch*batch_size)].strip().split(';')[2])] = 1\n",
    "            yield batch_data, batch_labels #you yield the batch_data and the batch_labels, remember what does yield do\n",
    "\n",
    "        # write the code for the remaining data points which are left after full batches\n",
    "        if len(folder_list) > num_batches * batch_size:\n",
    "            x=len(img_idx)\n",
    "            rem = len(folder_list) - (num_batches * batch_size)\n",
    "            batch_data = np.zeros((rem,x,100,100,3))\n",
    "            batch_labels = np.zeros((rem,5)) # batch_labels is the one hot representation of the output\n",
    "            for folder in range(rem): # iterate over the batch_size\n",
    "                imgs = os.listdir(source_path+'/'+ t[folder + (num_batches * batch_size)].split(';')[0]) # read all the images in the folder\n",
    "                for idx,item in enumerate(img_idx): #  Iterate iver the frames/images of a folder to read them in\n",
    "                    image = imread(source_path+'/'+ t[folder + (num_batches * batch_size)].strip().split(';')[0]+'/'+imgs[item]).astype(np.float32)\n",
    "                    \n",
    "                    #crop the images and resize them. Note that the images are of 2 different shape \n",
    "                    #and the conv3D will throw error if the inputs in a batch have different shapes\n",
    "                    \n",
    "                    height, width , channel = image.shape\n",
    "                    if height == 120 or width == 120:\n",
    "                        image=image[20:140,:120,:]\n",
    "                    image = cv2.resize(image,(100,100))\n",
    "                    image = image/255\n",
    "                    batch_data[folder,idx,:,:,0] = image[:,:,0]\n",
    "                    #normalise and feed in the image\n",
    "                    batch_data[folder,idx,:,:,1] = image[:,:,1]\n",
    "                    #normalise and feed in the image\n",
    "                    batch_data[folder,idx,:,:,2] = image[:,:,2]\n",
    "                    #normalise and feed in the image\n",
    "\n",
    "                batch_labels[folder, int(t[folder + (num_batches * batch_size)].strip().split(';')[2])] = 1\n",
    "            yield batch_data, batch_labels #you yield the batch_data and the batch_labels, remember what does yield do"
   ]
  },
  {
   "cell_type": "markdown",
   "metadata": {},
   "source": [
    "Note here that a video is represented above in the generator as (number of images, height, width, number of channels). Take this into consideration while creating the model architecture."
   ]
  },
  {
   "cell_type": "code",
   "execution_count": 34,
   "metadata": {},
   "outputs": [
    {
     "name": "stdout",
     "output_type": "stream",
     "text": [
      "# training sequences = 663\n",
      "# validation sequences = 100\n",
      "# epochs = 50\n"
     ]
    }
   ],
   "source": [
    "curr_dt_time = datetime.datetime.now()\n",
    "train_path = 'E:/Project_data/Project_data/train'\n",
    "val_path = 'E:/Project_data/Project_data/val'\n",
    "num_train_sequences = len(train_doc)\n",
    "print('# training sequences =', num_train_sequences)\n",
    "num_val_sequences = len(val_doc)\n",
    "print('# validation sequences =', num_val_sequences)\n",
    "num_epochs = 50\n",
    "print ('# epochs =', num_epochs)"
   ]
  },
  {
   "cell_type": "markdown",
   "metadata": {},
   "source": [
    "## Model\n",
    "Here you make the model using different functionalities that Keras provides. Remember to use `Conv3D` and `MaxPooling3D` and not `Conv2D` and `Maxpooling2D` for a 3D convolution model. You would want to use `TimeDistributed` while building a Conv2D + RNN model. Also remember that the last layer is the softmax. Design the network in such a way that the model is able to give good accuracy on the least number of parameters so that it can fit in the memory of the webcam."
   ]
  },
  {
   "cell_type": "code",
   "execution_count": 35,
   "metadata": {},
   "outputs": [],
   "source": [
    "from keras.models import Sequential, Model\n",
    "from keras.layers import Dense, GRU, Flatten, TimeDistributed, Flatten, BatchNormalization, Activation ,Dropout\n",
    "from keras.layers.convolutional import Conv3D, MaxPooling3D\n",
    "from keras.callbacks import ModelCheckpoint, ReduceLROnPlateau\n",
    "from keras import optimizers\n",
    "\n",
    "#write your model here\n",
    "model = Sequential()\n",
    "\n",
    "# 1st layer: Conv3D\n",
    "model.add(Conv3D(32, kernel_size=(3, 3, 3), input_shape=(19,100,100,3), padding='same'))\n",
    "model.add(Activation('relu'))\n",
    "model.add(BatchNormalization())\n",
    "model.add(MaxPooling3D(pool_size=(2, 2, 2)))\n",
    "\n",
    "# 2nd layer: Conv3D\n",
    "model.add(Conv3D(64, kernel_size=(3, 3, 3), padding='same'))\n",
    "model.add(Activation('relu'))\n",
    "model.add(BatchNormalization())\n",
    "model.add(MaxPooling3D(pool_size=(2, 2, 2)))\n",
    "\n",
    "# 3rd layer: Conv3D\n",
    "model.add(Conv3D(128, kernel_size=(3, 3, 3), padding='same'))\n",
    "model.add(Activation('relu'))\n",
    "model.add(BatchNormalization())\n",
    "model.add(MaxPooling3D(pool_size=(2, 2, 2)))\n",
    "\n",
    "# Flatten\n",
    "model.add(Flatten())\n",
    "\n",
    "# Fully connected layer\n",
    "model.add(Dense(512, activation='relu'))\n",
    "model.add(Dropout(0.5))\n",
    "\n",
    "# Output layer\n",
    "model.add(Dense(5, activation='softmax'))\n",
    "\n"
   ]
  },
  {
   "cell_type": "markdown",
   "metadata": {},
   "source": [
    "Now that you have written the model, the next step is to `compile` the model. When you print the `summary` of the model, you'll see the total number of parameters you have to train."
   ]
  },
  {
   "cell_type": "code",
   "execution_count": 36,
   "metadata": {
    "scrolled": true
   },
   "outputs": [
    {
     "name": "stdout",
     "output_type": "stream",
     "text": [
      "Model: \"sequential_2\"\n",
      "_________________________________________________________________\n",
      " Layer (type)                Output Shape              Param #   \n",
      "=================================================================\n",
      " conv3d_6 (Conv3D)           (None, 19, 100, 100, 32)  2624      \n",
      "                                                                 \n",
      " activation_6 (Activation)   (None, 19, 100, 100, 32)  0         \n",
      "                                                                 \n",
      " batch_normalization_6 (Batc  (None, 19, 100, 100, 32)  128      \n",
      " hNormalization)                                                 \n",
      "                                                                 \n",
      " max_pooling3d_6 (MaxPooling  (None, 9, 50, 50, 32)    0         \n",
      " 3D)                                                             \n",
      "                                                                 \n",
      " conv3d_7 (Conv3D)           (None, 9, 50, 50, 64)     55360     \n",
      "                                                                 \n",
      " activation_7 (Activation)   (None, 9, 50, 50, 64)     0         \n",
      "                                                                 \n",
      " batch_normalization_7 (Batc  (None, 9, 50, 50, 64)    256       \n",
      " hNormalization)                                                 \n",
      "                                                                 \n",
      " max_pooling3d_7 (MaxPooling  (None, 4, 25, 25, 64)    0         \n",
      " 3D)                                                             \n",
      "                                                                 \n",
      " conv3d_8 (Conv3D)           (None, 4, 25, 25, 128)    221312    \n",
      "                                                                 \n",
      " activation_8 (Activation)   (None, 4, 25, 25, 128)    0         \n",
      "                                                                 \n",
      " batch_normalization_8 (Batc  (None, 4, 25, 25, 128)   512       \n",
      " hNormalization)                                                 \n",
      "                                                                 \n",
      " max_pooling3d_8 (MaxPooling  (None, 2, 12, 12, 128)   0         \n",
      " 3D)                                                             \n",
      "                                                                 \n",
      " flatten_2 (Flatten)         (None, 36864)             0         \n",
      "                                                                 \n",
      " dense_4 (Dense)             (None, 512)               18874880  \n",
      "                                                                 \n",
      " dropout_2 (Dropout)         (None, 512)               0         \n",
      "                                                                 \n",
      " dense_5 (Dense)             (None, 5)                 2565      \n",
      "                                                                 \n",
      "=================================================================\n",
      "Total params: 19,157,637\n",
      "Trainable params: 19,157,189\n",
      "Non-trainable params: 448\n",
      "_________________________________________________________________\n",
      "None\n"
     ]
    }
   ],
   "source": [
    "optimiser = 'SGD'\n",
    "model.compile(optimizer=optimiser, loss='categorical_crossentropy', metrics=['categorical_accuracy'])\n",
    "print (model.summary())"
   ]
  },
  {
   "cell_type": "markdown",
   "metadata": {},
   "source": [
    "Let us create the `train_generator` and the `val_generator` which will be used in `.fit_generator`."
   ]
  },
  {
   "cell_type": "code",
   "execution_count": 37,
   "metadata": {},
   "outputs": [],
   "source": [
    "train_generator = generator(train_path, train_doc, batch_size)\n",
    "val_generator = generator(val_path, val_doc, batch_size)"
   ]
  },
  {
   "cell_type": "code",
   "execution_count": 38,
   "metadata": {},
   "outputs": [
    {
     "name": "stdout",
     "output_type": "stream",
     "text": [
      "WARNING:tensorflow:`period` argument is deprecated. Please use `save_freq` to specify the frequency in number of batches seen.\n"
     ]
    }
   ],
   "source": [
    "model_name = 'model_init' + '_' + str(curr_dt_time).replace(' ','').replace(':','_') + '/'\n",
    "    \n",
    "if not os.path.exists(model_name):\n",
    "    os.mkdir(model_name)\n",
    "        \n",
    "filepath = model_name + 'model-{epoch:05d}-{loss:.5f}-{categorical_accuracy:.5f}-{val_loss:.5f}-{val_categorical_accuracy:.5f}.h5'\n",
    "\n",
    "checkpoint = ModelCheckpoint(filepath, monitor='val_loss', verbose=1, save_best_only=False, save_weights_only=False, mode='auto', period=1)\n",
    "\n",
    "LR = ReduceLROnPlateau(monitor='val_loss', factor=0.2, patience=5, min_lr=0.001)\n",
    "callbacks_list = [checkpoint, LR]"
   ]
  },
  {
   "cell_type": "markdown",
   "metadata": {},
   "source": [
    "The `steps_per_epoch` and `validation_steps` are used by `fit_generator` to decide the number of next() calls it need to make."
   ]
  },
  {
   "cell_type": "code",
   "execution_count": 39,
   "metadata": {},
   "outputs": [],
   "source": [
    "if (num_train_sequences%batch_size) == 0:\n",
    "    steps_per_epoch = int(num_train_sequences/batch_size)\n",
    "else:\n",
    "    steps_per_epoch = (num_train_sequences//batch_size) + 1\n",
    "\n",
    "if (num_val_sequences%batch_size) == 0:\n",
    "    validation_steps = int(num_val_sequences/batch_size)\n",
    "else:\n",
    "    validation_steps = (num_val_sequences//batch_size) + 1"
   ]
  },
  {
   "cell_type": "markdown",
   "metadata": {},
   "source": [
    "Let us now fit the model. This will start training the model and with the help of the checkpoints, you'll be able to save the model at the end of each epoch."
   ]
  },
  {
   "cell_type": "code",
   "execution_count": 40,
   "metadata": {},
   "outputs": [
    {
     "name": "stderr",
     "output_type": "stream",
     "text": [
      "C:\\Users\\Administrator\\AppData\\Local\\Temp\\2\\ipykernel_3512\\1787904139.py:1: UserWarning: `Model.fit_generator` is deprecated and will be removed in a future version. Please use `Model.fit`, which supports generators.\n",
      "  history=model.fit_generator(train_generator, steps_per_epoch=steps_per_epoch, epochs=num_epochs, verbose=1,\n"
     ]
    },
    {
     "name": "stdout",
     "output_type": "stream",
     "text": [
      "Source path =  E:/Project_data/Project_data/train ; batch size = 32\n",
      "Epoch 1/50\n",
      "21/21 [==============================] - ETA: 0s - loss: 4.6872 - categorical_accuracy: 0.3318 Source path =  E:/Project_data/Project_data/val ; batch size = 32\n",
      "\n",
      "Epoch 1: saving model to model_init_2023-02-1316_21_51.923749\\model-00001-4.68717-0.33183-5.18192-0.23000.h5\n",
      "21/21 [==============================] - 911s 43s/step - loss: 4.6872 - categorical_accuracy: 0.3318 - val_loss: 5.1819 - val_categorical_accuracy: 0.2300 - lr: 0.0100\n",
      "Epoch 2/50\n",
      "21/21 [==============================] - ETA: 0s - loss: 1.2414 - categorical_accuracy: 0.5385 \n",
      "Epoch 2: saving model to model_init_2023-02-1316_21_51.923749\\model-00002-1.24141-0.53846-3.84148-0.22000.h5\n",
      "21/21 [==============================] - 883s 42s/step - loss: 1.2414 - categorical_accuracy: 0.5385 - val_loss: 3.8415 - val_categorical_accuracy: 0.2200 - lr: 0.0100\n",
      "Epoch 3/50\n",
      "21/21 [==============================] - ETA: 0s - loss: 0.9715 - categorical_accuracy: 0.6425 \n",
      "Epoch 3: saving model to model_init_2023-02-1316_21_51.923749\\model-00003-0.97153-0.64253-3.43643-0.18000.h5\n",
      "21/21 [==============================] - 880s 42s/step - loss: 0.9715 - categorical_accuracy: 0.6425 - val_loss: 3.4364 - val_categorical_accuracy: 0.1800 - lr: 0.0100\n",
      "Epoch 4/50\n",
      "21/21 [==============================] - ETA: 0s - loss: 0.8112 - categorical_accuracy: 0.7104 \n",
      "Epoch 4: saving model to model_init_2023-02-1316_21_51.923749\\model-00004-0.81115-0.71041-3.15054-0.18000.h5\n",
      "21/21 [==============================] - 874s 42s/step - loss: 0.8112 - categorical_accuracy: 0.7104 - val_loss: 3.1505 - val_categorical_accuracy: 0.1800 - lr: 0.0100\n",
      "Epoch 5/50\n",
      "21/21 [==============================] - ETA: 0s - loss: 0.6489 - categorical_accuracy: 0.7345 \n",
      "Epoch 5: saving model to model_init_2023-02-1316_21_51.923749\\model-00005-0.64893-0.73454-2.52688-0.32000.h5\n",
      "21/21 [==============================] - 876s 42s/step - loss: 0.6489 - categorical_accuracy: 0.7345 - val_loss: 2.5269 - val_categorical_accuracy: 0.3200 - lr: 0.0100\n",
      "Epoch 6/50\n",
      "21/21 [==============================] - ETA: 0s - loss: 0.5347 - categorical_accuracy: 0.7903 \n",
      "Epoch 6: saving model to model_init_2023-02-1316_21_51.923749\\model-00006-0.53472-0.79035-2.49500-0.34000.h5\n",
      "21/21 [==============================] - 881s 42s/step - loss: 0.5347 - categorical_accuracy: 0.7903 - val_loss: 2.4950 - val_categorical_accuracy: 0.3400 - lr: 0.0100\n",
      "Epoch 7/50\n",
      "21/21 [==============================] - ETA: 0s - loss: 0.4818 - categorical_accuracy: 0.8416 \n",
      "Epoch 7: saving model to model_init_2023-02-1316_21_51.923749\\model-00007-0.48182-0.84163-2.59013-0.41000.h5\n",
      "21/21 [==============================] - 882s 42s/step - loss: 0.4818 - categorical_accuracy: 0.8416 - val_loss: 2.5901 - val_categorical_accuracy: 0.4100 - lr: 0.0100\n",
      "Epoch 8/50\n",
      "21/21 [==============================] - ETA: 0s - loss: 0.3727 - categorical_accuracy: 0.8627 \n",
      "Epoch 8: saving model to model_init_2023-02-1316_21_51.923749\\model-00008-0.37266-0.86275-2.67108-0.36000.h5\n",
      "21/21 [==============================] - 880s 42s/step - loss: 0.3727 - categorical_accuracy: 0.8627 - val_loss: 2.6711 - val_categorical_accuracy: 0.3600 - lr: 0.0100\n",
      "Epoch 9/50\n",
      "21/21 [==============================] - ETA: 0s - loss: 0.3638 - categorical_accuracy: 0.8854 \n",
      "Epoch 9: saving model to model_init_2023-02-1316_21_51.923749\\model-00009-0.36379-0.88537-3.14796-0.39000.h5\n",
      "21/21 [==============================] - 880s 42s/step - loss: 0.3638 - categorical_accuracy: 0.8854 - val_loss: 3.1480 - val_categorical_accuracy: 0.3900 - lr: 0.0100\n",
      "Epoch 10/50\n",
      "21/21 [==============================] - ETA: 0s - loss: 0.2758 - categorical_accuracy: 0.9065 \n",
      "Epoch 10: saving model to model_init_2023-02-1316_21_51.923749\\model-00010-0.27583-0.90649-3.33052-0.37000.h5\n",
      "21/21 [==============================] - 881s 42s/step - loss: 0.2758 - categorical_accuracy: 0.9065 - val_loss: 3.3305 - val_categorical_accuracy: 0.3700 - lr: 0.0100\n",
      "Epoch 11/50\n",
      "21/21 [==============================] - ETA: 0s - loss: 0.2391 - categorical_accuracy: 0.9140 \n",
      "Epoch 11: saving model to model_init_2023-02-1316_21_51.923749\\model-00011-0.23907-0.91403-3.32533-0.38000.h5\n",
      "21/21 [==============================] - 877s 42s/step - loss: 0.2391 - categorical_accuracy: 0.9140 - val_loss: 3.3253 - val_categorical_accuracy: 0.3800 - lr: 0.0100\n",
      "Epoch 12/50\n",
      "21/21 [==============================] - ETA: 0s - loss: 0.1738 - categorical_accuracy: 0.9487 \n",
      "Epoch 12: saving model to model_init_2023-02-1316_21_51.923749\\model-00012-0.17378-0.94872-3.01218-0.45000.h5\n",
      "21/21 [==============================] - 877s 42s/step - loss: 0.1738 - categorical_accuracy: 0.9487 - val_loss: 3.0122 - val_categorical_accuracy: 0.4500 - lr: 0.0020\n",
      "Epoch 13/50\n",
      "21/21 [==============================] - ETA: 0s - loss: 0.1482 - categorical_accuracy: 0.9532 \n",
      "Epoch 13: saving model to model_init_2023-02-1316_21_51.923749\\model-00013-0.14823-0.95324-2.61432-0.41000.h5\n",
      "21/21 [==============================] - 886s 42s/step - loss: 0.1482 - categorical_accuracy: 0.9532 - val_loss: 2.6143 - val_categorical_accuracy: 0.4100 - lr: 0.0020\n",
      "Epoch 14/50\n",
      "21/21 [==============================] - ETA: 0s - loss: 0.1266 - categorical_accuracy: 0.9713 \n",
      "Epoch 14: saving model to model_init_2023-02-1316_21_51.923749\\model-00014-0.12657-0.97134-2.88768-0.40000.h5\n",
      "21/21 [==============================] - 886s 42s/step - loss: 0.1266 - categorical_accuracy: 0.9713 - val_loss: 2.8877 - val_categorical_accuracy: 0.4000 - lr: 0.0020\n",
      "Epoch 15/50\n",
      "21/21 [==============================] - ETA: 0s - loss: 0.1236 - categorical_accuracy: 0.9729 \n",
      "Epoch 15: saving model to model_init_2023-02-1316_21_51.923749\\model-00015-0.12355-0.97285-2.23027-0.46000.h5\n",
      "21/21 [==============================] - 879s 42s/step - loss: 0.1236 - categorical_accuracy: 0.9729 - val_loss: 2.2303 - val_categorical_accuracy: 0.4600 - lr: 0.0020\n",
      "Epoch 16/50\n",
      "21/21 [==============================] - ETA: 0s - loss: 0.1250 - categorical_accuracy: 0.9683 \n",
      "Epoch 16: saving model to model_init_2023-02-1316_21_51.923749\\model-00016-0.12496-0.96833-2.05271-0.46000.h5\n",
      "21/21 [==============================] - 875s 42s/step - loss: 0.1250 - categorical_accuracy: 0.9683 - val_loss: 2.0527 - val_categorical_accuracy: 0.4600 - lr: 0.0020\n",
      "Epoch 17/50\n",
      "21/21 [==============================] - ETA: 0s - loss: 0.1075 - categorical_accuracy: 0.9789 \n",
      "Epoch 17: saving model to model_init_2023-02-1316_21_51.923749\\model-00017-0.10748-0.97888-1.77648-0.56000.h5\n",
      "21/21 [==============================] - 875s 42s/step - loss: 0.1075 - categorical_accuracy: 0.9789 - val_loss: 1.7765 - val_categorical_accuracy: 0.5600 - lr: 0.0020\n",
      "Epoch 18/50\n",
      "21/21 [==============================] - ETA: 0s - loss: 0.1059 - categorical_accuracy: 0.9819 \n",
      "Epoch 18: saving model to model_init_2023-02-1316_21_51.923749\\model-00018-0.10592-0.98190-1.60985-0.54000.h5\n",
      "21/21 [==============================] - 879s 42s/step - loss: 0.1059 - categorical_accuracy: 0.9819 - val_loss: 1.6098 - val_categorical_accuracy: 0.5400 - lr: 0.0020\n",
      "Epoch 19/50\n",
      "21/21 [==============================] - ETA: 0s - loss: 0.1121 - categorical_accuracy: 0.9698 \n",
      "Epoch 19: saving model to model_init_2023-02-1316_21_51.923749\\model-00019-0.11205-0.96983-1.70504-0.55000.h5\n",
      "21/21 [==============================] - 878s 42s/step - loss: 0.1121 - categorical_accuracy: 0.9698 - val_loss: 1.7050 - val_categorical_accuracy: 0.5500 - lr: 0.0020\n",
      "Epoch 20/50\n",
      "21/21 [==============================] - ETA: 0s - loss: 0.1091 - categorical_accuracy: 0.9744 \n",
      "Epoch 20: saving model to model_init_2023-02-1316_21_51.923749\\model-00020-0.10911-0.97436-1.44159-0.60000.h5\n",
      "21/21 [==============================] - 876s 42s/step - loss: 0.1091 - categorical_accuracy: 0.9744 - val_loss: 1.4416 - val_categorical_accuracy: 0.6000 - lr: 0.0020\n",
      "Epoch 21/50\n",
      "21/21 [==============================] - ETA: 0s - loss: 0.0916 - categorical_accuracy: 0.9789 \n",
      "Epoch 21: saving model to model_init_2023-02-1316_21_51.923749\\model-00021-0.09156-0.97888-1.39246-0.62000.h5\n",
      "21/21 [==============================] - 877s 42s/step - loss: 0.0916 - categorical_accuracy: 0.9789 - val_loss: 1.3925 - val_categorical_accuracy: 0.6200 - lr: 0.0020\n",
      "Epoch 22/50\n",
      "21/21 [==============================] - ETA: 0s - loss: 0.0980 - categorical_accuracy: 0.9759 \n",
      "Epoch 22: saving model to model_init_2023-02-1316_21_51.923749\\model-00022-0.09804-0.97587-1.46557-0.62000.h5\n",
      "21/21 [==============================] - 881s 42s/step - loss: 0.0980 - categorical_accuracy: 0.9759 - val_loss: 1.4656 - val_categorical_accuracy: 0.6200 - lr: 0.0020\n",
      "Epoch 23/50\n",
      "21/21 [==============================] - ETA: 0s - loss: 0.1034 - categorical_accuracy: 0.9744 \n",
      "Epoch 23: saving model to model_init_2023-02-1316_21_51.923749\\model-00023-0.10343-0.97436-1.09092-0.66000.h5\n",
      "21/21 [==============================] - 880s 42s/step - loss: 0.1034 - categorical_accuracy: 0.9744 - val_loss: 1.0909 - val_categorical_accuracy: 0.6600 - lr: 0.0020\n",
      "Epoch 24/50\n",
      "21/21 [==============================] - ETA: 0s - loss: 0.0883 - categorical_accuracy: 0.9744 \n",
      "Epoch 24: saving model to model_init_2023-02-1316_21_51.923749\\model-00024-0.08832-0.97436-1.31657-0.65000.h5\n",
      "21/21 [==============================] - 875s 42s/step - loss: 0.0883 - categorical_accuracy: 0.9744 - val_loss: 1.3166 - val_categorical_accuracy: 0.6500 - lr: 0.0020\n",
      "Epoch 25/50\n",
      "21/21 [==============================] - ETA: 0s - loss: 0.0851 - categorical_accuracy: 0.9789 \n",
      "Epoch 25: saving model to model_init_2023-02-1316_21_51.923749\\model-00025-0.08509-0.97888-1.26774-0.66000.h5\n",
      "21/21 [==============================] - 877s 42s/step - loss: 0.0851 - categorical_accuracy: 0.9789 - val_loss: 1.2677 - val_categorical_accuracy: 0.6600 - lr: 0.0020\n",
      "Epoch 26/50\n",
      "21/21 [==============================] - ETA: 0s - loss: 0.0851 - categorical_accuracy: 0.9849 \n",
      "Epoch 26: saving model to model_init_2023-02-1316_21_51.923749\\model-00026-0.08510-0.98492-1.39918-0.62000.h5\n",
      "21/21 [==============================] - 879s 42s/step - loss: 0.0851 - categorical_accuracy: 0.9849 - val_loss: 1.3992 - val_categorical_accuracy: 0.6200 - lr: 0.0020\n",
      "Epoch 27/50\n",
      "21/21 [==============================] - ETA: 0s - loss: 0.0988 - categorical_accuracy: 0.9729 \n",
      "Epoch 27: saving model to model_init_2023-02-1316_21_51.923749\\model-00027-0.09881-0.97285-1.22489-0.69000.h5\n",
      "21/21 [==============================] - 878s 42s/step - loss: 0.0988 - categorical_accuracy: 0.9729 - val_loss: 1.2249 - val_categorical_accuracy: 0.6900 - lr: 0.0020\n",
      "Epoch 28/50\n",
      "21/21 [==============================] - ETA: 0s - loss: 0.0637 - categorical_accuracy: 0.9910 \n",
      "Epoch 28: saving model to model_init_2023-02-1316_21_51.923749\\model-00028-0.06366-0.99095-1.21994-0.68000.h5\n",
      "21/21 [==============================] - 877s 42s/step - loss: 0.0637 - categorical_accuracy: 0.9910 - val_loss: 1.2199 - val_categorical_accuracy: 0.6800 - lr: 0.0020\n",
      "Epoch 29/50\n",
      "21/21 [==============================] - ETA: 0s - loss: 0.0655 - categorical_accuracy: 0.9864 \n",
      "Epoch 29: saving model to model_init_2023-02-1316_21_51.923749\\model-00029-0.06548-0.98643-1.16967-0.69000.h5\n",
      "21/21 [==============================] - 877s 42s/step - loss: 0.0655 - categorical_accuracy: 0.9864 - val_loss: 1.1697 - val_categorical_accuracy: 0.6900 - lr: 0.0010\n",
      "Epoch 30/50\n",
      "21/21 [==============================] - ETA: 0s - loss: 0.0603 - categorical_accuracy: 0.9910 \n",
      "Epoch 30: saving model to model_init_2023-02-1316_21_51.923749\\model-00030-0.06032-0.99095-0.87877-0.71000.h5\n",
      "21/21 [==============================] - 880s 42s/step - loss: 0.0603 - categorical_accuracy: 0.9910 - val_loss: 0.8788 - val_categorical_accuracy: 0.7100 - lr: 0.0010\n",
      "Epoch 31/50\n",
      "21/21 [==============================] - ETA: 0s - loss: 0.0704 - categorical_accuracy: 0.9879 \n",
      "Epoch 31: saving model to model_init_2023-02-1316_21_51.923749\\model-00031-0.07038-0.98793-1.16564-0.70000.h5\n",
      "21/21 [==============================] - 880s 42s/step - loss: 0.0704 - categorical_accuracy: 0.9879 - val_loss: 1.1656 - val_categorical_accuracy: 0.7000 - lr: 0.0010\n",
      "Epoch 32/50\n",
      "21/21 [==============================] - ETA: 0s - loss: 0.0692 - categorical_accuracy: 0.9864 \n",
      "Epoch 32: saving model to model_init_2023-02-1316_21_51.923749\\model-00032-0.06915-0.98643-1.11717-0.71000.h5\n",
      "21/21 [==============================] - 880s 42s/step - loss: 0.0692 - categorical_accuracy: 0.9864 - val_loss: 1.1172 - val_categorical_accuracy: 0.7100 - lr: 0.0010\n",
      "Epoch 33/50\n",
      "21/21 [==============================] - ETA: 0s - loss: 0.0514 - categorical_accuracy: 0.9940 \n",
      "Epoch 33: saving model to model_init_2023-02-1316_21_51.923749\\model-00033-0.05135-0.99397-1.12931-0.70000.h5\n",
      "21/21 [==============================] - 889s 42s/step - loss: 0.0514 - categorical_accuracy: 0.9940 - val_loss: 1.1293 - val_categorical_accuracy: 0.7000 - lr: 0.0010\n",
      "Epoch 34/50\n",
      "21/21 [==============================] - ETA: 0s - loss: 0.0561 - categorical_accuracy: 0.9864 \n",
      "Epoch 34: saving model to model_init_2023-02-1316_21_51.923749\\model-00034-0.05611-0.98643-1.12124-0.73000.h5\n",
      "21/21 [==============================] - 879s 42s/step - loss: 0.0561 - categorical_accuracy: 0.9864 - val_loss: 1.1212 - val_categorical_accuracy: 0.7300 - lr: 0.0010\n",
      "Epoch 35/50\n",
      "21/21 [==============================] - ETA: 0s - loss: 0.0513 - categorical_accuracy: 0.9955 \n",
      "Epoch 35: saving model to model_init_2023-02-1316_21_51.923749\\model-00035-0.05128-0.99548-0.98721-0.73000.h5\n",
      "21/21 [==============================] - 880s 42s/step - loss: 0.0513 - categorical_accuracy: 0.9955 - val_loss: 0.9872 - val_categorical_accuracy: 0.7300 - lr: 0.0010\n",
      "Epoch 36/50\n",
      "21/21 [==============================] - ETA: 0s - loss: 0.0658 - categorical_accuracy: 0.9849 \n",
      "Epoch 36: saving model to model_init_2023-02-1316_21_51.923749\\model-00036-0.06583-0.98492-1.21249-0.69000.h5\n",
      "21/21 [==============================] - 878s 42s/step - loss: 0.0658 - categorical_accuracy: 0.9849 - val_loss: 1.2125 - val_categorical_accuracy: 0.6900 - lr: 0.0010\n",
      "Epoch 37/50\n",
      "21/21 [==============================] - ETA: 0s - loss: 0.0614 - categorical_accuracy: 0.9894 \n",
      "Epoch 37: saving model to model_init_2023-02-1316_21_51.923749\\model-00037-0.06140-0.98944-1.12127-0.71000.h5\n",
      "21/21 [==============================] - 879s 42s/step - loss: 0.0614 - categorical_accuracy: 0.9894 - val_loss: 1.1213 - val_categorical_accuracy: 0.7100 - lr: 0.0010\n",
      "Epoch 38/50\n",
      "21/21 [==============================] - ETA: 0s - loss: 0.0571 - categorical_accuracy: 0.9834 \n",
      "Epoch 38: saving model to model_init_2023-02-1316_21_51.923749\\model-00038-0.05711-0.98341-0.91879-0.75000.h5\n",
      "21/21 [==============================] - 879s 42s/step - loss: 0.0571 - categorical_accuracy: 0.9834 - val_loss: 0.9188 - val_categorical_accuracy: 0.7500 - lr: 0.0010\n",
      "Epoch 39/50\n",
      "21/21 [==============================] - ETA: 0s - loss: 0.0568 - categorical_accuracy: 0.9955 \n",
      "Epoch 39: saving model to model_init_2023-02-1316_21_51.923749\\model-00039-0.05678-0.99548-1.03145-0.70000.h5\n",
      "21/21 [==============================] - 881s 42s/step - loss: 0.0568 - categorical_accuracy: 0.9955 - val_loss: 1.0315 - val_categorical_accuracy: 0.7000 - lr: 0.0010\n",
      "Epoch 40/50\n",
      "21/21 [==============================] - ETA: 0s - loss: 0.0630 - categorical_accuracy: 0.9910 \n",
      "Epoch 40: saving model to model_init_2023-02-1316_21_51.923749\\model-00040-0.06303-0.99095-1.06921-0.72000.h5\n",
      "21/21 [==============================] - 883s 42s/step - loss: 0.0630 - categorical_accuracy: 0.9910 - val_loss: 1.0692 - val_categorical_accuracy: 0.7200 - lr: 0.0010\n",
      "Epoch 41/50\n",
      "21/21 [==============================] - ETA: 0s - loss: 0.0577 - categorical_accuracy: 0.9864 \n",
      "Epoch 41: saving model to model_init_2023-02-1316_21_51.923749\\model-00041-0.05767-0.98643-1.11006-0.71000.h5\n",
      "21/21 [==============================] - 879s 42s/step - loss: 0.0577 - categorical_accuracy: 0.9864 - val_loss: 1.1101 - val_categorical_accuracy: 0.7100 - lr: 0.0010\n",
      "Epoch 42/50\n",
      "21/21 [==============================] - ETA: 0s - loss: 0.0567 - categorical_accuracy: 0.9879 \n",
      "Epoch 42: saving model to model_init_2023-02-1316_21_51.923749\\model-00042-0.05666-0.98793-1.41561-0.64000.h5\n",
      "21/21 [==============================] - 877s 42s/step - loss: 0.0567 - categorical_accuracy: 0.9879 - val_loss: 1.4156 - val_categorical_accuracy: 0.6400 - lr: 0.0010\n",
      "Epoch 43/50\n",
      "21/21 [==============================] - ETA: 0s - loss: 0.0457 - categorical_accuracy: 0.9955 \n",
      "Epoch 43: saving model to model_init_2023-02-1316_21_51.923749\\model-00043-0.04573-0.99548-0.97456-0.76000.h5\n",
      "21/21 [==============================] - 882s 42s/step - loss: 0.0457 - categorical_accuracy: 0.9955 - val_loss: 0.9746 - val_categorical_accuracy: 0.7600 - lr: 0.0010\n",
      "Epoch 44/50\n",
      "21/21 [==============================] - ETA: 0s - loss: 0.0619 - categorical_accuracy: 0.9849 \n",
      "Epoch 44: saving model to model_init_2023-02-1316_21_51.923749\\model-00044-0.06188-0.98492-1.12332-0.69000.h5\n",
      "21/21 [==============================] - 882s 42s/step - loss: 0.0619 - categorical_accuracy: 0.9849 - val_loss: 1.1233 - val_categorical_accuracy: 0.6900 - lr: 0.0010\n",
      "Epoch 45/50\n",
      "21/21 [==============================] - ETA: 0s - loss: 0.0578 - categorical_accuracy: 0.9879 \n",
      "Epoch 45: saving model to model_init_2023-02-1316_21_51.923749\\model-00045-0.05777-0.98793-1.10935-0.71000.h5\n",
      "21/21 [==============================] - 879s 42s/step - loss: 0.0578 - categorical_accuracy: 0.9879 - val_loss: 1.1093 - val_categorical_accuracy: 0.7100 - lr: 0.0010\n",
      "Epoch 46/50\n",
      "21/21 [==============================] - ETA: 0s - loss: 0.0560 - categorical_accuracy: 0.9910 \n",
      "Epoch 46: saving model to model_init_2023-02-1316_21_51.923749\\model-00046-0.05597-0.99095-1.29591-0.71000.h5\n",
      "21/21 [==============================] - 881s 42s/step - loss: 0.0560 - categorical_accuracy: 0.9910 - val_loss: 1.2959 - val_categorical_accuracy: 0.7100 - lr: 0.0010\n",
      "Epoch 47/50\n",
      "21/21 [==============================] - ETA: 0s - loss: 0.0457 - categorical_accuracy: 0.9955 \n",
      "Epoch 47: saving model to model_init_2023-02-1316_21_51.923749\\model-00047-0.04568-0.99548-1.05067-0.72000.h5\n",
      "21/21 [==============================] - 881s 42s/step - loss: 0.0457 - categorical_accuracy: 0.9955 - val_loss: 1.0507 - val_categorical_accuracy: 0.7200 - lr: 0.0010\n",
      "Epoch 48/50\n",
      "21/21 [==============================] - ETA: 0s - loss: 0.0527 - categorical_accuracy: 0.9894 \n",
      "Epoch 48: saving model to model_init_2023-02-1316_21_51.923749\\model-00048-0.05274-0.98944-1.12259-0.74000.h5\n",
      "21/21 [==============================] - 877s 42s/step - loss: 0.0527 - categorical_accuracy: 0.9894 - val_loss: 1.1226 - val_categorical_accuracy: 0.7400 - lr: 0.0010\n",
      "Epoch 49/50\n",
      "21/21 [==============================] - ETA: 0s - loss: 0.0583 - categorical_accuracy: 0.9940 \n",
      "Epoch 49: saving model to model_init_2023-02-1316_21_51.923749\\model-00049-0.05828-0.99397-1.09018-0.73000.h5\n",
      "21/21 [==============================] - 904s 43s/step - loss: 0.0583 - categorical_accuracy: 0.9940 - val_loss: 1.0902 - val_categorical_accuracy: 0.7300 - lr: 0.0010\n",
      "Epoch 50/50\n",
      "21/21 [==============================] - ETA: 0s - loss: 0.0480 - categorical_accuracy: 0.9925 \n",
      "Epoch 50: saving model to model_init_2023-02-1316_21_51.923749\\model-00050-0.04796-0.99246-1.18595-0.72000.h5\n",
      "21/21 [==============================] - 891s 42s/step - loss: 0.0480 - categorical_accuracy: 0.9925 - val_loss: 1.1860 - val_categorical_accuracy: 0.7200 - lr: 0.0010\n"
     ]
    }
   ],
   "source": [
    "history=model.fit_generator(train_generator, steps_per_epoch=steps_per_epoch, epochs=num_epochs, verbose=1, \n",
    "                    callbacks=callbacks_list, validation_data=val_generator, \n",
    "                    validation_steps=validation_steps, class_weight=None, workers=1, initial_epoch=0)"
   ]
  },
  {
   "cell_type": "code",
   "execution_count": 41,
   "metadata": {},
   "outputs": [
    {
     "data": {
      "image/png": "[encoded data removed]",
      "text/plain": [
       "<Figure size 640x480 with 1 Axes>"
      ]
     },
     "metadata": {},
     "output_type": "display_data"
    }
   ],
   "source": [
    "import matplotlib.pyplot as plt\n",
    "\n",
    "# Plot training & validation loss values\n",
    "plt.plot(history.history['loss'])\n",
    "plt.plot(history.history['val_loss'])\n",
    "plt.title('Model loss')\n",
    "plt.ylabel('Loss')\n",
    "plt.xlabel('Epoch')\n",
    "plt.legend(['Train', 'Val'], loc='upper left')\n",
    "plt.show()"
   ]
  },
  {
   "cell_type": "code",
   "execution_count": 45,
   "metadata": {},
   "outputs": [
    {
     "data": {
      "image/png": "[encoded data removed]",
      "text/plain": [
       "<Figure size 640x480 with 1 Axes>"
      ]
     },
     "metadata": {},
     "output_type": "display_data"
    }
   ],
   "source": [
    "# Plot training & validation accuracy values\n",
    "plt.plot(history.history['categorical_accuracy'])\n",
    "plt.plot(history.history['val_categorical_accuracy'])\n",
    "plt.title('Model accuracy')\n",
    "plt.ylabel('Accuracy')\n",
    "plt.xlabel('Epoch')\n",
    "plt.legend(['Train', 'Val'], loc='upper left')\n",
    "plt.show()"
   ]
  },
  {
   "cell_type": "code",
   "execution_count": 47,
   "metadata": {},
   "outputs": [],
   "source": [
    "model.save_weights(\"model_1.h5\")"
   ]
  },
  {
   "cell_type": "code",
   "execution_count": null,
   "metadata": {},
   "outputs": [],
   "source": []
  },
  {
   "cell_type": "code",
   "execution_count": null,
   "metadata": {},
   "outputs": [],
   "source": []
  }
 ],
 "metadata": {
  "kernelspec": {
   "display_name": "Python 3 (ipykernel)",
   "language": "python",
   "name": "python3"
  },
  "language_info": {
   "codemirror_mode": {
    "name": "ipython",
    "version": 3
   },
   "file_extension": ".py",
   "mimetype": "text/x-python",
   "name": "python",
   "nbconvert_exporter": "python",
   "pygments_lexer": "ipython3",
   "version": "3.9.13"
  }
 },
 "nbformat": 4,
 "nbformat_minor": 2
}
