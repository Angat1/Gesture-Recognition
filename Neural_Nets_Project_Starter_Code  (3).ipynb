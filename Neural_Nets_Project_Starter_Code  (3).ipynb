{
 "cells": [
  {
   "cell_type": "markdown",
   "metadata": {},
   "source": [
    "# Gesture Recognition\n",
    "In this group project, you are going to build a 3D Conv model that will be able to predict the 5 gestures correctly. Please import the following libraries to get started."
   ]
  },
  {
   "cell_type": "code",
   "execution_count": 13,
   "metadata": {},
   "outputs": [],
   "source": [
    "import numpy as np\n",
    "import os\n",
    "#from scipy.misc import imread, imresize\n",
    "import imageio\n",
    "import datetime\n",
    "import os\n",
    "from skimage.io import imread\n",
    "import cv2"
   ]
  },
  {
   "cell_type": "markdown",
   "metadata": {},
   "source": [
    "We set the random seed so that the results don't vary drastically."
   ]
  },
  {
   "cell_type": "code",
   "execution_count": 14,
   "metadata": {
    "scrolled": true
   },
   "outputs": [],
   "source": [
    "np.random.seed(30)\n",
    "import random as rn\n",
    "rn.seed(30)\n",
    "from keras import backend as K\n",
    "import tensorflow as tf\n",
    "tf.random.set_seed(30)"
   ]
  },
  {
   "cell_type": "markdown",
   "metadata": {},
   "source": [
    "In this block, you read the folder names for training and validation. You also set the `batch_size` here. Note that you set the batch size in such a way that you are able to use the GPU in full capacity. You keep increasing the batch size until the machine throws an error."
   ]
  },
  {
   "cell_type": "code",
   "execution_count": 15,
   "metadata": {},
   "outputs": [],
   "source": [
    "train_doc = np.random.permutation(open('E:/Project_data/Project_data/train.csv').readlines())\n",
    "val_doc = np.random.permutation(open('E:/Project_data/Project_data/val.csv').readlines())\n",
    "batch_size = 50\n"
   ]
  },
  {
   "cell_type": "markdown",
   "metadata": {},
   "source": [
    "## Generator\n",
    "This is one of the most important part of the code. The overall structure of the generator has been given. In the generator, you are going to preprocess the images as you have images of 2 different dimensions as well as create a batch of video frames. You have to experiment with `img_idx`, `y`,`z` and normalization such that you get high accuracy."
   ]
  },
  {
   "cell_type": "code",
   "execution_count": 16,
   "metadata": {},
   "outputs": [],
   "source": [
    "def generator(source_path, folder_list, batch_size):\n",
    "    print( 'Source path = ', source_path, '; batch size =', batch_size)\n",
    "    img_idx = [0,3,6,10,16,20,24,26,29]#create a list of image numbers you want to use for a particular video\n",
    "    while True:\n",
    "        t = np.random.permutation(folder_list)\n",
    "        num_batches = int(len(folder_list)/batch_size)\n",
    "        # calculate the number of batches\n",
    "        for batch in range(num_batches): # we iterate over the number of batches\n",
    "            x=len(img_idx)\n",
    "            #batch_data = np.zeros((batch_size,x,y,z,3)) # x is the number of images you use for each video, (y,z) is the final size of the input images and 3 is the number of channels RGB\n",
    "            batch_data = np.zeros((batch_size,x,100,100,3))\n",
    "            batch_labels = np.zeros((batch_size,5)) # batch_labels is the one hot representation of the output\n",
    "            for folder in range(batch_size): # iterate over the batch_size\n",
    "                imgs = os.listdir(source_path+'/'+ t[folder + (batch*batch_size)].split(';')[0]) # read all the images in the folder\n",
    "                for idx,item in enumerate(img_idx): #  Iterate iver the frames/images of a folder to read them in\n",
    "                    image = imread(source_path+'/'+ t[folder + (batch*batch_size)].strip().split(';')[0]+'/'+imgs[item]).astype(np.float32)\n",
    "\n",
    "                    \n",
    "                    #crop the images and resize them. Note that the images are of 2 different shape \n",
    "                    #and the conv3D will throw error if the inputs in a batch have different shapes\n",
    "                    \n",
    "                    height, width, channel = image.shape\n",
    "                    if height == 120 and width == 120:\n",
    "                        image = image[20:140, :120, :]\n",
    "                    image = cv2.resize(image, (100, 100)) #resizing all image to 100*100\n",
    "                    image = image/255\n",
    "\n",
    "                    batch_data[folder,idx,:,:,0] = image[:,:,0]\n",
    "                    #normalise and feed in the image\n",
    "                    batch_data[folder,idx,:,:,1] = image[:,:,1]\n",
    "                    #normalise and feed in the image\n",
    "                    batch_data[folder,idx,:,:,2] = image[:,:,2]\n",
    "                    #normalise and feed in the image\n",
    "\n",
    "                batch_labels[folder, int(t[folder + (batch*batch_size)].strip().split(';')[2])] = 1\n",
    "            yield batch_data, batch_labels #you yield the batch_data and the batch_labels, remember what does yield do\n",
    "\n",
    "        # write the code for the remaining data points which are left after full batches\n",
    "        if len(folder_list) > num_batches * batch_size:\n",
    "            x=len(img_idx)\n",
    "            rem = len(folder_list) - (num_batches * batch_size)\n",
    "            batch_data = np.zeros((rem,x,100,100,3))\n",
    "            batch_labels = np.zeros((rem,5)) # batch_labels is the one hot representation of the output\n",
    "            for folder in range(rem): # iterate over the batch_size\n",
    "                imgs = os.listdir(source_path+'/'+ t[folder + (num_batches * batch_size)].split(';')[0]) # read all the images in the folder\n",
    "                for idx,item in enumerate(img_idx): #  Iterate iver the frames/images of a folder to read them in\n",
    "                    image = imread(source_path+'/'+ t[folder + (num_batches * batch_size)].strip().split(';')[0]+'/'+imgs[item]).astype(np.float32)\n",
    "                    \n",
    "                    #crop the images and resize them. Note that the images are of 2 different shape \n",
    "                    #and the conv3D will throw error if the inputs in a batch have different shapes\n",
    "                    \n",
    "                    height, width , channel = image.shape\n",
    "                    if height == 120 or width == 120:\n",
    "                        image=image[20:140,:120,:]\n",
    "                    image = cv2.resize(image,(100,100))\n",
    "                    image = image/255\n",
    "                    batch_data[folder,idx,:,:,0] = image[:,:,0]\n",
    "                    #normalise and feed in the image\n",
    "                    batch_data[folder,idx,:,:,1] = image[:,:,1]\n",
    "                    #normalise and feed in the image\n",
    "                    batch_data[folder,idx,:,:,2] = image[:,:,2]\n",
    "                    #normalise and feed in the image\n",
    "\n",
    "                batch_labels[folder, int(t[folder + (num_batches * batch_size)].strip().split(';')[2])] = 1\n",
    "            yield batch_data, batch_labels #you yield the batch_data and the batch_labels, remember what does yield do"
   ]
  },
  {
   "cell_type": "markdown",
   "metadata": {},
   "source": [
    "Note here that a video is represented above in the generator as (number of images, height, width, number of channels). Take this into consideration while creating the model architecture."
   ]
  },
  {
   "cell_type": "code",
   "execution_count": 17,
   "metadata": {},
   "outputs": [
    {
     "name": "stdout",
     "output_type": "stream",
     "text": [
      "# training sequences = 663\n",
      "# validation sequences = 100\n",
      "# epochs = 50\n"
     ]
    }
   ],
   "source": [
    "curr_dt_time = datetime.datetime.now()\n",
    "train_path = 'E:/Project_data/Project_data/train'\n",
    "val_path = 'E:/Project_data/Project_data/val'\n",
    "num_train_sequences = len(train_doc)\n",
    "print('# training sequences =', num_train_sequences)\n",
    "num_val_sequences = len(val_doc)\n",
    "print('# validation sequences =', num_val_sequences)\n",
    "num_epochs = 50\n",
    "print ('# epochs =', num_epochs)"
   ]
  },
  {
   "cell_type": "markdown",
   "metadata": {},
   "source": [
    "## Model\n",
    "Here you make the model using different functionalities that Keras provides. Remember to use `Conv3D` and `MaxPooling3D` and not `Conv2D` and `Maxpooling2D` for a 3D convolution model. You would want to use `TimeDistributed` while building a Conv2D + RNN model. Also remember that the last layer is the softmax. Design the network in such a way that the model is able to give good accuracy on the least number of parameters so that it can fit in the memory of the webcam."
   ]
  },
  {
   "cell_type": "code",
   "execution_count": 28,
   "metadata": {
    "scrolled": true
   },
   "outputs": [],
   "source": [
    "from keras.models import Sequential\n",
    "from keras.layers import Conv3D, MaxPooling3D, Activation, Dropout, Flatten, Dense, BatchNormalization\n",
    "\n",
    "# Define model\n",
    "model = Sequential()\n",
    "\n",
    "# Add convolutional layers\n",
    "model.add(Conv3D(32, (3,3,3), input_shape=(15, 100, 100, 3), padding='same'))\n",
    "model.add(BatchNormalization())\n",
    "model.add(Activation('relu'))\n",
    "model.add(MaxPooling3D(pool_size=(2,2,2)))\n",
    "\n",
    "model.add(Conv3D(64, (3,3,3), padding='same'))\n",
    "model.add(BatchNormalization())\n",
    "model.add(Activation('relu'))\n",
    "model.add(MaxPooling3D(pool_size=(2,2,2)))\n",
    "\n",
    "model.add(Conv3D(128, (3,3,3), padding='same'))\n",
    "model.add(BatchNormalization())\n",
    "model.add(Activation('relu'))\n",
    "model.add(MaxPooling3D(pool_size=(2,2,2)))\n",
    "\n",
    "# Flatten the output and feed it into a fully connected layer\n",
    "model.add(Flatten())\n",
    "model.add(Dense(64, activation='relu'))\n",
    "model.add(Dropout(0.5))\n",
    "\n",
    "# Add the output layer with softmax activation\n",
    "model.add(Dense(5, activation='softmax'))\n",
    "\n"
   ]
  },
  {
   "cell_type": "markdown",
   "metadata": {},
   "source": [
    "Now that you have written the model, the next step is to `compile` the model. When you print the `summary` of the model, you'll see the total number of parameters you have to train."
   ]
  },
  {
   "cell_type": "code",
   "execution_count": 29,
   "metadata": {
    "scrolled": true
   },
   "outputs": [
    {
     "name": "stdout",
     "output_type": "stream",
     "text": [
      "Model: \"sequential_3\"\n",
      "_________________________________________________________________\n",
      " Layer (type)                Output Shape              Param #   \n",
      "=================================================================\n",
      " conv3d_8 (Conv3D)           (None, 15, 100, 100, 32)  2624      \n",
      "                                                                 \n",
      " batch_normalization (BatchN  (None, 15, 100, 100, 32)  128      \n",
      " ormalization)                                                   \n",
      "                                                                 \n",
      " activation (Activation)     (None, 15, 100, 100, 32)  0         \n",
      "                                                                 \n",
      " max_pooling3d_8 (MaxPooling  (None, 7, 50, 50, 32)    0         \n",
      " 3D)                                                             \n",
      "                                                                 \n",
      " conv3d_9 (Conv3D)           (None, 7, 50, 50, 64)     55360     \n",
      "                                                                 \n",
      " batch_normalization_1 (Batc  (None, 7, 50, 50, 64)    256       \n",
      " hNormalization)                                                 \n",
      "                                                                 \n",
      " activation_1 (Activation)   (None, 7, 50, 50, 64)     0         \n",
      "                                                                 \n",
      " max_pooling3d_9 (MaxPooling  (None, 3, 25, 25, 64)    0         \n",
      " 3D)                                                             \n",
      "                                                                 \n",
      " conv3d_10 (Conv3D)          (None, 3, 25, 25, 128)    221312    \n",
      "                                                                 \n",
      " batch_normalization_2 (Batc  (None, 3, 25, 25, 128)   512       \n",
      " hNormalization)                                                 \n",
      "                                                                 \n",
      " activation_2 (Activation)   (None, 3, 25, 25, 128)    0         \n",
      "                                                                 \n",
      " max_pooling3d_10 (MaxPoolin  (None, 1, 12, 12, 128)   0         \n",
      " g3D)                                                            \n",
      "                                                                 \n",
      " flatten_2 (Flatten)         (None, 18432)             0         \n",
      "                                                                 \n",
      " dense_6 (Dense)             (None, 64)                1179712   \n",
      "                                                                 \n",
      " dropout_4 (Dropout)         (None, 64)                0         \n",
      "                                                                 \n",
      " dense_7 (Dense)             (None, 5)                 325       \n",
      "                                                                 \n",
      "=================================================================\n",
      "Total params: 1,460,229\n",
      "Trainable params: 1,459,781\n",
      "Non-trainable params: 448\n",
      "_________________________________________________________________\n",
      "None\n"
     ]
    }
   ],
   "source": [
    "optimiser = 'SGD'\n",
    "model.compile(optimizer=optimiser, loss='categorical_crossentropy', metrics=['categorical_accuracy'])\n",
    "print (model.summary())"
   ]
  },
  {
   "cell_type": "markdown",
   "metadata": {},
   "source": [
    "Let us create the `train_generator` and the `val_generator` which will be used in `.fit_generator`."
   ]
  },
  {
   "cell_type": "code",
   "execution_count": 30,
   "metadata": {},
   "outputs": [],
   "source": [
    "train_generator = generator(train_path, train_doc, batch_size)\n",
    "val_generator = generator(val_path, val_doc, batch_size)"
   ]
  },
  {
   "cell_type": "code",
   "execution_count": 31,
   "metadata": {},
   "outputs": [
    {
     "name": "stdout",
     "output_type": "stream",
     "text": [
      "WARNING:tensorflow:`period` argument is deprecated. Please use `save_freq` to specify the frequency in number of batches seen.\n"
     ]
    }
   ],
   "source": [
    "from keras.callbacks import ModelCheckpoint, ReduceLROnPlateau\n",
    "model_name = 'model_init' + '_' + str(curr_dt_time).replace(' ','').replace(':','_') + '/'\n",
    "    \n",
    "if not os.path.exists(model_name):\n",
    "    os.mkdir(model_name)\n",
    "        \n",
    "filepath = model_name + 'model-{epoch:05d}-{loss:.5f}-{categorical_accuracy:.5f}-{val_loss:.5f}-{val_categorical_accuracy:.5f}.h5'\n",
    "\n",
    "checkpoint = ModelCheckpoint(filepath, monitor='val_loss', verbose=1, save_best_only=False, save_weights_only=False, mode='auto', period=1)\n",
    "LR = ReduceLROnPlateau(monitor='val_loss', factor=0.2, patience=5, min_lr=0.001)\n",
    "callbacks_list = [checkpoint, LR]"
   ]
  },
  {
   "cell_type": "markdown",
   "metadata": {},
   "source": [
    "The `steps_per_epoch` and `validation_steps` are used by `fit_generator` to decide the number of next() calls it need to make."
   ]
  },
  {
   "cell_type": "code",
   "execution_count": 32,
   "metadata": {},
   "outputs": [],
   "source": [
    "if (num_train_sequences%batch_size) == 0:\n",
    "    steps_per_epoch = int(num_train_sequences/batch_size)\n",
    "else:\n",
    "    steps_per_epoch = (num_train_sequences//batch_size) + 1\n",
    "\n",
    "if (num_val_sequences%batch_size) == 0:\n",
    "    validation_steps = int(num_val_sequences/batch_size)\n",
    "else:\n",
    "    validation_steps = (num_val_sequences//batch_size) + 1"
   ]
  },
  {
   "cell_type": "markdown",
   "metadata": {},
   "source": [
    "Let us now fit the model. This will start training the model and with the help of the checkpoints, you'll be able to save the model at the end of each epoch."
   ]
  },
  {
   "cell_type": "code",
   "execution_count": 33,
   "metadata": {},
   "outputs": [
    {
     "name": "stderr",
     "output_type": "stream",
     "text": [
      "C:\\Users\\Administrator\\AppData\\Local\\Temp\\2\\ipykernel_14556\\1787904139.py:1: UserWarning: `Model.fit_generator` is deprecated and will be removed in a future version. Please use `Model.fit`, which supports generators.\n",
      "  history=model.fit_generator(train_generator, steps_per_epoch=steps_per_epoch, epochs=num_epochs, verbose=1,\n"
     ]
    },
    {
     "name": "stdout",
     "output_type": "stream",
     "text": [
      "Source path =  E:/Project_data/Project_data/train ; batch size = 50\n",
      "Epoch 1/50\n",
      "14/14 [==============================] - ETA: 0s - loss: 3.0596 - categorical_accuracy: 0.2308 Source path =  E:/Project_data/Project_data/val ; batch size = 50\n",
      "\n",
      "Epoch 1: saving model to model_init_2023-02-1408_12_59.442406\\model-00001-3.05961-0.23077-1.60972-0.18000.h5\n",
      "14/14 [==============================] - 500s 35s/step - loss: 3.0596 - categorical_accuracy: 0.2308 - val_loss: 1.6097 - val_categorical_accuracy: 0.1800 - lr: 0.0100\n",
      "Epoch 2/50\n",
      "14/14 [==============================] - ETA: 0s - loss: 1.6111 - categorical_accuracy: 0.2051 \n",
      "Epoch 2: saving model to model_init_2023-02-1408_12_59.442406\\model-00002-1.61114-0.20513-1.61090-0.18000.h5\n",
      "14/14 [==============================] - 499s 36s/step - loss: 1.6111 - categorical_accuracy: 0.2051 - val_loss: 1.6109 - val_categorical_accuracy: 0.1800 - lr: 0.0100\n",
      "Epoch 3/50\n",
      "14/14 [==============================] - ETA: 0s - loss: 1.6155 - categorical_accuracy: 0.2036 \n",
      "Epoch 3: saving model to model_init_2023-02-1408_12_59.442406\\model-00003-1.61546-0.20362-1.61303-0.18000.h5\n",
      "14/14 [==============================] - 499s 36s/step - loss: 1.6155 - categorical_accuracy: 0.2036 - val_loss: 1.6130 - val_categorical_accuracy: 0.1800 - lr: 0.0100\n",
      "Epoch 4/50\n",
      "14/14 [==============================] - ETA: 0s - loss: 1.6094 - categorical_accuracy: 0.2051 \n",
      "Epoch 4: saving model to model_init_2023-02-1408_12_59.442406\\model-00004-1.60940-0.20513-1.61241-0.18000.h5\n",
      "14/14 [==============================] - 506s 36s/step - loss: 1.6094 - categorical_accuracy: 0.2051 - val_loss: 1.6124 - val_categorical_accuracy: 0.1800 - lr: 0.0100\n",
      "Epoch 5/50\n",
      "14/14 [==============================] - ETA: 0s - loss: 1.6094 - categorical_accuracy: 0.2051 \n",
      "Epoch 5: saving model to model_init_2023-02-1408_12_59.442406\\model-00005-1.60940-0.20513-1.61603-0.18000.h5\n",
      "14/14 [==============================] - 511s 36s/step - loss: 1.6094 - categorical_accuracy: 0.2051 - val_loss: 1.6160 - val_categorical_accuracy: 0.1800 - lr: 0.0100\n",
      "Epoch 6/50\n",
      "14/14 [==============================] - ETA: 0s - loss: 1.6093 - categorical_accuracy: 0.2051 \n",
      "Epoch 6: saving model to model_init_2023-02-1408_12_59.442406\\model-00006-1.60931-0.20513-1.60681-0.25000.h5\n",
      "14/14 [==============================] - 505s 36s/step - loss: 1.6093 - categorical_accuracy: 0.2051 - val_loss: 1.6068 - val_categorical_accuracy: 0.2500 - lr: 0.0100\n",
      "Epoch 7/50\n",
      "14/14 [==============================] - ETA: 0s - loss: 1.6093 - categorical_accuracy: 0.2051 \n",
      "Epoch 7: saving model to model_init_2023-02-1408_12_59.442406\\model-00007-1.60930-0.20513-1.61860-0.18000.h5\n",
      "14/14 [==============================] - 502s 36s/step - loss: 1.6093 - categorical_accuracy: 0.2051 - val_loss: 1.6186 - val_categorical_accuracy: 0.1800 - lr: 0.0100\n",
      "Epoch 8/50\n",
      "14/14 [==============================] - ETA: 0s - loss: 1.6093 - categorical_accuracy: 0.2051 \n",
      "Epoch 8: saving model to model_init_2023-02-1408_12_59.442406\\model-00008-1.60929-0.20513-1.61695-0.17000.h5\n",
      "14/14 [==============================] - 502s 36s/step - loss: 1.6093 - categorical_accuracy: 0.2051 - val_loss: 1.6170 - val_categorical_accuracy: 0.1700 - lr: 0.0100\n",
      "Epoch 9/50\n",
      "14/14 [==============================] - ETA: 0s - loss: 1.6092 - categorical_accuracy: 0.2051 \n",
      "Epoch 9: saving model to model_init_2023-02-1408_12_59.442406\\model-00009-1.60925-0.20513-1.61954-0.18000.h5\n",
      "14/14 [==============================] - 502s 36s/step - loss: 1.6092 - categorical_accuracy: 0.2051 - val_loss: 1.6195 - val_categorical_accuracy: 0.1800 - lr: 0.0100\n",
      "Epoch 10/50\n",
      "14/14 [==============================] - ETA: 0s - loss: 1.6092 - categorical_accuracy: 0.1916 \n",
      "Epoch 10: saving model to model_init_2023-02-1408_12_59.442406\\model-00010-1.60924-0.19155-1.62692-0.16000.h5\n",
      "14/14 [==============================] - 503s 36s/step - loss: 1.6092 - categorical_accuracy: 0.1916 - val_loss: 1.6269 - val_categorical_accuracy: 0.1600 - lr: 0.0100\n",
      "Epoch 11/50\n",
      "14/14 [==============================] - ETA: 0s - loss: 1.6092 - categorical_accuracy: 0.1900 \n",
      "Epoch 11: saving model to model_init_2023-02-1408_12_59.442406\\model-00011-1.60920-0.19005-1.61953-0.18000.h5\n",
      "14/14 [==============================] - 505s 36s/step - loss: 1.6092 - categorical_accuracy: 0.1900 - val_loss: 1.6195 - val_categorical_accuracy: 0.1800 - lr: 0.0100\n",
      "Epoch 12/50\n",
      "14/14 [==============================] - ETA: 0s - loss: 1.6091 - categorical_accuracy: 0.2051 \n",
      "Epoch 12: saving model to model_init_2023-02-1408_12_59.442406\\model-00012-1.60910-0.20513-1.62589-0.17000.h5\n",
      "14/14 [==============================] - 504s 36s/step - loss: 1.6091 - categorical_accuracy: 0.2051 - val_loss: 1.6259 - val_categorical_accuracy: 0.1700 - lr: 0.0020\n",
      "Epoch 13/50\n",
      "14/14 [==============================] - ETA: 0s - loss: 1.6091 - categorical_accuracy: 0.2051 \n",
      "Epoch 13: saving model to model_init_2023-02-1408_12_59.442406\\model-00013-1.60909-0.20513-1.61886-0.18000.h5\n",
      "14/14 [==============================] - 502s 36s/step - loss: 1.6091 - categorical_accuracy: 0.2051 - val_loss: 1.6189 - val_categorical_accuracy: 0.1800 - lr: 0.0020\n",
      "Epoch 14/50\n",
      "14/14 [==============================] - ETA: 0s - loss: 1.6091 - categorical_accuracy: 0.1991 \n",
      "Epoch 14: saving model to model_init_2023-02-1408_12_59.442406\\model-00014-1.60908-0.19910-1.61773-0.19000.h5\n",
      "14/14 [==============================] - 501s 36s/step - loss: 1.6091 - categorical_accuracy: 0.1991 - val_loss: 1.6177 - val_categorical_accuracy: 0.1900 - lr: 0.0020\n",
      "Epoch 15/50\n",
      "14/14 [==============================] - ETA: 0s - loss: 1.6091 - categorical_accuracy: 0.2051 \n",
      "Epoch 15: saving model to model_init_2023-02-1408_12_59.442406\\model-00015-1.60908-0.20513-1.61691-0.18000.h5\n",
      "14/14 [==============================] - 497s 35s/step - loss: 1.6091 - categorical_accuracy: 0.2051 - val_loss: 1.6169 - val_categorical_accuracy: 0.1800 - lr: 0.0020\n",
      "Epoch 16/50\n",
      "14/14 [==============================] - ETA: 0s - loss: 1.6091 - categorical_accuracy: 0.2051 \n",
      "Epoch 16: saving model to model_init_2023-02-1408_12_59.442406\\model-00016-1.60907-0.20513-1.61677-0.19000.h5\n",
      "14/14 [==============================] - 495s 35s/step - loss: 1.6091 - categorical_accuracy: 0.2051 - val_loss: 1.6168 - val_categorical_accuracy: 0.1900 - lr: 0.0020\n",
      "Epoch 17/50\n",
      "14/14 [==============================] - ETA: 0s - loss: 1.6091 - categorical_accuracy: 0.1916 \n",
      "Epoch 17: saving model to model_init_2023-02-1408_12_59.442406\\model-00017-1.60906-0.19155-1.61400-0.18000.h5\n",
      "14/14 [==============================] - 496s 35s/step - loss: 1.6091 - categorical_accuracy: 0.1916 - val_loss: 1.6140 - val_categorical_accuracy: 0.1800 - lr: 0.0010\n",
      "Epoch 18/50\n",
      "14/14 [==============================] - ETA: 0s - loss: 1.6091 - categorical_accuracy: 0.1976 \n",
      "Epoch 18: saving model to model_init_2023-02-1408_12_59.442406\\model-00018-1.60906-0.19759-1.61462-0.18000.h5\n",
      "14/14 [==============================] - 493s 35s/step - loss: 1.6091 - categorical_accuracy: 0.1976 - val_loss: 1.6146 - val_categorical_accuracy: 0.1800 - lr: 0.0010\n",
      "Epoch 19/50\n",
      "14/14 [==============================] - ETA: 0s - loss: 1.6091 - categorical_accuracy: 0.2036 \n",
      "Epoch 19: saving model to model_init_2023-02-1408_12_59.442406\\model-00019-1.60906-0.20362-1.61161-0.24000.h5\n",
      "14/14 [==============================] - 493s 35s/step - loss: 1.6091 - categorical_accuracy: 0.2036 - val_loss: 1.6116 - val_categorical_accuracy: 0.2400 - lr: 0.0010\n",
      "Epoch 20/50\n",
      "14/14 [==============================] - ETA: 0s - loss: 1.6091 - categorical_accuracy: 0.2066 \n",
      "Epoch 20: saving model to model_init_2023-02-1408_12_59.442406\\model-00020-1.60906-0.20664-1.60796-0.28000.h5\n",
      "14/14 [==============================] - 493s 35s/step - loss: 1.6091 - categorical_accuracy: 0.2066 - val_loss: 1.6080 - val_categorical_accuracy: 0.2800 - lr: 0.0010\n",
      "Epoch 21/50\n",
      "14/14 [==============================] - ETA: 0s - loss: 1.6091 - categorical_accuracy: 0.1900 \n",
      "Epoch 21: saving model to model_init_2023-02-1408_12_59.442406\\model-00021-1.60905-0.19005-1.60979-0.25000.h5\n",
      "14/14 [==============================] - 495s 35s/step - loss: 1.6091 - categorical_accuracy: 0.1900 - val_loss: 1.6098 - val_categorical_accuracy: 0.2500 - lr: 0.0010\n",
      "Epoch 22/50\n",
      "14/14 [==============================] - ETA: 0s - loss: 1.6091 - categorical_accuracy: 0.2066 \n",
      "Epoch 22: saving model to model_init_2023-02-1408_12_59.442406\\model-00022-1.60905-0.20664-1.60821-0.26000.h5\n",
      "14/14 [==============================] - 493s 35s/step - loss: 1.6091 - categorical_accuracy: 0.2066 - val_loss: 1.6082 - val_categorical_accuracy: 0.2600 - lr: 0.0010\n",
      "Epoch 23/50\n",
      "14/14 [==============================] - ETA: 0s - loss: 1.6090 - categorical_accuracy: 0.2066 \n",
      "Epoch 23: saving model to model_init_2023-02-1408_12_59.442406\\model-00023-1.60905-0.20664-1.60901-0.30000.h5\n",
      "14/14 [==============================] - 491s 35s/step - loss: 1.6090 - categorical_accuracy: 0.2066 - val_loss: 1.6090 - val_categorical_accuracy: 0.3000 - lr: 0.0010\n",
      "Epoch 24/50\n",
      "14/14 [==============================] - ETA: 0s - loss: 1.6090 - categorical_accuracy: 0.1885 \n",
      "Epoch 24: saving model to model_init_2023-02-1408_12_59.442406\\model-00024-1.60905-0.18854-1.60794-0.30000.h5\n",
      "14/14 [==============================] - 491s 35s/step - loss: 1.6090 - categorical_accuracy: 0.1885 - val_loss: 1.6079 - val_categorical_accuracy: 0.3000 - lr: 0.0010\n",
      "Epoch 25/50\n",
      "14/14 [==============================] - ETA: 0s - loss: 1.6090 - categorical_accuracy: 0.2066 \n",
      "Epoch 25: saving model to model_init_2023-02-1408_12_59.442406\\model-00025-1.60905-0.20664-1.60831-0.30000.h5\n",
      "14/14 [==============================] - 489s 35s/step - loss: 1.6090 - categorical_accuracy: 0.2066 - val_loss: 1.6083 - val_categorical_accuracy: 0.3000 - lr: 0.0010\n",
      "Epoch 26/50\n",
      "14/14 [==============================] - ETA: 0s - loss: 1.6090 - categorical_accuracy: 0.2066 \n",
      "Epoch 26: saving model to model_init_2023-02-1408_12_59.442406\\model-00026-1.60905-0.20664-1.60912-0.27000.h5\n",
      "14/14 [==============================] - 490s 35s/step - loss: 1.6090 - categorical_accuracy: 0.2066 - val_loss: 1.6091 - val_categorical_accuracy: 0.2700 - lr: 0.0010\n",
      "Epoch 27/50\n",
      "14/14 [==============================] - ETA: 0s - loss: 1.6090 - categorical_accuracy: 0.2066 \n",
      "Epoch 27: saving model to model_init_2023-02-1408_12_59.442406\\model-00027-1.60905-0.20664-1.60845-0.28000.h5\n",
      "14/14 [==============================] - 493s 35s/step - loss: 1.6090 - categorical_accuracy: 0.2066 - val_loss: 1.6084 - val_categorical_accuracy: 0.2800 - lr: 0.0010\n",
      "Epoch 28/50\n",
      "14/14 [==============================] - ETA: 0s - loss: 1.6093 - categorical_accuracy: 0.2066 \n",
      "Epoch 28: saving model to model_init_2023-02-1408_12_59.442406\\model-00028-1.60935-0.20664-1.61097-0.27000.h5\n",
      "14/14 [==============================] - 498s 36s/step - loss: 1.6093 - categorical_accuracy: 0.2066 - val_loss: 1.6110 - val_categorical_accuracy: 0.2700 - lr: 0.0010\n",
      "Epoch 29/50\n",
      "14/14 [==============================] - ETA: 0s - loss: 1.6090 - categorical_accuracy: 0.2066 \n",
      "Epoch 29: saving model to model_init_2023-02-1408_12_59.442406\\model-00029-1.60904-0.20664-1.60902-0.27000.h5\n",
      "14/14 [==============================] - 499s 35s/step - loss: 1.6090 - categorical_accuracy: 0.2066 - val_loss: 1.6090 - val_categorical_accuracy: 0.2700 - lr: 0.0010\n",
      "Epoch 30/50\n",
      "14/14 [==============================] - ETA: 0s - loss: 1.6090 - categorical_accuracy: 0.2066 \n",
      "Epoch 30: saving model to model_init_2023-02-1408_12_59.442406\\model-00030-1.60904-0.20664-1.60964-0.23000.h5\n",
      "14/14 [==============================] - 497s 35s/step - loss: 1.6090 - categorical_accuracy: 0.2066 - val_loss: 1.6096 - val_categorical_accuracy: 0.2300 - lr: 0.0010\n",
      "Epoch 31/50\n",
      "14/14 [==============================] - ETA: 0s - loss: 1.6090 - categorical_accuracy: 0.2066 \n",
      "Epoch 31: saving model to model_init_2023-02-1408_12_59.442406\\model-00031-1.60904-0.20664-1.60929-0.23000.h5\n",
      "14/14 [==============================] - 498s 36s/step - loss: 1.6090 - categorical_accuracy: 0.2066 - val_loss: 1.6093 - val_categorical_accuracy: 0.2300 - lr: 0.0010\n",
      "Epoch 32/50\n",
      "14/14 [==============================] - ETA: 0s - loss: 1.6090 - categorical_accuracy: 0.2066 \n",
      "Epoch 32: saving model to model_init_2023-02-1408_12_59.442406\\model-00032-1.60903-0.20664-1.60830-0.19000.h5\n",
      "14/14 [==============================] - 500s 36s/step - loss: 1.6090 - categorical_accuracy: 0.2066 - val_loss: 1.6083 - val_categorical_accuracy: 0.1900 - lr: 0.0010\n",
      "Epoch 33/50\n",
      "14/14 [==============================] - ETA: 0s - loss: 1.6090 - categorical_accuracy: 0.2066 \n",
      "Epoch 33: saving model to model_init_2023-02-1408_12_59.442406\\model-00033-1.60903-0.20664-1.60889-0.23000.h5\n",
      "14/14 [==============================] - 500s 36s/step - loss: 1.6090 - categorical_accuracy: 0.2066 - val_loss: 1.6089 - val_categorical_accuracy: 0.2300 - lr: 0.0010\n",
      "Epoch 34/50\n",
      "14/14 [==============================] - ETA: 0s - loss: 1.6090 - categorical_accuracy: 0.2066 \n",
      "Epoch 34: saving model to model_init_2023-02-1408_12_59.442406\\model-00034-1.60903-0.20664-1.60783-0.25000.h5\n",
      "14/14 [==============================] - 500s 36s/step - loss: 1.6090 - categorical_accuracy: 0.2066 - val_loss: 1.6078 - val_categorical_accuracy: 0.2500 - lr: 0.0010\n",
      "Epoch 35/50\n",
      "14/14 [==============================] - ETA: 0s - loss: 1.6090 - categorical_accuracy: 0.2066 \n",
      "Epoch 35: saving model to model_init_2023-02-1408_12_59.442406\\model-00035-1.60903-0.20664-1.60860-0.23000.h5\n",
      "14/14 [==============================] - 499s 36s/step - loss: 1.6090 - categorical_accuracy: 0.2066 - val_loss: 1.6086 - val_categorical_accuracy: 0.2300 - lr: 0.0010\n",
      "Epoch 36/50\n",
      "14/14 [==============================] - ETA: 0s - loss: 1.6090 - categorical_accuracy: 0.2066 \n",
      "Epoch 36: saving model to model_init_2023-02-1408_12_59.442406\\model-00036-1.60903-0.20664-1.60924-0.22000.h5\n",
      "14/14 [==============================] - 500s 36s/step - loss: 1.6090 - categorical_accuracy: 0.2066 - val_loss: 1.6092 - val_categorical_accuracy: 0.2200 - lr: 0.0010\n",
      "Epoch 37/50\n",
      "14/14 [==============================] - ETA: 0s - loss: 1.6090 - categorical_accuracy: 0.2066 \n",
      "Epoch 37: saving model to model_init_2023-02-1408_12_59.442406\\model-00037-1.60902-0.20664-1.60862-0.23000.h5\n",
      "14/14 [==============================] - 501s 36s/step - loss: 1.6090 - categorical_accuracy: 0.2066 - val_loss: 1.6086 - val_categorical_accuracy: 0.2300 - lr: 0.0010\n",
      "Epoch 38/50\n",
      "14/14 [==============================] - ETA: 0s - loss: 1.6090 - categorical_accuracy: 0.2066 \n",
      "Epoch 38: saving model to model_init_2023-02-1408_12_59.442406\\model-00038-1.60902-0.20664-1.60887-0.26000.h5\n",
      "14/14 [==============================] - 502s 36s/step - loss: 1.6090 - categorical_accuracy: 0.2066 - val_loss: 1.6089 - val_categorical_accuracy: 0.2600 - lr: 0.0010\n",
      "Epoch 39/50\n",
      "14/14 [==============================] - ETA: 0s - loss: 1.6090 - categorical_accuracy: 0.2066 \n",
      "Epoch 39: saving model to model_init_2023-02-1408_12_59.442406\\model-00039-1.60902-0.20664-1.60866-0.23000.h5\n",
      "14/14 [==============================] - 504s 36s/step - loss: 1.6090 - categorical_accuracy: 0.2066 - val_loss: 1.6087 - val_categorical_accuracy: 0.2300 - lr: 0.0010\n",
      "Epoch 40/50\n",
      "14/14 [==============================] - ETA: 0s - loss: 1.6090 - categorical_accuracy: 0.2066 \n",
      "Epoch 40: saving model to model_init_2023-02-1408_12_59.442406\\model-00040-1.60902-0.20664-1.61039-0.19000.h5\n",
      "14/14 [==============================] - 506s 36s/step - loss: 1.6090 - categorical_accuracy: 0.2066 - val_loss: 1.6104 - val_categorical_accuracy: 0.1900 - lr: 0.0010\n",
      "Epoch 41/50\n",
      "14/14 [==============================] - ETA: 0s - loss: 1.6090 - categorical_accuracy: 0.2066 \n",
      "Epoch 41: saving model to model_init_2023-02-1408_12_59.442406\\model-00041-1.60901-0.20664-1.60868-0.23000.h5\n",
      "14/14 [==============================] - 501s 36s/step - loss: 1.6090 - categorical_accuracy: 0.2066 - val_loss: 1.6087 - val_categorical_accuracy: 0.2300 - lr: 0.0010\n",
      "Epoch 42/50\n",
      "14/14 [==============================] - ETA: 0s - loss: 1.6090 - categorical_accuracy: 0.2066 \n",
      "Epoch 42: saving model to model_init_2023-02-1408_12_59.442406\\model-00042-1.60901-0.20664-1.60830-0.29000.h5\n",
      "14/14 [==============================] - 507s 36s/step - loss: 1.6090 - categorical_accuracy: 0.2066 - val_loss: 1.6083 - val_categorical_accuracy: 0.2900 - lr: 0.0010\n",
      "Epoch 43/50\n",
      "14/14 [==============================] - ETA: 0s - loss: 1.6090 - categorical_accuracy: 0.2066 \n",
      "Epoch 43: saving model to model_init_2023-02-1408_12_59.442406\\model-00043-1.60901-0.20664-1.60868-0.23000.h5\n",
      "14/14 [==============================] - 505s 36s/step - loss: 1.6090 - categorical_accuracy: 0.2066 - val_loss: 1.6087 - val_categorical_accuracy: 0.2300 - lr: 0.0010\n",
      "Epoch 44/50\n",
      "14/14 [==============================] - ETA: 0s - loss: 1.6090 - categorical_accuracy: 0.2066 \n",
      "Epoch 44: saving model to model_init_2023-02-1408_12_59.442406\\model-00044-1.60901-0.20664-1.60930-0.21000.h5\n",
      "14/14 [==============================] - 485s 34s/step - loss: 1.6090 - categorical_accuracy: 0.2066 - val_loss: 1.6093 - val_categorical_accuracy: 0.2100 - lr: 0.0010\n",
      "Epoch 45/50\n",
      "14/14 [==============================] - ETA: 0s - loss: 1.6090 - categorical_accuracy: 0.2066 \n",
      "Epoch 45: saving model to model_init_2023-02-1408_12_59.442406\\model-00045-1.60901-0.20664-1.60866-0.23000.h5\n",
      "14/14 [==============================] - 434s 31s/step - loss: 1.6090 - categorical_accuracy: 0.2066 - val_loss: 1.6087 - val_categorical_accuracy: 0.2300 - lr: 0.0010\n",
      "Epoch 46/50\n",
      "14/14 [==============================] - ETA: 0s - loss: 1.6090 - categorical_accuracy: 0.2066 \n",
      "Epoch 46: saving model to model_init_2023-02-1408_12_59.442406\\model-00046-1.60900-0.20664-1.60899-0.20000.h5\n",
      "14/14 [==============================] - 435s 31s/step - loss: 1.6090 - categorical_accuracy: 0.2066 - val_loss: 1.6090 - val_categorical_accuracy: 0.2000 - lr: 0.0010\n",
      "Epoch 47/50\n",
      "14/14 [==============================] - ETA: 0s - loss: 1.6090 - categorical_accuracy: 0.2066 \n",
      "Epoch 47: saving model to model_init_2023-02-1408_12_59.442406\\model-00047-1.60900-0.20664-1.60864-0.23000.h5\n",
      "14/14 [==============================] - 442s 32s/step - loss: 1.6090 - categorical_accuracy: 0.2066 - val_loss: 1.6086 - val_categorical_accuracy: 0.2300 - lr: 0.0010\n",
      "Epoch 48/50\n",
      "14/14 [==============================] - ETA: 0s - loss: 1.6090 - categorical_accuracy: 0.2066 \n",
      "Epoch 48: saving model to model_init_2023-02-1408_12_59.442406\\model-00048-1.60900-0.20664-1.60677-0.31000.h5\n",
      "14/14 [==============================] - 439s 31s/step - loss: 1.6090 - categorical_accuracy: 0.2066 - val_loss: 1.6068 - val_categorical_accuracy: 0.3100 - lr: 0.0010\n",
      "Epoch 49/50\n",
      "14/14 [==============================] - ETA: 0s - loss: 1.6090 - categorical_accuracy: 0.2066 \n",
      "Epoch 49: saving model to model_init_2023-02-1408_12_59.442406\\model-00049-1.60900-0.20664-1.60863-0.23000.h5\n",
      "14/14 [==============================] - 473s 34s/step - loss: 1.6090 - categorical_accuracy: 0.2066 - val_loss: 1.6086 - val_categorical_accuracy: 0.2300 - lr: 0.0010\n",
      "Epoch 50/50\n",
      "14/14 [==============================] - ETA: 0s - loss: 1.6090 - categorical_accuracy: 0.2066 \n",
      "Epoch 50: saving model to model_init_2023-02-1408_12_59.442406\\model-00050-1.60900-0.20664-1.60744-0.27000.h5\n",
      "14/14 [==============================] - 498s 36s/step - loss: 1.6090 - categorical_accuracy: 0.2066 - val_loss: 1.6074 - val_categorical_accuracy: 0.2700 - lr: 0.0010\n"
     ]
    }
   ],
   "source": [
    "history=model.fit_generator(train_generator, steps_per_epoch=steps_per_epoch, epochs=num_epochs, verbose=1, \n",
    "                    callbacks=callbacks_list, validation_data=val_generator, \n",
    "                    validation_steps=validation_steps, class_weight=None, workers=1, initial_epoch=0)"
   ]
  },
  {
   "cell_type": "code",
   "execution_count": 35,
   "metadata": {},
   "outputs": [],
   "source": [
    "model.save_weights(\"model_3.h5\")"
   ]
  },
  {
   "cell_type": "code",
   "execution_count": 36,
   "metadata": {},
   "outputs": [
    {
     "data": {
      "image/png": "[encoded data removed]",
      "text/plain": [
       "<Figure size 640x480 with 1 Axes>"
      ]
     },
     "metadata": {},
     "output_type": "display_data"
    }
   ],
   "source": [
    "import matplotlib.pyplot as plt\n",
    "\n",
    "# Plot training & validation loss values\n",
    "plt.plot(history.history['loss'])\n",
    "plt.plot(history.history['val_loss'])\n",
    "plt.title('Model loss')\n",
    "plt.ylabel('Loss')\n",
    "plt.xlabel('Epoch')\n",
    "plt.legend(['Train', 'Val'], loc='upper left')\n",
    "plt.show()"
   ]
  },
  {
   "cell_type": "code",
   "execution_count": 37,
   "metadata": {},
   "outputs": [
    {
     "data": {
      "image/png": "[encoded data removed]",
      "text/plain": [
       "<Figure size 640x480 with 1 Axes>"
      ]
     },
     "metadata": {},
     "output_type": "display_data"
    }
   ],
   "source": [
    "# Plot training & validation accuracy values\n",
    "plt.plot(history.history['categorical_accuracy'])\n",
    "plt.plot(history.history['val_categorical_accuracy'])\n",
    "plt.title('Model accuracy')\n",
    "plt.ylabel('Accuracy')\n",
    "plt.xlabel('Epoch')\n",
    "plt.legend(['Train', 'Val'], loc='upper left')\n",
    "plt.show()"
   ]
  },
  {
   "cell_type": "code",
   "execution_count": null,
   "metadata": {},
   "outputs": [],
   "source": []
  }
 ],
 "metadata": {
  "kernelspec": {
   "display_name": "Python 3 (ipykernel)",
   "language": "python",
   "name": "python3"
  },
  "language_info": {
   "codemirror_mode": {
    "name": "ipython",
    "version": 3
   },
   "file_extension": ".py",
   "mimetype": "text/x-python",
   "name": "python",
   "nbconvert_exporter": "python",
   "pygments_lexer": "ipython3",
   "version": "3.9.13"
  }
 },
 "nbformat": 4,
 "nbformat_minor": 2
}
