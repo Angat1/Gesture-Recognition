{
 "cells": [
  {
   "cell_type": "markdown",
   "metadata": {},
   "source": [
    "# Gesture Recognition\n",
    "In this group project, you are going to build a 3D Conv model that will be able to predict the 5 gestures correctly. Please import the following libraries to get started."
   ]
  },
  {
   "cell_type": "code",
   "execution_count": 5,
   "metadata": {},
   "outputs": [],
   "source": [
    "import numpy as np\n",
    "import os\n",
    "#from scipy.misc import imread, imresize\n",
    "import imageio\n",
    "import datetime\n",
    "import os\n",
    "from skimage.io import imread\n",
    "import cv2"
   ]
  },
  {
   "cell_type": "markdown",
   "metadata": {},
   "source": [
    "We set the random seed so that the results don't vary drastically."
   ]
  },
  {
   "cell_type": "code",
   "execution_count": 6,
   "metadata": {
    "scrolled": true
   },
   "outputs": [],
   "source": [
    "np.random.seed(30)\n",
    "import random as rn\n",
    "rn.seed(30)\n",
    "from keras import backend as K\n",
    "import tensorflow as tf\n",
    "tf.random.set_seed(30)"
   ]
  },
  {
   "cell_type": "markdown",
   "metadata": {},
   "source": [
    "In this block, you read the folder names for training and validation. You also set the `batch_size` here. Note that you set the batch size in such a way that you are able to use the GPU in full capacity. You keep increasing the batch size until the machine throws an error."
   ]
  },
  {
   "cell_type": "code",
   "execution_count": 7,
   "metadata": {},
   "outputs": [],
   "source": [
    "train_doc = np.random.permutation(open('E:/Project_data/Project_data/train.csv').readlines())\n",
    "val_doc = np.random.permutation(open('E:/Project_data/Project_data/val.csv').readlines())\n",
    "batch_size = 32\n"
   ]
  },
  {
   "cell_type": "markdown",
   "metadata": {},
   "source": [
    "## Generator\n",
    "This is one of the most important part of the code. The overall structure of the generator has been given. In the generator, you are going to preprocess the images as you have images of 2 different dimensions as well as create a batch of video frames. You have to experiment with `img_idx`, `y`,`z` and normalization such that you get high accuracy."
   ]
  },
  {
   "cell_type": "code",
   "execution_count": 8,
   "metadata": {},
   "outputs": [],
   "source": [
    "def generator(source_path, folder_list, batch_size):\n",
    "    print( 'Source path = ', source_path, '; batch size =', batch_size)\n",
    "    img_idx = [0,1,2,3,4,5,6,7,8,9,10,11,12,13,14,15,16,17,18,19,20,21,22,23,24,25,26,27,28,29]#create a list of image numbers you want to use for a particular video\n",
    "    while True:\n",
    "        t = np.random.permutation(folder_list)\n",
    "        num_batches = int(len(folder_list)/batch_size)\n",
    "        # calculate the number of batches\n",
    "        for batch in range(num_batches): # we iterate over the number of batches\n",
    "            x=len(img_idx)\n",
    "            #batch_data = np.zeros((batch_size,x,y,z,3)) # x is the number of images you use for each video, (y,z) is the final size of the input images and 3 is the number of channels RGB\n",
    "            batch_data = np.zeros((batch_size,x,100,100,3))\n",
    "            batch_labels = np.zeros((batch_size,5)) # batch_labels is the one hot representation of the output\n",
    "            for folder in range(batch_size): # iterate over the batch_size\n",
    "                imgs = os.listdir(source_path+'/'+ t[folder + (batch*batch_size)].split(';')[0]) # read all the images in the folder\n",
    "                for idx,item in enumerate(img_idx): #  Iterate iver the frames/images of a folder to read them in\n",
    "                    image = imread(source_path+'/'+ t[folder + (batch*batch_size)].strip().split(';')[0]+'/'+imgs[item]).astype(np.float32)\n",
    "\n",
    "                    \n",
    "                    #crop the images and resize them. Note that the images are of 2 different shape \n",
    "                    #and the conv3D will throw error if the inputs in a batch have different shapes\n",
    "                    \n",
    "                    height, width, channel = image.shape\n",
    "                    if height == 120 and width == 120:\n",
    "                        image = image[20:140, :120, :]\n",
    "                    image = cv2.resize(image, (100, 100)) #resizing all image to 100*100\n",
    "                    image = image/255\n",
    "\n",
    "                    batch_data[folder,idx,:,:,0] = image[:,:,0]\n",
    "                    #normalise and feed in the image\n",
    "                    batch_data[folder,idx,:,:,1] = image[:,:,1]\n",
    "                    #normalise and feed in the image\n",
    "                    batch_data[folder,idx,:,:,2] = image[:,:,2]\n",
    "                    #normalise and feed in the image\n",
    "\n",
    "                batch_labels[folder, int(t[folder + (batch*batch_size)].strip().split(';')[2])] = 1\n",
    "            yield batch_data, batch_labels #you yield the batch_data and the batch_labels, remember what does yield do\n",
    "\n",
    "        # write the code for the remaining data points which are left after full batches\n",
    "        if len(folder_list) > num_batches * batch_size:\n",
    "            x=len(img_idx)\n",
    "            rem = len(folder_list) - (num_batches * batch_size)\n",
    "            batch_data = np.zeros((rem,x,100,100,3))\n",
    "            batch_labels = np.zeros((rem,5)) # batch_labels is the one hot representation of the output\n",
    "            for folder in range(rem): # iterate over the batch_size\n",
    "                imgs = os.listdir(source_path+'/'+ t[folder + (num_batches * batch_size)].split(';')[0]) # read all the images in the folder\n",
    "                for idx,item in enumerate(img_idx): #  Iterate iver the frames/images of a folder to read them in\n",
    "                    image = imread(source_path+'/'+ t[folder + (num_batches * batch_size)].strip().split(';')[0]+'/'+imgs[item]).astype(np.float32)\n",
    "                    \n",
    "                    #crop the images and resize them. Note that the images are of 2 different shape \n",
    "                    #and the conv3D will throw error if the inputs in a batch have different shapes\n",
    "                    \n",
    "                    height, width , channel = image.shape\n",
    "                    if height == 120 or width == 120:\n",
    "                        image=image[20:140,:120,:]\n",
    "                    image = cv2.resize(image,(100,100))\n",
    "                    image = image/255\n",
    "                    batch_data[folder,idx,:,:,0] = image[:,:,0]\n",
    "                    #normalise and feed in the image\n",
    "                    batch_data[folder,idx,:,:,1] = image[:,:,1]\n",
    "                    #normalise and feed in the image\n",
    "                    batch_data[folder,idx,:,:,2] = image[:,:,2]\n",
    "                    #normalise and feed in the image\n",
    "\n",
    "                batch_labels[folder, int(t[folder + (num_batches * batch_size)].strip().split(';')[2])] = 1\n",
    "            yield batch_data, batch_labels #you yield the batch_data and the batch_labels, remember what does yield do"
   ]
  },
  {
   "cell_type": "markdown",
   "metadata": {},
   "source": [
    "Note here that a video is represented above in the generator as (number of images, height, width, number of channels). Take this into consideration while creating the model architecture."
   ]
  },
  {
   "cell_type": "code",
   "execution_count": 9,
   "metadata": {},
   "outputs": [
    {
     "name": "stdout",
     "output_type": "stream",
     "text": [
      "# training sequences = 663\n",
      "# validation sequences = 100\n",
      "# epochs = 50\n"
     ]
    }
   ],
   "source": [
    "curr_dt_time = datetime.datetime.now()\n",
    "train_path = 'E:/Project_data/Project_data/train'\n",
    "val_path = 'E:/Project_data/Project_data/val'\n",
    "num_train_sequences = len(train_doc)\n",
    "print('# training sequences =', num_train_sequences)\n",
    "num_val_sequences = len(val_doc)\n",
    "print('# validation sequences =', num_val_sequences)\n",
    "num_epochs = 50\n",
    "print ('# epochs =', num_epochs)"
   ]
  },
  {
   "cell_type": "markdown",
   "metadata": {},
   "source": [
    "## Model\n",
    "Here you make the model using different functionalities that Keras provides. Remember to use `Conv3D` and `MaxPooling3D` and not `Conv2D` and `Maxpooling2D` for a 3D convolution model. You would want to use `TimeDistributed` while building a Conv2D + RNN model. Also remember that the last layer is the softmax. Design the network in such a way that the model is able to give good accuracy on the least number of parameters so that it can fit in the memory of the webcam."
   ]
  },
  {
   "cell_type": "code",
   "execution_count": 11,
   "metadata": {},
   "outputs": [],
   "source": [
    "from keras.models import Sequential, Model\n",
    "from keras.layers import Dense, GRU, Flatten, TimeDistributed, Flatten, BatchNormalization, Activation ,Dropout\n",
    "from keras.layers.convolutional import Conv3D, MaxPooling3D\n",
    "from keras.callbacks import ModelCheckpoint, ReduceLROnPlateau\n",
    "from keras import optimizers\n",
    "\n",
    "model = Sequential()\n",
    "\n",
    "model.add(Conv3D(16, (3,3,3), padding='same', activation='relu', input_shape=(30, 100, 100, 3)))\n",
    "model.add(BatchNormalization())\n",
    "model.add(MaxPooling3D(pool_size=(2,2,2)))\n",
    "\n",
    "model.add(Conv3D(32, (3,3,3), padding='same', activation='relu'))\n",
    "model.add(BatchNormalization())\n",
    "model.add(MaxPooling3D(pool_size=(2,2,2)))\n",
    "\n",
    "model.add(Conv3D(64, (3,3,3), padding='same', activation='relu'))\n",
    "model.add(BatchNormalization())\n",
    "model.add(MaxPooling3D(pool_size=(2,2,2)))\n",
    "\n",
    "model.add(Flatten())\n",
    "\n",
    "model.add(Dense(256, activation='relu'))\n",
    "model.add(Dense(128, activation='relu'))\n",
    "model.add(Dense(5, activation='softmax'))\n",
    "\n"
   ]
  },
  {
   "cell_type": "markdown",
   "metadata": {},
   "source": [
    "Now that you have written the model, the next step is to `compile` the model. When you print the `summary` of the model, you'll see the total number of parameters you have to train."
   ]
  },
  {
   "cell_type": "code",
   "execution_count": 12,
   "metadata": {
    "scrolled": true
   },
   "outputs": [
    {
     "name": "stdout",
     "output_type": "stream",
     "text": [
      "Model: \"sequential_1\"\n",
      "_________________________________________________________________\n",
      " Layer (type)                Output Shape              Param #   \n",
      "=================================================================\n",
      " conv3d (Conv3D)             (None, 30, 100, 100, 16)  1312      \n",
      "                                                                 \n",
      " batch_normalization (BatchN  (None, 30, 100, 100, 16)  64       \n",
      " ormalization)                                                   \n",
      "                                                                 \n",
      " max_pooling3d (MaxPooling3D  (None, 15, 50, 50, 16)   0         \n",
      " )                                                               \n",
      "                                                                 \n",
      " conv3d_1 (Conv3D)           (None, 15, 50, 50, 32)    13856     \n",
      "                                                                 \n",
      " batch_normalization_1 (Batc  (None, 15, 50, 50, 32)   128       \n",
      " hNormalization)                                                 \n",
      "                                                                 \n",
      " max_pooling3d_1 (MaxPooling  (None, 7, 25, 25, 32)    0         \n",
      " 3D)                                                             \n",
      "                                                                 \n",
      " conv3d_2 (Conv3D)           (None, 7, 25, 25, 64)     55360     \n",
      "                                                                 \n",
      " batch_normalization_2 (Batc  (None, 7, 25, 25, 64)    256       \n",
      " hNormalization)                                                 \n",
      "                                                                 \n",
      " max_pooling3d_2 (MaxPooling  (None, 3, 12, 12, 64)    0         \n",
      " 3D)                                                             \n",
      "                                                                 \n",
      " flatten (Flatten)           (None, 27648)             0         \n",
      "                                                                 \n",
      " dense (Dense)               (None, 256)               7078144   \n",
      "                                                                 \n",
      " dense_1 (Dense)             (None, 128)               32896     \n",
      "                                                                 \n",
      " dense_2 (Dense)             (None, 5)                 645       \n",
      "                                                                 \n",
      "=================================================================\n",
      "Total params: 7,182,661\n",
      "Trainable params: 7,182,437\n",
      "Non-trainable params: 224\n",
      "_________________________________________________________________\n",
      "None\n"
     ]
    }
   ],
   "source": [
    "optimiser = 'SGD'\n",
    "model.compile(optimizer=optimiser, loss='categorical_crossentropy', metrics=['categorical_accuracy'])\n",
    "print (model.summary())"
   ]
  },
  {
   "cell_type": "markdown",
   "metadata": {},
   "source": [
    "Let us create the `train_generator` and the `val_generator` which will be used in `.fit_generator`."
   ]
  },
  {
   "cell_type": "code",
   "execution_count": 13,
   "metadata": {},
   "outputs": [],
   "source": [
    "train_generator = generator(train_path, train_doc, batch_size)\n",
    "val_generator = generator(val_path, val_doc, batch_size)"
   ]
  },
  {
   "cell_type": "code",
   "execution_count": 14,
   "metadata": {},
   "outputs": [
    {
     "name": "stdout",
     "output_type": "stream",
     "text": [
      "WARNING:tensorflow:`period` argument is deprecated. Please use `save_freq` to specify the frequency in number of batches seen.\n"
     ]
    }
   ],
   "source": [
    "model_name = 'model_init' + '_' + str(curr_dt_time).replace(' ','').replace(':','_') + '/'\n",
    "    \n",
    "if not os.path.exists(model_name):\n",
    "    os.mkdir(model_name)\n",
    "        \n",
    "filepath = model_name + 'model-{epoch:05d}-{loss:.5f}-{categorical_accuracy:.5f}-{val_loss:.5f}-{val_categorical_accuracy:.5f}.h5'\n",
    "\n",
    "checkpoint = ModelCheckpoint(filepath, monitor='val_loss', verbose=1, save_best_only=False, save_weights_only=False, mode='auto', period=1)\n",
    "\n",
    "LR = ReduceLROnPlateau(monitor='val_loss', factor=0.2, patience=5, min_lr=0.001)\n",
    "callbacks_list = [checkpoint, LR]"
   ]
  },
  {
   "cell_type": "markdown",
   "metadata": {},
   "source": [
    "The `steps_per_epoch` and `validation_steps` are used by `fit_generator` to decide the number of next() calls it need to make."
   ]
  },
  {
   "cell_type": "code",
   "execution_count": 15,
   "metadata": {},
   "outputs": [],
   "source": [
    "if (num_train_sequences%batch_size) == 0:\n",
    "    steps_per_epoch = int(num_train_sequences/batch_size)\n",
    "else:\n",
    "    steps_per_epoch = (num_train_sequences//batch_size) + 1\n",
    "\n",
    "if (num_val_sequences%batch_size) == 0:\n",
    "    validation_steps = int(num_val_sequences/batch_size)\n",
    "else:\n",
    "    validation_steps = (num_val_sequences//batch_size) + 1"
   ]
  },
  {
   "cell_type": "markdown",
   "metadata": {},
   "source": [
    "Let us now fit the model. This will start training the model and with the help of the checkpoints, you'll be able to save the model at the end of each epoch."
   ]
  },
  {
   "cell_type": "code",
   "execution_count": 16,
   "metadata": {},
   "outputs": [
    {
     "name": "stderr",
     "output_type": "stream",
     "text": [
      "C:\\Users\\Administrator\\AppData\\Local\\Temp\\2\\ipykernel_32\\1787904139.py:1: UserWarning: `Model.fit_generator` is deprecated and will be removed in a future version. Please use `Model.fit`, which supports generators.\n",
      "  history=model.fit_generator(train_generator, steps_per_epoch=steps_per_epoch, epochs=num_epochs, verbose=1,\n"
     ]
    },
    {
     "name": "stdout",
     "output_type": "stream",
     "text": [
      "Source path =  E:/Project_data/Project_data/train ; batch size = 32\n",
      "Epoch 1/50\n",
      "21/21 [==============================] - ETA: 0s - loss: 2.4134 - categorical_accuracy: 0.3967 Source path =  E:/Project_data/Project_data/val ; batch size = 32\n",
      "\n",
      "Epoch 1: saving model to model_init_2023-02-1415_02_10.875406\\model-00001-2.41341-0.39668-2.11621-0.19000.h5\n",
      "21/21 [==============================] - 879s 42s/step - loss: 2.4134 - categorical_accuracy: 0.3967 - val_loss: 2.1162 - val_categorical_accuracy: 0.1900 - lr: 0.0100\n",
      "Epoch 2/50\n",
      "21/21 [==============================] - ETA: 0s - loss: 0.8692 - categorical_accuracy: 0.6637 \n",
      "Epoch 2: saving model to model_init_2023-02-1415_02_10.875406\\model-00002-0.86922-0.66365-1.61087-0.24000.h5\n",
      "21/21 [==============================] - 742s 35s/step - loss: 0.8692 - categorical_accuracy: 0.6637 - val_loss: 1.6109 - val_categorical_accuracy: 0.2400 - lr: 0.0100\n",
      "Epoch 3/50\n",
      "21/21 [==============================] - ETA: 0s - loss: 0.5609 - categorical_accuracy: 0.8190 \n",
      "Epoch 3: saving model to model_init_2023-02-1415_02_10.875406\\model-00003-0.56089-0.81900-1.62839-0.21000.h5\n",
      "21/21 [==============================] - 759s 36s/step - loss: 0.5609 - categorical_accuracy: 0.8190 - val_loss: 1.6284 - val_categorical_accuracy: 0.2100 - lr: 0.0100\n",
      "Epoch 4/50\n",
      "21/21 [==============================] - ETA: 0s - loss: 0.3321 - categorical_accuracy: 0.9065 \n",
      "Epoch 4: saving model to model_init_2023-02-1415_02_10.875406\\model-00004-0.33212-0.90649-1.83849-0.34000.h5\n",
      "21/21 [==============================] - 760s 36s/step - loss: 0.3321 - categorical_accuracy: 0.9065 - val_loss: 1.8385 - val_categorical_accuracy: 0.3400 - lr: 0.0100\n",
      "Epoch 5/50\n",
      "21/21 [==============================] - ETA: 0s - loss: 0.2165 - categorical_accuracy: 0.9593 \n",
      "Epoch 5: saving model to model_init_2023-02-1415_02_10.875406\\model-00005-0.21647-0.95928-2.25675-0.22000.h5\n",
      "21/21 [==============================] - 742s 35s/step - loss: 0.2165 - categorical_accuracy: 0.9593 - val_loss: 2.2568 - val_categorical_accuracy: 0.2200 - lr: 0.0100\n",
      "Epoch 6/50\n",
      "21/21 [==============================] - ETA: 0s - loss: 0.1387 - categorical_accuracy: 0.9729 \n",
      "Epoch 6: saving model to model_init_2023-02-1415_02_10.875406\\model-00006-0.13866-0.97285-2.45497-0.22000.h5\n",
      "21/21 [==============================] - 781s 37s/step - loss: 0.1387 - categorical_accuracy: 0.9729 - val_loss: 2.4550 - val_categorical_accuracy: 0.2200 - lr: 0.0100\n",
      "Epoch 7/50\n",
      "21/21 [==============================] - ETA: 0s - loss: 0.0935 - categorical_accuracy: 0.9834 \n",
      "Epoch 7: saving model to model_init_2023-02-1415_02_10.875406\\model-00007-0.09348-0.98341-2.68210-0.17000.h5\n",
      "21/21 [==============================] - 863s 41s/step - loss: 0.0935 - categorical_accuracy: 0.9834 - val_loss: 2.6821 - val_categorical_accuracy: 0.1700 - lr: 0.0100\n",
      "Epoch 8/50\n",
      "21/21 [==============================] - ETA: 0s - loss: 0.0715 - categorical_accuracy: 0.9894 \n",
      "Epoch 8: saving model to model_init_2023-02-1415_02_10.875406\\model-00008-0.07151-0.98944-2.75882-0.19000.h5\n",
      "21/21 [==============================] - 918s 44s/step - loss: 0.0715 - categorical_accuracy: 0.9894 - val_loss: 2.7588 - val_categorical_accuracy: 0.1900 - lr: 0.0020\n",
      "Epoch 9/50\n",
      "21/21 [==============================] - ETA: 0s - loss: 0.0505 - categorical_accuracy: 0.9925 \n",
      "Epoch 9: saving model to model_init_2023-02-1415_02_10.875406\\model-00009-0.05054-0.99246-2.92238-0.20000.h5\n",
      "21/21 [==============================] - 890s 43s/step - loss: 0.0505 - categorical_accuracy: 0.9925 - val_loss: 2.9224 - val_categorical_accuracy: 0.2000 - lr: 0.0020\n",
      "Epoch 10/50\n",
      "21/21 [==============================] - ETA: 0s - loss: 0.0522 - categorical_accuracy: 0.9955 \n",
      "Epoch 10: saving model to model_init_2023-02-1415_02_10.875406\\model-00010-0.05220-0.99548-2.90243-0.19000.h5\n",
      "21/21 [==============================] - 920s 44s/step - loss: 0.0522 - categorical_accuracy: 0.9955 - val_loss: 2.9024 - val_categorical_accuracy: 0.1900 - lr: 0.0020\n",
      "Epoch 11/50\n",
      "21/21 [==============================] - ETA: 0s - loss: 0.0436 - categorical_accuracy: 0.9940 \n",
      "Epoch 11: saving model to model_init_2023-02-1415_02_10.875406\\model-00011-0.04361-0.99397-2.65222-0.23000.h5\n",
      "21/21 [==============================] - 1007s 48s/step - loss: 0.0436 - categorical_accuracy: 0.9940 - val_loss: 2.6522 - val_categorical_accuracy: 0.2300 - lr: 0.0020\n",
      "Epoch 12/50\n",
      "21/21 [==============================] - ETA: 0s - loss: 0.0336 - categorical_accuracy: 0.9985 \n",
      "Epoch 12: saving model to model_init_2023-02-1415_02_10.875406\\model-00012-0.03357-0.99849-2.53805-0.25000.h5\n",
      "21/21 [==============================] - 998s 48s/step - loss: 0.0336 - categorical_accuracy: 0.9985 - val_loss: 2.5380 - val_categorical_accuracy: 0.2500 - lr: 0.0020\n",
      "Epoch 13/50\n",
      "21/21 [==============================] - ETA: 0s - loss: 0.0415 - categorical_accuracy: 0.9925 \n",
      "Epoch 13: saving model to model_init_2023-02-1415_02_10.875406\\model-00013-0.04151-0.99246-2.30628-0.35000.h5\n",
      "21/21 [==============================] - 987s 47s/step - loss: 0.0415 - categorical_accuracy: 0.9925 - val_loss: 2.3063 - val_categorical_accuracy: 0.3500 - lr: 0.0010\n",
      "Epoch 14/50\n",
      "21/21 [==============================] - ETA: 0s - loss: 0.0278 - categorical_accuracy: 0.9985 \n",
      "Epoch 14: saving model to model_init_2023-02-1415_02_10.875406\\model-00014-0.02781-0.99849-2.17955-0.34000.h5\n",
      "21/21 [==============================] - 993s 48s/step - loss: 0.0278 - categorical_accuracy: 0.9985 - val_loss: 2.1796 - val_categorical_accuracy: 0.3400 - lr: 0.0010\n",
      "Epoch 15/50\n",
      "21/21 [==============================] - ETA: 0s - loss: 0.0379 - categorical_accuracy: 0.9955 \n",
      "Epoch 15: saving model to model_init_2023-02-1415_02_10.875406\\model-00015-0.03790-0.99548-1.94791-0.41000.h5\n",
      "21/21 [==============================] - 1003s 48s/step - loss: 0.0379 - categorical_accuracy: 0.9955 - val_loss: 1.9479 - val_categorical_accuracy: 0.4100 - lr: 0.0010\n",
      "Epoch 16/50\n",
      "21/21 [==============================] - ETA: 0s - loss: 0.0344 - categorical_accuracy: 0.9955 \n",
      "Epoch 16: saving model to model_init_2023-02-1415_02_10.875406\\model-00016-0.03444-0.99548-1.70707-0.44000.h5\n",
      "21/21 [==============================] - 994s 48s/step - loss: 0.0344 - categorical_accuracy: 0.9955 - val_loss: 1.7071 - val_categorical_accuracy: 0.4400 - lr: 0.0010\n",
      "Epoch 17/50\n",
      "21/21 [==============================] - ETA: 0s - loss: 0.0354 - categorical_accuracy: 0.9955 \n",
      "Epoch 17: saving model to model_init_2023-02-1415_02_10.875406\\model-00017-0.03537-0.99548-1.61269-0.48000.h5\n",
      "21/21 [==============================] - 1008s 48s/step - loss: 0.0354 - categorical_accuracy: 0.9955 - val_loss: 1.6127 - val_categorical_accuracy: 0.4800 - lr: 0.0010\n",
      "Epoch 18/50\n",
      "21/21 [==============================] - ETA: 0s - loss: 0.0409 - categorical_accuracy: 0.9925 \n",
      "Epoch 18: saving model to model_init_2023-02-1415_02_10.875406\\model-00018-0.04092-0.99246-1.44836-0.56000.h5\n",
      "21/21 [==============================] - 997s 48s/step - loss: 0.0409 - categorical_accuracy: 0.9925 - val_loss: 1.4484 - val_categorical_accuracy: 0.5600 - lr: 0.0010\n",
      "Epoch 19/50\n",
      "21/21 [==============================] - ETA: 0s - loss: 0.0322 - categorical_accuracy: 0.9970 \n",
      "Epoch 19: saving model to model_init_2023-02-1415_02_10.875406\\model-00019-0.03219-0.99698-1.37724-0.50000.h5\n",
      "21/21 [==============================] - 994s 48s/step - loss: 0.0322 - categorical_accuracy: 0.9970 - val_loss: 1.3772 - val_categorical_accuracy: 0.5000 - lr: 0.0010\n",
      "Epoch 20/50\n",
      "21/21 [==============================] - ETA: 0s - loss: 0.0361 - categorical_accuracy: 0.9955 \n",
      "Epoch 20: saving model to model_init_2023-02-1415_02_10.875406\\model-00020-0.03611-0.99548-1.13485-0.57000.h5\n",
      "21/21 [==============================] - 990s 47s/step - loss: 0.0361 - categorical_accuracy: 0.9955 - val_loss: 1.1348 - val_categorical_accuracy: 0.5700 - lr: 0.0010\n",
      "Epoch 21/50\n",
      "21/21 [==============================] - ETA: 0s - loss: 0.0348 - categorical_accuracy: 0.9940 \n",
      "Epoch 21: saving model to model_init_2023-02-1415_02_10.875406\\model-00021-0.03478-0.99397-1.04586-0.60000.h5\n",
      "21/21 [==============================] - 1002s 48s/step - loss: 0.0348 - categorical_accuracy: 0.9940 - val_loss: 1.0459 - val_categorical_accuracy: 0.6000 - lr: 0.0010\n",
      "Epoch 22/50\n",
      "21/21 [==============================] - ETA: 0s - loss: 0.0372 - categorical_accuracy: 0.9940 \n",
      "Epoch 22: saving model to model_init_2023-02-1415_02_10.875406\\model-00022-0.03723-0.99397-0.90785-0.65000.h5\n",
      "21/21 [==============================] - 1001s 48s/step - loss: 0.0372 - categorical_accuracy: 0.9940 - val_loss: 0.9078 - val_categorical_accuracy: 0.6500 - lr: 0.0010\n",
      "Epoch 23/50\n",
      "21/21 [==============================] - ETA: 0s - loss: 0.0493 - categorical_accuracy: 0.9894 \n",
      "Epoch 23: saving model to model_init_2023-02-1415_02_10.875406\\model-00023-0.04929-0.98944-0.76832-0.72000.h5\n",
      "21/21 [==============================] - 1004s 48s/step - loss: 0.0493 - categorical_accuracy: 0.9894 - val_loss: 0.7683 - val_categorical_accuracy: 0.7200 - lr: 0.0010\n",
      "Epoch 24/50\n",
      "21/21 [==============================] - ETA: 0s - loss: 0.0316 - categorical_accuracy: 0.9940 \n",
      "Epoch 24: saving model to model_init_2023-02-1415_02_10.875406\\model-00024-0.03163-0.99397-0.84059-0.65000.h5\n",
      "21/21 [==============================] - 996s 47s/step - loss: 0.0316 - categorical_accuracy: 0.9940 - val_loss: 0.8406 - val_categorical_accuracy: 0.6500 - lr: 0.0010\n",
      "Epoch 25/50\n",
      "21/21 [==============================] - ETA: 0s - loss: 0.0326 - categorical_accuracy: 0.9955 \n",
      "Epoch 25: saving model to model_init_2023-02-1415_02_10.875406\\model-00025-0.03262-0.99548-0.80651-0.69000.h5\n",
      "21/21 [==============================] - 886s 42s/step - loss: 0.0326 - categorical_accuracy: 0.9955 - val_loss: 0.8065 - val_categorical_accuracy: 0.6900 - lr: 0.0010\n",
      "Epoch 26/50\n",
      "21/21 [==============================] - ETA: 0s - loss: 0.0266 - categorical_accuracy: 0.9970 \n",
      "Epoch 26: saving model to model_init_2023-02-1415_02_10.875406\\model-00026-0.02662-0.99698-0.83200-0.66000.h5\n",
      "21/21 [==============================] - 852s 41s/step - loss: 0.0266 - categorical_accuracy: 0.9970 - val_loss: 0.8320 - val_categorical_accuracy: 0.6600 - lr: 0.0010\n",
      "Epoch 27/50\n",
      "21/21 [==============================] - ETA: 0s - loss: 0.0232 - categorical_accuracy: 0.9985 \n",
      "Epoch 27: saving model to model_init_2023-02-1415_02_10.875406\\model-00027-0.02320-0.99849-0.78346-0.73000.h5\n",
      "21/21 [==============================] - 853s 40s/step - loss: 0.0232 - categorical_accuracy: 0.9985 - val_loss: 0.7835 - val_categorical_accuracy: 0.7300 - lr: 0.0010\n",
      "Epoch 28/50\n",
      "21/21 [==============================] - ETA: 0s - loss: 0.0337 - categorical_accuracy: 0.9910 \n",
      "Epoch 28: saving model to model_init_2023-02-1415_02_10.875406\\model-00028-0.03373-0.99095-0.71871-0.72000.h5\n",
      "21/21 [==============================] - 853s 40s/step - loss: 0.0337 - categorical_accuracy: 0.9910 - val_loss: 0.7187 - val_categorical_accuracy: 0.7200 - lr: 0.0010\n",
      "Epoch 29/50\n",
      "21/21 [==============================] - ETA: 0s - loss: 0.0388 - categorical_accuracy: 0.9910 \n",
      "Epoch 29: saving model to model_init_2023-02-1415_02_10.875406\\model-00029-0.03878-0.99095-0.72101-0.72000.h5\n",
      "21/21 [==============================] - 860s 41s/step - loss: 0.0388 - categorical_accuracy: 0.9910 - val_loss: 0.7210 - val_categorical_accuracy: 0.7200 - lr: 0.0010\n",
      "Epoch 30/50\n",
      "21/21 [==============================] - ETA: 0s - loss: 0.0441 - categorical_accuracy: 0.9910 \n",
      "Epoch 30: saving model to model_init_2023-02-1415_02_10.875406\\model-00030-0.04408-0.99095-0.53428-0.78000.h5\n",
      "21/21 [==============================] - 860s 41s/step - loss: 0.0441 - categorical_accuracy: 0.9910 - val_loss: 0.5343 - val_categorical_accuracy: 0.7800 - lr: 0.0010\n",
      "Epoch 31/50\n",
      "21/21 [==============================] - ETA: 0s - loss: 0.0352 - categorical_accuracy: 0.9955 \n",
      "Epoch 31: saving model to model_init_2023-02-1415_02_10.875406\\model-00031-0.03516-0.99548-0.71723-0.74000.h5\n",
      "21/21 [==============================] - 862s 41s/step - loss: 0.0352 - categorical_accuracy: 0.9955 - val_loss: 0.7172 - val_categorical_accuracy: 0.7400 - lr: 0.0010\n",
      "Epoch 32/50\n",
      "21/21 [==============================] - ETA: 0s - loss: 0.0276 - categorical_accuracy: 0.9955 \n",
      "Epoch 32: saving model to model_init_2023-02-1415_02_10.875406\\model-00032-0.02764-0.99548-0.69444-0.74000.h5\n",
      "21/21 [==============================] - 855s 41s/step - loss: 0.0276 - categorical_accuracy: 0.9955 - val_loss: 0.6944 - val_categorical_accuracy: 0.7400 - lr: 0.0010\n",
      "Epoch 33/50\n",
      "21/21 [==============================] - ETA: 0s - loss: 0.0287 - categorical_accuracy: 0.9970 \n",
      "Epoch 33: saving model to model_init_2023-02-1415_02_10.875406\\model-00033-0.02866-0.99698-0.67849-0.76000.h5\n",
      "21/21 [==============================] - 851s 40s/step - loss: 0.0287 - categorical_accuracy: 0.9970 - val_loss: 0.6785 - val_categorical_accuracy: 0.7600 - lr: 0.0010\n",
      "Epoch 34/50\n",
      "21/21 [==============================] - ETA: 0s - loss: 0.0363 - categorical_accuracy: 0.9955 \n",
      "Epoch 34: saving model to model_init_2023-02-1415_02_10.875406\\model-00034-0.03633-0.99548-0.78780-0.69000.h5\n",
      "21/21 [==============================] - 859s 41s/step - loss: 0.0363 - categorical_accuracy: 0.9955 - val_loss: 0.7878 - val_categorical_accuracy: 0.6900 - lr: 0.0010\n",
      "Epoch 35/50\n",
      "21/21 [==============================] - ETA: 0s - loss: 0.0224 - categorical_accuracy: 0.9985 \n",
      "Epoch 35: saving model to model_init_2023-02-1415_02_10.875406\\model-00035-0.02239-0.99849-0.49836-0.84000.h5\n",
      "21/21 [==============================] - 859s 41s/step - loss: 0.0224 - categorical_accuracy: 0.9985 - val_loss: 0.4984 - val_categorical_accuracy: 0.8400 - lr: 0.0010\n",
      "Epoch 36/50\n",
      "21/21 [==============================] - ETA: 0s - loss: 0.0293 - categorical_accuracy: 0.9955 \n",
      "Epoch 36: saving model to model_init_2023-02-1415_02_10.875406\\model-00036-0.02935-0.99548-0.67562-0.75000.h5\n",
      "21/21 [==============================] - 859s 41s/step - loss: 0.0293 - categorical_accuracy: 0.9955 - val_loss: 0.6756 - val_categorical_accuracy: 0.7500 - lr: 0.0010\n",
      "Epoch 37/50\n",
      "21/21 [==============================] - ETA: 0s - loss: 0.0334 - categorical_accuracy: 0.9970 \n",
      "Epoch 37: saving model to model_init_2023-02-1415_02_10.875406\\model-00037-0.03342-0.99698-0.64625-0.80000.h5\n",
      "21/21 [==============================] - 874s 42s/step - loss: 0.0334 - categorical_accuracy: 0.9970 - val_loss: 0.6462 - val_categorical_accuracy: 0.8000 - lr: 0.0010\n",
      "Epoch 38/50\n",
      "21/21 [==============================] - ETA: 0s - loss: 0.0209 - categorical_accuracy: 0.9985 \n",
      "Epoch 38: saving model to model_init_2023-02-1415_02_10.875406\\model-00038-0.02088-0.99849-0.64429-0.78000.h5\n",
      "21/21 [==============================] - 865s 41s/step - loss: 0.0209 - categorical_accuracy: 0.9985 - val_loss: 0.6443 - val_categorical_accuracy: 0.7800 - lr: 0.0010\n",
      "Epoch 39/50\n",
      "21/21 [==============================] - ETA: 0s - loss: 0.0251 - categorical_accuracy: 0.9970 \n",
      "Epoch 39: saving model to model_init_2023-02-1415_02_10.875406\\model-00039-0.02508-0.99698-0.67047-0.81000.h5\n",
      "21/21 [==============================] - 856s 41s/step - loss: 0.0251 - categorical_accuracy: 0.9970 - val_loss: 0.6705 - val_categorical_accuracy: 0.8100 - lr: 0.0010\n",
      "Epoch 40/50\n",
      "21/21 [==============================] - ETA: 0s - loss: 0.0227 - categorical_accuracy: 0.9955 \n",
      "Epoch 40: saving model to model_init_2023-02-1415_02_10.875406\\model-00040-0.02274-0.99548-0.60208-0.84000.h5\n",
      "21/21 [==============================] - 865s 41s/step - loss: 0.0227 - categorical_accuracy: 0.9955 - val_loss: 0.6021 - val_categorical_accuracy: 0.8400 - lr: 0.0010\n",
      "Epoch 41/50\n",
      "21/21 [==============================] - ETA: 0s - loss: 0.0205 - categorical_accuracy: 0.9970 \n",
      "Epoch 41: saving model to model_init_2023-02-1415_02_10.875406\\model-00041-0.02051-0.99698-0.64572-0.80000.h5\n",
      "21/21 [==============================] - 862s 41s/step - loss: 0.0205 - categorical_accuracy: 0.9970 - val_loss: 0.6457 - val_categorical_accuracy: 0.8000 - lr: 0.0010\n",
      "Epoch 42/50\n",
      "21/21 [==============================] - ETA: 0s - loss: 0.0193 - categorical_accuracy: 0.9985 \n",
      "Epoch 42: saving model to model_init_2023-02-1415_02_10.875406\\model-00042-0.01926-0.99849-0.74854-0.80000.h5\n",
      "21/21 [==============================] - 860s 41s/step - loss: 0.0193 - categorical_accuracy: 0.9985 - val_loss: 0.7485 - val_categorical_accuracy: 0.8000 - lr: 0.0010\n",
      "Epoch 43/50\n",
      "21/21 [==============================] - ETA: 0s - loss: 0.0259 - categorical_accuracy: 0.9940 \n",
      "Epoch 43: saving model to model_init_2023-02-1415_02_10.875406\\model-00043-0.02595-0.99397-0.64377-0.78000.h5\n",
      "21/21 [==============================] - 858s 41s/step - loss: 0.0259 - categorical_accuracy: 0.9940 - val_loss: 0.6438 - val_categorical_accuracy: 0.7800 - lr: 0.0010\n",
      "Epoch 44/50\n",
      "21/21 [==============================] - ETA: 0s - loss: 0.0266 - categorical_accuracy: 0.9985 \n",
      "Epoch 44: saving model to model_init_2023-02-1415_02_10.875406\\model-00044-0.02663-0.99849-0.69814-0.77000.h5\n",
      "21/21 [==============================] - 854s 41s/step - loss: 0.0266 - categorical_accuracy: 0.9985 - val_loss: 0.6981 - val_categorical_accuracy: 0.7700 - lr: 0.0010\n",
      "Epoch 45/50\n",
      "21/21 [==============================] - ETA: 0s - loss: 0.0191 - categorical_accuracy: 0.9985 \n",
      "Epoch 45: saving model to model_init_2023-02-1415_02_10.875406\\model-00045-0.01909-0.99849-0.64598-0.80000.h5\n",
      "21/21 [==============================] - 865s 41s/step - loss: 0.0191 - categorical_accuracy: 0.9985 - val_loss: 0.6460 - val_categorical_accuracy: 0.8000 - lr: 0.0010\n",
      "Epoch 46/50\n",
      "21/21 [==============================] - ETA: 0s - loss: 0.0206 - categorical_accuracy: 0.9985 \n",
      "Epoch 46: saving model to model_init_2023-02-1415_02_10.875406\\model-00046-0.02056-0.99849-0.69280-0.81000.h5\n",
      "21/21 [==============================] - 860s 41s/step - loss: 0.0206 - categorical_accuracy: 0.9985 - val_loss: 0.6928 - val_categorical_accuracy: 0.8100 - lr: 0.0010\n",
      "Epoch 47/50\n",
      "21/21 [==============================] - ETA: 0s - loss: 0.0149 - categorical_accuracy: 1.0000 \n",
      "Epoch 47: saving model to model_init_2023-02-1415_02_10.875406\\model-00047-0.01493-1.00000-0.58181-0.82000.h5\n",
      "21/21 [==============================] - 868s 42s/step - loss: 0.0149 - categorical_accuracy: 1.0000 - val_loss: 0.5818 - val_categorical_accuracy: 0.8200 - lr: 0.0010\n",
      "Epoch 48/50\n",
      "21/21 [==============================] - ETA: 0s - loss: 0.0161 - categorical_accuracy: 1.0000 \n",
      "Epoch 48: saving model to model_init_2023-02-1415_02_10.875406\\model-00048-0.01612-1.00000-0.65837-0.79000.h5\n",
      "21/21 [==============================] - 868s 41s/step - loss: 0.0161 - categorical_accuracy: 1.0000 - val_loss: 0.6584 - val_categorical_accuracy: 0.7900 - lr: 0.0010\n",
      "Epoch 49/50\n",
      "21/21 [==============================] - ETA: 0s - loss: 0.0175 - categorical_accuracy: 0.9985 \n",
      "Epoch 49: saving model to model_init_2023-02-1415_02_10.875406\\model-00049-0.01754-0.99849-0.64810-0.81000.h5\n",
      "21/21 [==============================] - 869s 41s/step - loss: 0.0175 - categorical_accuracy: 0.9985 - val_loss: 0.6481 - val_categorical_accuracy: 0.8100 - lr: 0.0010\n",
      "Epoch 50/50\n",
      "21/21 [==============================] - ETA: 0s - loss: 0.0256 - categorical_accuracy: 0.9940 \n",
      "Epoch 50: saving model to model_init_2023-02-1415_02_10.875406\\model-00050-0.02564-0.99397-0.56949-0.79000.h5\n",
      "21/21 [==============================] - 872s 42s/step - loss: 0.0256 - categorical_accuracy: 0.9940 - val_loss: 0.5695 - val_categorical_accuracy: 0.7900 - lr: 0.0010\n"
     ]
    }
   ],
   "source": [
    "history=model.fit_generator(train_generator, steps_per_epoch=steps_per_epoch, epochs=num_epochs, verbose=1, \n",
    "                    callbacks=callbacks_list, validation_data=val_generator, \n",
    "                    validation_steps=validation_steps, class_weight=None, workers=1, initial_epoch=0)"
   ]
  },
  {
   "cell_type": "code",
   "execution_count": 17,
   "metadata": {},
   "outputs": [
    {
     "data": {
      "image/png": "[encoded data removed]",
      "text/plain": [
       "<Figure size 640x480 with 1 Axes>"
      ]
     },
     "metadata": {},
     "output_type": "display_data"
    }
   ],
   "source": [
    "import matplotlib.pyplot as plt\n",
    "\n",
    "# Plot training & validation loss values\n",
    "plt.plot(history.history['loss'])\n",
    "plt.plot(history.history['val_loss'])\n",
    "plt.title('Model loss')\n",
    "plt.ylabel('Loss')\n",
    "plt.xlabel('Epoch')\n",
    "plt.legend(['Train', 'Val'], loc='upper left')\n",
    "plt.show()"
   ]
  },
  {
   "cell_type": "code",
   "execution_count": 18,
   "metadata": {},
   "outputs": [
    {
     "data": {
      "image/png": "[encoded data removed]",
      "text/plain": [
       "<Figure size 640x480 with 1 Axes>"
      ]
     },
     "metadata": {},
     "output_type": "display_data"
    }
   ],
   "source": [
    "# Plot training & validation accuracy values\n",
    "plt.plot(history.history['categorical_accuracy'])\n",
    "plt.plot(history.history['val_categorical_accuracy'])\n",
    "plt.title('Model accuracy')\n",
    "plt.ylabel('Accuracy')\n",
    "plt.xlabel('Epoch')\n",
    "plt.legend(['Train', 'Val'], loc='upper left')\n",
    "plt.show()"
   ]
  },
  {
   "cell_type": "code",
   "execution_count": 19,
   "metadata": {},
   "outputs": [],
   "source": [
    "model.save_weights(\"model_4.h5\")"
   ]
  },
  {
   "cell_type": "code",
   "execution_count": null,
   "metadata": {},
   "outputs": [],
   "source": []
  },
  {
   "cell_type": "code",
   "execution_count": null,
   "metadata": {},
   "outputs": [],
   "source": []
  }
 ],
 "metadata": {
  "kernelspec": {
   "display_name": "Python 3 (ipykernel)",
   "language": "python",
   "name": "python3"
  },
  "language_info": {
   "codemirror_mode": {
    "name": "ipython",
    "version": 3
   },
   "file_extension": ".py",
   "mimetype": "text/x-python",
   "name": "python",
   "nbconvert_exporter": "python",
   "pygments_lexer": "ipython3",
   "version": "3.9.13"
  }
 },
 "nbformat": 4,
 "nbformat_minor": 2
}
