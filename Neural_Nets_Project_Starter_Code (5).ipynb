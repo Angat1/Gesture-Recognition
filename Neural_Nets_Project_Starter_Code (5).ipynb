{
 "cells": [
  {
   "cell_type": "markdown",
   "metadata": {},
   "source": [
    "# Gesture Recognition\n",
    "In this group project, you are going to build a 3D Conv model that will be able to predict the 5 gestures correctly. Please import the following libraries to get started."
   ]
  },
  {
   "cell_type": "code",
   "execution_count": null,
   "metadata": {},
   "outputs": [],
   "source": [
    "import numpy as np\n",
    "import os\n",
    "#from scipy.misc import imread, imresize\n",
    "import imageio\n",
    "import datetime\n",
    "import os\n",
    "from skimage.io import imread\n",
    "import cv2"
   ]
  },
  {
   "cell_type": "markdown",
   "metadata": {},
   "source": [
    "We set the random seed so that the results don't vary drastically."
   ]
  },
  {
   "cell_type": "code",
   "execution_count": null,
   "metadata": {
    "scrolled": true
   },
   "outputs": [],
   "source": [
    "np.random.seed(30)\n",
    "import random as rn\n",
    "rn.seed(30)\n",
    "from keras import backend as K\n",
    "import tensorflow as tf\n",
    "tf.random.set_seed(30)"
   ]
  },
  {
   "cell_type": "markdown",
   "metadata": {},
   "source": [
    "In this block, you read the folder names for training and validation. You also set the `batch_size` here. Note that you set the batch size in such a way that you are able to use the GPU in full capacity. You keep increasing the batch size until the machine throws an error."
   ]
  },
  {
   "cell_type": "code",
   "execution_count": 12,
   "metadata": {},
   "outputs": [],
   "source": [
    "train_doc = np.random.permutation(open('E:/Project_data/Project_data/train.csv').readlines())\n",
    "val_doc = np.random.permutation(open('E:/Project_data/Project_data/val.csv').readlines())\n",
    "batch_size = 50\n"
   ]
  },
  {
   "cell_type": "markdown",
   "metadata": {},
   "source": [
    "## Generator\n",
    "This is one of the most important part of the code. The overall structure of the generator has been given. In the generator, you are going to preprocess the images as you have images of 2 different dimensions as well as create a batch of video frames. You have to experiment with `img_idx`, `y`,`z` and normalization such that you get high accuracy."
   ]
  },
  {
   "cell_type": "code",
   "execution_count": 13,
   "metadata": {},
   "outputs": [],
   "source": [
    "def generator(source_path, folder_list, batch_size):\n",
    "    print( 'Source path = ', source_path, '; batch size =', batch_size)\n",
    "    img_idx = [0,1,2,3,6,8,10,12,14,16,18,20,24,26,27,28,29]#create a list of image numbers you want to use for a particular video\n",
    "    while True:\n",
    "        t = np.random.permutation(folder_list)\n",
    "        num_batches = int(len(folder_list)/batch_size)\n",
    "        # calculate the number of batches\n",
    "        for batch in range(num_batches): # we iterate over the number of batches\n",
    "            x=len(img_idx)\n",
    "            #batch_data = np.zeros((batch_size,x,y,z,3)) # x is the number of images you use for each video, (y,z) is the final size of the input images and 3 is the number of channels RGB\n",
    "            batch_data = np.zeros((batch_size,x,100,100,3))\n",
    "            batch_labels = np.zeros((batch_size,5)) # batch_labels is the one hot representation of the output\n",
    "            for folder in range(batch_size): # iterate over the batch_size\n",
    "                imgs = os.listdir(source_path+'/'+ t[folder + (batch*batch_size)].split(';')[0]) # read all the images in the folder\n",
    "                for idx,item in enumerate(img_idx): #  Iterate iver the frames/images of a folder to read them in\n",
    "                    image = imread(source_path+'/'+ t[folder + (batch*batch_size)].strip().split(';')[0]+'/'+imgs[item]).astype(np.float32)\n",
    "\n",
    "                    \n",
    "                    #crop the images and resize them. Note that the images are of 2 different shape \n",
    "                    #and the conv3D will throw error if the inputs in a batch have different shapes\n",
    "                    \n",
    "                    height, width, channel = image.shape\n",
    "                    if height == 120 and width == 120:\n",
    "                        image = image[20:140, :120, :]\n",
    "                    image = cv2.resize(image, (100, 100)) #resizing all image to 100*100\n",
    "                    image = image/255\n",
    "\n",
    "                    batch_data[folder,idx,:,:,0] = image[:,:,0]\n",
    "                    #normalise and feed in the image\n",
    "                    batch_data[folder,idx,:,:,1] = image[:,:,1]\n",
    "                    #normalise and feed in the image\n",
    "                    batch_data[folder,idx,:,:,2] = image[:,:,2]\n",
    "                    #normalise and feed in the image\n",
    "\n",
    "                batch_labels[folder, int(t[folder + (batch*batch_size)].strip().split(';')[2])] = 1\n",
    "            yield batch_data, batch_labels #you yield the batch_data and the batch_labels, remember what does yield do\n",
    "\n",
    "        # write the code for the remaining data points which are left after full batches\n",
    "        if len(folder_list) > num_batches * batch_size:\n",
    "            x=len(img_idx)\n",
    "            rem = len(folder_list) - (num_batches * batch_size)\n",
    "            batch_data = np.zeros((rem,x,100,100,3))\n",
    "            batch_labels = np.zeros((rem,5)) # batch_labels is the one hot representation of the output\n",
    "            for folder in range(rem): # iterate over the batch_size\n",
    "                imgs = os.listdir(source_path+'/'+ t[folder + (num_batches * batch_size)].split(';')[0]) # read all the images in the folder\n",
    "                for idx,item in enumerate(img_idx): #  Iterate iver the frames/images of a folder to read them in\n",
    "                    image = imread(source_path+'/'+ t[folder + (num_batches * batch_size)].strip().split(';')[0]+'/'+imgs[item]).astype(np.float32)\n",
    "                    \n",
    "                    #crop the images and resize them. Note that the images are of 2 different shape \n",
    "                    #and the conv3D will throw error if the inputs in a batch have different shapes\n",
    "                    \n",
    "                    height, width , channel = image.shape\n",
    "                    if height == 120 or width == 120:\n",
    "                        image=image[20:140,:120,:]\n",
    "                    image = cv2.resize(image,(100,100))\n",
    "                    image = image/255\n",
    "                    batch_data[folder,idx,:,:,0] = image[:,:,0]\n",
    "                    #normalise and feed in the image\n",
    "                    batch_data[folder,idx,:,:,1] = image[:,:,1]\n",
    "                    #normalise and feed in the image\n",
    "                    batch_data[folder,idx,:,:,2] = image[:,:,2]\n",
    "                    #normalise and feed in the image\n",
    "\n",
    "                batch_labels[folder, int(t[folder + (num_batches * batch_size)].strip().split(';')[2])] = 1\n",
    "            yield batch_data, batch_labels #you yield the batch_data and the batch_labels, remember what does yield do"
   ]
  },
  {
   "cell_type": "markdown",
   "metadata": {},
   "source": [
    "Note here that a video is represented above in the generator as (number of images, height, width, number of channels). Take this into consideration while creating the model architecture."
   ]
  },
  {
   "cell_type": "code",
   "execution_count": 14,
   "metadata": {},
   "outputs": [
    {
     "name": "stdout",
     "output_type": "stream",
     "text": [
      "# training sequences = 663\n",
      "# validation sequences = 100\n",
      "# epochs = 50\n"
     ]
    }
   ],
   "source": [
    "curr_dt_time = datetime.datetime.now()\n",
    "train_path = 'E:/Project_data/Project_data/train'\n",
    "val_path = 'E:/Project_data/Project_data/val'\n",
    "num_train_sequences = len(train_doc)\n",
    "print('# training sequences =', num_train_sequences)\n",
    "num_val_sequences = len(val_doc)\n",
    "print('# validation sequences =', num_val_sequences)\n",
    "num_epochs = 50\n",
    "print ('# epochs =', num_epochs)"
   ]
  },
  {
   "cell_type": "markdown",
   "metadata": {},
   "source": [
    "## Model\n",
    "Here you make the model using different functionalities that Keras provides. Remember to use `Conv3D` and `MaxPooling3D` and not `Conv2D` and `Maxpooling2D` for a 3D convolution model. You would want to use `TimeDistributed` while building a Conv2D + RNN model. Also remember that the last layer is the softmax. Design the network in such a way that the model is able to give good accuracy on the least number of parameters so that it can fit in the memory of the webcam."
   ]
  },
  {
   "cell_type": "code",
   "execution_count": 15,
   "metadata": {},
   "outputs": [],
   "source": [
    "from keras.models import Sequential, Model\n",
    "from keras.layers import Dense, GRU, Flatten, TimeDistributed, Flatten, BatchNormalization, Activation ,Dropout\n",
    "from keras.layers.convolutional import Conv3D, MaxPooling3D\n",
    "from keras.callbacks import ModelCheckpoint, ReduceLROnPlateau\n",
    "from keras import optimizers\n",
    "\n",
    "#write your model here\n",
    "model = Sequential()\n",
    "\n",
    "# 1st layer: Conv3D\n",
    "model.add(Conv3D(32, kernel_size=(3, 3, 3), input_shape=(19,100,100,3), padding='same'))\n",
    "model.add(Activation('relu'))\n",
    "model.add(BatchNormalization())\n",
    "model.add(MaxPooling3D(pool_size=(2, 2, 2)))\n",
    "\n",
    "# 2nd layer: Conv3D\n",
    "model.add(Conv3D(64, kernel_size=(3, 3, 3), padding='same'))\n",
    "model.add(Activation('relu'))\n",
    "model.add(BatchNormalization())\n",
    "model.add(MaxPooling3D(pool_size=(2, 2, 2)))\n",
    "\n",
    "# 3rd layer: Conv3D\n",
    "model.add(Conv3D(128, kernel_size=(3, 3, 3), padding='same'))\n",
    "model.add(Activation('relu'))\n",
    "model.add(BatchNormalization())\n",
    "model.add(MaxPooling3D(pool_size=(2, 2, 2)))\n",
    "\n",
    "# Flatten\n",
    "model.add(Flatten())\n",
    "\n",
    "# Fully connected layer\n",
    "model.add(Dense(512, activation='relu'))\n",
    "model.add(Dropout(0.5))\n",
    "\n",
    "# Output layer\n",
    "model.add(Dense(5, activation='softmax'))\n"
   ]
  },
  {
   "cell_type": "markdown",
   "metadata": {},
   "source": [
    "Now that you have written the model, the next step is to `compile` the model. When you print the `summary` of the model, you'll see the total number of parameters you have to train."
   ]
  },
  {
   "cell_type": "code",
   "execution_count": 16,
   "metadata": {
    "scrolled": true
   },
   "outputs": [
    {
     "name": "stdout",
     "output_type": "stream",
     "text": [
      "Model: \"sequential_1\"\n",
      "_________________________________________________________________\n",
      " Layer (type)                Output Shape              Param #   \n",
      "=================================================================\n",
      " conv3d_3 (Conv3D)           (None, 19, 100, 100, 32)  2624      \n",
      "                                                                 \n",
      " activation_3 (Activation)   (None, 19, 100, 100, 32)  0         \n",
      "                                                                 \n",
      " batch_normalization_3 (Batc  (None, 19, 100, 100, 32)  128      \n",
      " hNormalization)                                                 \n",
      "                                                                 \n",
      " max_pooling3d_3 (MaxPooling  (None, 9, 50, 50, 32)    0         \n",
      " 3D)                                                             \n",
      "                                                                 \n",
      " conv3d_4 (Conv3D)           (None, 9, 50, 50, 64)     55360     \n",
      "                                                                 \n",
      " activation_4 (Activation)   (None, 9, 50, 50, 64)     0         \n",
      "                                                                 \n",
      " batch_normalization_4 (Batc  (None, 9, 50, 50, 64)    256       \n",
      " hNormalization)                                                 \n",
      "                                                                 \n",
      " max_pooling3d_4 (MaxPooling  (None, 4, 25, 25, 64)    0         \n",
      " 3D)                                                             \n",
      "                                                                 \n",
      " conv3d_5 (Conv3D)           (None, 4, 25, 25, 128)    221312    \n",
      "                                                                 \n",
      " activation_5 (Activation)   (None, 4, 25, 25, 128)    0         \n",
      "                                                                 \n",
      " batch_normalization_5 (Batc  (None, 4, 25, 25, 128)   512       \n",
      " hNormalization)                                                 \n",
      "                                                                 \n",
      " max_pooling3d_5 (MaxPooling  (None, 2, 12, 12, 128)   0         \n",
      " 3D)                                                             \n",
      "                                                                 \n",
      " flatten_1 (Flatten)         (None, 36864)             0         \n",
      "                                                                 \n",
      " dense_2 (Dense)             (None, 512)               18874880  \n",
      "                                                                 \n",
      " dropout_1 (Dropout)         (None, 512)               0         \n",
      "                                                                 \n",
      " dense_3 (Dense)             (None, 5)                 2565      \n",
      "                                                                 \n",
      "=================================================================\n",
      "Total params: 19,157,637\n",
      "Trainable params: 19,157,189\n",
      "Non-trainable params: 448\n",
      "_________________________________________________________________\n",
      "None\n"
     ]
    }
   ],
   "source": [
    "optimiser = 'SGD'\n",
    "model.compile(optimizer=optimiser, loss='categorical_crossentropy', metrics=['categorical_accuracy'])\n",
    "print (model.summary())"
   ]
  },
  {
   "cell_type": "markdown",
   "metadata": {},
   "source": [
    "Let us create the `train_generator` and the `val_generator` which will be used in `.fit_generator`."
   ]
  },
  {
   "cell_type": "code",
   "execution_count": 17,
   "metadata": {},
   "outputs": [],
   "source": [
    "train_generator = generator(train_path, train_doc, batch_size)\n",
    "val_generator = generator(val_path, val_doc, batch_size)"
   ]
  },
  {
   "cell_type": "code",
   "execution_count": 18,
   "metadata": {},
   "outputs": [
    {
     "name": "stdout",
     "output_type": "stream",
     "text": [
      "WARNING:tensorflow:`period` argument is deprecated. Please use `save_freq` to specify the frequency in number of batches seen.\n"
     ]
    }
   ],
   "source": [
    "model_name = 'model_init' + '_' + str(curr_dt_time).replace(' ','').replace(':','_') + '/'\n",
    "    \n",
    "if not os.path.exists(model_name):\n",
    "    os.mkdir(model_name)\n",
    "        \n",
    "filepath = model_name + 'model-{epoch:05d}-{loss:.5f}-{categorical_accuracy:.5f}-{val_loss:.5f}-{val_categorical_accuracy:.5f}.h5'\n",
    "\n",
    "checkpoint = ModelCheckpoint(filepath, monitor='val_loss', verbose=1, save_best_only=False, save_weights_only=False, mode='auto', period=1)\n",
    "\n",
    "LR = ReduceLROnPlateau(monitor='val_loss', factor=0.2, patience=5, min_lr=0.001)\n",
    "callbacks_list = [checkpoint, LR]"
   ]
  },
  {
   "cell_type": "markdown",
   "metadata": {},
   "source": [
    "The `steps_per_epoch` and `validation_steps` are used by `fit_generator` to decide the number of next() calls it need to make."
   ]
  },
  {
   "cell_type": "code",
   "execution_count": 19,
   "metadata": {},
   "outputs": [],
   "source": [
    "if (num_train_sequences%batch_size) == 0:\n",
    "    steps_per_epoch = int(num_train_sequences/batch_size)\n",
    "else:\n",
    "    steps_per_epoch = (num_train_sequences//batch_size) + 1\n",
    "\n",
    "if (num_val_sequences%batch_size) == 0:\n",
    "    validation_steps = int(num_val_sequences/batch_size)\n",
    "else:\n",
    "    validation_steps = (num_val_sequences//batch_size) + 1"
   ]
  },
  {
   "cell_type": "markdown",
   "metadata": {},
   "source": [
    "Let us now fit the model. This will start training the model and with the help of the checkpoints, you'll be able to save the model at the end of each epoch."
   ]
  },
  {
   "cell_type": "code",
   "execution_count": 20,
   "metadata": {
    "scrolled": true
   },
   "outputs": [
    {
     "name": "stderr",
     "output_type": "stream",
     "text": [
      "C:\\Users\\Administrator\\AppData\\Local\\Temp\\2\\ipykernel_10076\\1787904139.py:1: UserWarning: `Model.fit_generator` is deprecated and will be removed in a future version. Please use `Model.fit`, which supports generators.\n",
      "  history=model.fit_generator(train_generator, steps_per_epoch=steps_per_epoch, epochs=num_epochs, verbose=1,\n"
     ]
    },
    {
     "name": "stdout",
     "output_type": "stream",
     "text": [
      "Source path =  E:/Project_data/Project_data/train ; batch size = 50\n",
      "Epoch 1/50\n",
      "14/14 [==============================] - ETA: 0s - loss: 9.1925 - categorical_accuracy: 0.3318  Source path =  E:/Project_data/Project_data/val ; batch size = 50\n",
      "\n",
      "Epoch 1: saving model to model_init_2023-02-1416_20_20.622580\\model-00001-9.19252-0.33183-12.04805-0.23000.h5\n",
      "14/14 [==============================] - 1026s 73s/step - loss: 9.1925 - categorical_accuracy: 0.3318 - val_loss: 12.0480 - val_categorical_accuracy: 0.2300 - lr: 0.0100\n",
      "Epoch 2/50\n",
      "14/14 [==============================] - ETA: 0s - loss: 1.4778 - categorical_accuracy: 0.4615  \n",
      "Epoch 2: saving model to model_init_2023-02-1416_20_20.622580\\model-00002-1.47778-0.46154-3.58911-0.24000.h5\n",
      "14/14 [==============================] - 1085s 78s/step - loss: 1.4778 - categorical_accuracy: 0.4615 - val_loss: 3.5891 - val_categorical_accuracy: 0.2400 - lr: 0.0100\n",
      "Epoch 3/50\n",
      "14/14 [==============================] - ETA: 0s - loss: 1.0107 - categorical_accuracy: 0.5882  \n",
      "Epoch 3: saving model to model_init_2023-02-1416_20_20.622580\\model-00003-1.01069-0.58824-3.87402-0.25000.h5\n",
      "14/14 [==============================] - 1059s 76s/step - loss: 1.0107 - categorical_accuracy: 0.5882 - val_loss: 3.8740 - val_categorical_accuracy: 0.2500 - lr: 0.0100\n",
      "Epoch 4/50\n",
      "14/14 [==============================] - ETA: 0s - loss: 0.8681 - categorical_accuracy: 0.6621  \n",
      "Epoch 4: saving model to model_init_2023-02-1416_20_20.622580\\model-00004-0.86808-0.66214-3.98986-0.17000.h5\n",
      "14/14 [==============================] - 1154s 83s/step - loss: 0.8681 - categorical_accuracy: 0.6621 - val_loss: 3.9899 - val_categorical_accuracy: 0.1700 - lr: 0.0100\n",
      "Epoch 5/50\n",
      "14/14 [==============================] - ETA: 0s - loss: 0.8081 - categorical_accuracy: 0.6863  \n",
      "Epoch 5: saving model to model_init_2023-02-1416_20_20.622580\\model-00005-0.80812-0.68627-3.81968-0.23000.h5\n",
      "14/14 [==============================] - 1180s 84s/step - loss: 0.8081 - categorical_accuracy: 0.6863 - val_loss: 3.8197 - val_categorical_accuracy: 0.2300 - lr: 0.0100\n",
      "Epoch 6/50\n",
      "14/14 [==============================] - ETA: 0s - loss: 0.8084 - categorical_accuracy: 0.6983  \n",
      "Epoch 6: saving model to model_init_2023-02-1416_20_20.622580\\model-00006-0.80839-0.69834-3.28647-0.18000.h5\n",
      "14/14 [==============================] - 1181s 84s/step - loss: 0.8084 - categorical_accuracy: 0.6983 - val_loss: 3.2865 - val_categorical_accuracy: 0.1800 - lr: 0.0100\n",
      "Epoch 7/50\n",
      "14/14 [==============================] - ETA: 0s - loss: 0.7509 - categorical_accuracy: 0.7195  \n",
      "Epoch 7: saving model to model_init_2023-02-1416_20_20.622580\\model-00007-0.75091-0.71946-3.53499-0.24000.h5\n",
      "14/14 [==============================] - 1173s 84s/step - loss: 0.7509 - categorical_accuracy: 0.7195 - val_loss: 3.5350 - val_categorical_accuracy: 0.2400 - lr: 0.0100\n",
      "Epoch 8/50\n",
      "14/14 [==============================] - ETA: 0s - loss: 0.7725 - categorical_accuracy: 0.7089  \n",
      "Epoch 8: saving model to model_init_2023-02-1416_20_20.622580\\model-00008-0.77254-0.70890-1.90769-0.29000.h5\n",
      "14/14 [==============================] - 1173s 84s/step - loss: 0.7725 - categorical_accuracy: 0.7089 - val_loss: 1.9077 - val_categorical_accuracy: 0.2900 - lr: 0.0100\n",
      "Epoch 9/50\n",
      "14/14 [==============================] - ETA: 0s - loss: 0.6736 - categorical_accuracy: 0.7526  \n",
      "Epoch 9: saving model to model_init_2023-02-1416_20_20.622580\\model-00009-0.67359-0.75264-2.33357-0.35000.h5\n",
      "14/14 [==============================] - 1175s 84s/step - loss: 0.6736 - categorical_accuracy: 0.7526 - val_loss: 2.3336 - val_categorical_accuracy: 0.3500 - lr: 0.0100\n",
      "Epoch 10/50\n",
      "14/14 [==============================] - ETA: 0s - loss: 0.5075 - categorical_accuracy: 0.8190  \n",
      "Epoch 10: saving model to model_init_2023-02-1416_20_20.622580\\model-00010-0.50746-0.81900-3.22250-0.31000.h5\n",
      "14/14 [==============================] - 1171s 84s/step - loss: 0.5075 - categorical_accuracy: 0.8190 - val_loss: 3.2225 - val_categorical_accuracy: 0.3100 - lr: 0.0100\n",
      "Epoch 11/50\n",
      "14/14 [==============================] - ETA: 0s - loss: 0.4542 - categorical_accuracy: 0.8296  \n",
      "Epoch 11: saving model to model_init_2023-02-1416_20_20.622580\\model-00011-0.45422-0.82956-3.60454-0.35000.h5\n",
      "14/14 [==============================] - 1176s 84s/step - loss: 0.4542 - categorical_accuracy: 0.8296 - val_loss: 3.6045 - val_categorical_accuracy: 0.3500 - lr: 0.0100\n",
      "Epoch 12/50\n",
      "14/14 [==============================] - ETA: 0s - loss: 0.4176 - categorical_accuracy: 0.8416  \n",
      "Epoch 12: saving model to model_init_2023-02-1416_20_20.622580\\model-00012-0.41759-0.84163-4.10897-0.38000.h5\n",
      "14/14 [==============================] - 1178s 83s/step - loss: 0.4176 - categorical_accuracy: 0.8416 - val_loss: 4.1090 - val_categorical_accuracy: 0.3800 - lr: 0.0100\n",
      "Epoch 13/50\n",
      "14/14 [==============================] - ETA: 0s - loss: 0.4214 - categorical_accuracy: 0.8401  \n",
      "Epoch 13: saving model to model_init_2023-02-1416_20_20.622580\\model-00013-0.42137-0.84012-5.76204-0.27000.h5\n",
      "14/14 [==============================] - 1173s 84s/step - loss: 0.4214 - categorical_accuracy: 0.8401 - val_loss: 5.7620 - val_categorical_accuracy: 0.2700 - lr: 0.0100\n",
      "Epoch 14/50\n",
      "14/14 [==============================] - ETA: 0s - loss: 0.3954 - categorical_accuracy: 0.8673  \n",
      "Epoch 14: saving model to model_init_2023-02-1416_20_20.622580\\model-00014-0.39537-0.86727-3.76535-0.35000.h5\n",
      "14/14 [==============================] - 1175s 84s/step - loss: 0.3954 - categorical_accuracy: 0.8673 - val_loss: 3.7654 - val_categorical_accuracy: 0.3500 - lr: 0.0020\n",
      "Epoch 15/50\n",
      "14/14 [==============================] - ETA: 0s - loss: 0.3198 - categorical_accuracy: 0.8869  \n",
      "Epoch 15: saving model to model_init_2023-02-1416_20_20.622580\\model-00015-0.31983-0.88688-3.69154-0.36000.h5\n",
      "14/14 [==============================] - 1175s 84s/step - loss: 0.3198 - categorical_accuracy: 0.8869 - val_loss: 3.6915 - val_categorical_accuracy: 0.3600 - lr: 0.0020\n",
      "Epoch 16/50\n",
      "14/14 [==============================] - ETA: 0s - loss: 0.2978 - categorical_accuracy: 0.9170  \n",
      "Epoch 16: saving model to model_init_2023-02-1416_20_20.622580\\model-00016-0.29775-0.91704-3.13430-0.41000.h5\n",
      "14/14 [==============================] - 1084s 77s/step - loss: 0.2978 - categorical_accuracy: 0.9170 - val_loss: 3.1343 - val_categorical_accuracy: 0.4100 - lr: 0.0020\n",
      "Epoch 17/50\n",
      "14/14 [==============================] - ETA: 0s - loss: 0.2711 - categorical_accuracy: 0.9276  \n",
      "Epoch 17: saving model to model_init_2023-02-1416_20_20.622580\\model-00017-0.27112-0.92760-2.89694-0.41000.h5\n",
      "14/14 [==============================] - 1013s 72s/step - loss: 0.2711 - categorical_accuracy: 0.9276 - val_loss: 2.8969 - val_categorical_accuracy: 0.4100 - lr: 0.0020\n",
      "Epoch 18/50\n",
      "14/14 [==============================] - ETA: 0s - loss: 0.2566 - categorical_accuracy: 0.9216  \n",
      "Epoch 18: saving model to model_init_2023-02-1416_20_20.622580\\model-00018-0.25656-0.92157-2.75561-0.41000.h5\n",
      "14/14 [==============================] - 1010s 72s/step - loss: 0.2566 - categorical_accuracy: 0.9216 - val_loss: 2.7556 - val_categorical_accuracy: 0.4100 - lr: 0.0020\n",
      "Epoch 19/50\n",
      "14/14 [==============================] - ETA: 0s - loss: 0.2437 - categorical_accuracy: 0.9201  \n",
      "Epoch 19: saving model to model_init_2023-02-1416_20_20.622580\\model-00019-0.24371-0.92006-2.63882-0.41000.h5\n",
      "14/14 [==============================] - 1012s 72s/step - loss: 0.2437 - categorical_accuracy: 0.9201 - val_loss: 2.6388 - val_categorical_accuracy: 0.4100 - lr: 0.0010\n",
      "Epoch 20/50\n",
      "14/14 [==============================] - ETA: 0s - loss: 0.2216 - categorical_accuracy: 0.9427  \n",
      "Epoch 20: saving model to model_init_2023-02-1416_20_20.622580\\model-00020-0.22156-0.94268-2.08523-0.50000.h5\n",
      "14/14 [==============================] - 1012s 72s/step - loss: 0.2216 - categorical_accuracy: 0.9427 - val_loss: 2.0852 - val_categorical_accuracy: 0.5000 - lr: 0.0010\n",
      "Epoch 21/50\n",
      "14/14 [==============================] - ETA: 0s - loss: 0.2404 - categorical_accuracy: 0.9382  \n",
      "Epoch 21: saving model to model_init_2023-02-1416_20_20.622580\\model-00021-0.24038-0.93816-2.19238-0.45000.h5\n",
      "14/14 [==============================] - 1014s 72s/step - loss: 0.2404 - categorical_accuracy: 0.9382 - val_loss: 2.1924 - val_categorical_accuracy: 0.4500 - lr: 0.0010\n",
      "Epoch 22/50\n",
      "14/14 [==============================] - ETA: 0s - loss: 0.2349 - categorical_accuracy: 0.9306  \n",
      "Epoch 22: saving model to model_init_2023-02-1416_20_20.622580\\model-00022-0.23489-0.93062-2.26146-0.46000.h5\n",
      "14/14 [==============================] - 1011s 72s/step - loss: 0.2349 - categorical_accuracy: 0.9306 - val_loss: 2.2615 - val_categorical_accuracy: 0.4600 - lr: 0.0010\n",
      "Epoch 23/50\n",
      "14/14 [==============================] - ETA: 0s - loss: 0.2166 - categorical_accuracy: 0.9351  \n",
      "Epoch 23: saving model to model_init_2023-02-1416_20_20.622580\\model-00023-0.21663-0.93514-1.90555-0.53000.h5\n",
      "14/14 [==============================] - 1014s 72s/step - loss: 0.2166 - categorical_accuracy: 0.9351 - val_loss: 1.9056 - val_categorical_accuracy: 0.5300 - lr: 0.0010\n",
      "Epoch 24/50\n",
      "14/14 [==============================] - ETA: 0s - loss: 0.2288 - categorical_accuracy: 0.9321  \n",
      "Epoch 24: saving model to model_init_2023-02-1416_20_20.622580\\model-00024-0.22884-0.93213-1.81062-0.53000.h5\n",
      "14/14 [==============================] - 1016s 72s/step - loss: 0.2288 - categorical_accuracy: 0.9321 - val_loss: 1.8106 - val_categorical_accuracy: 0.5300 - lr: 0.0010\n",
      "Epoch 25/50\n",
      "14/14 [==============================] - ETA: 0s - loss: 0.2186 - categorical_accuracy: 0.9412  \n",
      "Epoch 25: saving model to model_init_2023-02-1416_20_20.622580\\model-00025-0.21863-0.94118-1.60057-0.54000.h5\n",
      "14/14 [==============================] - 1010s 72s/step - loss: 0.2186 - categorical_accuracy: 0.9412 - val_loss: 1.6006 - val_categorical_accuracy: 0.5400 - lr: 0.0010\n",
      "Epoch 26/50\n",
      "14/14 [==============================] - ETA: 0s - loss: 0.2155 - categorical_accuracy: 0.9487  \n",
      "Epoch 26: saving model to model_init_2023-02-1416_20_20.622580\\model-00026-0.21547-0.94872-1.64566-0.56000.h5\n",
      "14/14 [==============================] - 1018s 73s/step - loss: 0.2155 - categorical_accuracy: 0.9487 - val_loss: 1.6457 - val_categorical_accuracy: 0.5600 - lr: 0.0010\n",
      "Epoch 27/50\n",
      "14/14 [==============================] - ETA: 0s - loss: 0.2339 - categorical_accuracy: 0.9306  \n",
      "Epoch 27: saving model to model_init_2023-02-1416_20_20.622580\\model-00027-0.23393-0.93062-1.46776-0.54000.h5\n",
      "14/14 [==============================] - 1019s 73s/step - loss: 0.2339 - categorical_accuracy: 0.9306 - val_loss: 1.4678 - val_categorical_accuracy: 0.5400 - lr: 0.0010\n",
      "Epoch 28/50\n",
      "14/14 [==============================] - ETA: 0s - loss: 0.2174 - categorical_accuracy: 0.9427  \n",
      "Epoch 28: saving model to model_init_2023-02-1416_20_20.622580\\model-00028-0.21737-0.94268-1.25296-0.62000.h5\n",
      "14/14 [==============================] - 1018s 73s/step - loss: 0.2174 - categorical_accuracy: 0.9427 - val_loss: 1.2530 - val_categorical_accuracy: 0.6200 - lr: 0.0010\n",
      "Epoch 29/50\n",
      "14/14 [==============================] - ETA: 0s - loss: 0.2036 - categorical_accuracy: 0.9382  \n",
      "Epoch 29: saving model to model_init_2023-02-1416_20_20.622580\\model-00029-0.20355-0.93816-1.41439-0.57000.h5\n",
      "14/14 [==============================] - 1016s 72s/step - loss: 0.2036 - categorical_accuracy: 0.9382 - val_loss: 1.4144 - val_categorical_accuracy: 0.5700 - lr: 0.0010\n",
      "Epoch 30/50\n",
      "14/14 [==============================] - ETA: 0s - loss: 0.1845 - categorical_accuracy: 0.9412  \n",
      "Epoch 30: saving model to model_init_2023-02-1416_20_20.622580\\model-00030-0.18447-0.94118-1.25882-0.59000.h5\n",
      "14/14 [==============================] - 1014s 72s/step - loss: 0.1845 - categorical_accuracy: 0.9412 - val_loss: 1.2588 - val_categorical_accuracy: 0.5900 - lr: 0.0010\n",
      "Epoch 31/50\n",
      "14/14 [==============================] - ETA: 0s - loss: 0.1936 - categorical_accuracy: 0.9412  \n",
      "Epoch 31: saving model to model_init_2023-02-1416_20_20.622580\\model-00031-0.19356-0.94118-1.30614-0.59000.h5\n",
      "14/14 [==============================] - 1010s 72s/step - loss: 0.1936 - categorical_accuracy: 0.9412 - val_loss: 1.3061 - val_categorical_accuracy: 0.5900 - lr: 0.0010\n",
      "Epoch 32/50\n",
      "14/14 [==============================] - ETA: 0s - loss: 0.1904 - categorical_accuracy: 0.9532  \n",
      "Epoch 32: saving model to model_init_2023-02-1416_20_20.622580\\model-00032-0.19041-0.95324-1.34091-0.57000.h5\n",
      "14/14 [==============================] - 1011s 72s/step - loss: 0.1904 - categorical_accuracy: 0.9532 - val_loss: 1.3409 - val_categorical_accuracy: 0.5700 - lr: 0.0010\n",
      "Epoch 33/50\n",
      "14/14 [==============================] - ETA: 0s - loss: 0.1558 - categorical_accuracy: 0.9683  \n",
      "Epoch 33: saving model to model_init_2023-02-1416_20_20.622580\\model-00033-0.15582-0.96833-1.29753-0.59000.h5\n",
      "14/14 [==============================] - 1019s 73s/step - loss: 0.1558 - categorical_accuracy: 0.9683 - val_loss: 1.2975 - val_categorical_accuracy: 0.5900 - lr: 0.0010\n",
      "Epoch 34/50\n",
      "14/14 [==============================] - ETA: 0s - loss: 0.1854 - categorical_accuracy: 0.9548  \n",
      "Epoch 34: saving model to model_init_2023-02-1416_20_20.622580\\model-00034-0.18541-0.95475-1.10222-0.62000.h5\n",
      "14/14 [==============================] - 1024s 73s/step - loss: 0.1854 - categorical_accuracy: 0.9548 - val_loss: 1.1022 - val_categorical_accuracy: 0.6200 - lr: 0.0010\n",
      "Epoch 35/50\n",
      "14/14 [==============================] - ETA: 0s - loss: 0.1432 - categorical_accuracy: 0.9729  \n",
      "Epoch 35: saving model to model_init_2023-02-1416_20_20.622580\\model-00035-0.14316-0.97285-1.26767-0.61000.h5\n",
      "14/14 [==============================] - 1016s 73s/step - loss: 0.1432 - categorical_accuracy: 0.9729 - val_loss: 1.2677 - val_categorical_accuracy: 0.6100 - lr: 0.0010\n",
      "Epoch 36/50\n",
      "14/14 [==============================] - ETA: 0s - loss: 0.1843 - categorical_accuracy: 0.9548  \n",
      "Epoch 36: saving model to model_init_2023-02-1416_20_20.622580\\model-00036-0.18427-0.95475-1.28320-0.58000.h5\n",
      "14/14 [==============================] - 1025s 73s/step - loss: 0.1843 - categorical_accuracy: 0.9548 - val_loss: 1.2832 - val_categorical_accuracy: 0.5800 - lr: 0.0010\n",
      "Epoch 37/50\n",
      "14/14 [==============================] - ETA: 0s - loss: 0.1670 - categorical_accuracy: 0.9578  \n",
      "Epoch 37: saving model to model_init_2023-02-1416_20_20.622580\\model-00037-0.16705-0.95777-1.23521-0.61000.h5\n",
      "14/14 [==============================] - 1024s 73s/step - loss: 0.1670 - categorical_accuracy: 0.9578 - val_loss: 1.2352 - val_categorical_accuracy: 0.6100 - lr: 0.0010\n",
      "Epoch 38/50\n",
      "14/14 [==============================] - ETA: 0s - loss: 0.1777 - categorical_accuracy: 0.9593  \n",
      "Epoch 38: saving model to model_init_2023-02-1416_20_20.622580\\model-00038-0.17773-0.95928-1.29632-0.61000.h5\n",
      "14/14 [==============================] - 938s 66s/step - loss: 0.1777 - categorical_accuracy: 0.9593 - val_loss: 1.2963 - val_categorical_accuracy: 0.6100 - lr: 0.0010\n",
      "Epoch 39/50\n",
      "14/14 [==============================] - ETA: 0s - loss: 0.1570 - categorical_accuracy: 0.9623  \n",
      "Epoch 39: saving model to model_init_2023-02-1416_20_20.622580\\model-00039-0.15704-0.96229-1.25814-0.59000.h5\n",
      "14/14 [==============================] - 900s 64s/step - loss: 0.1570 - categorical_accuracy: 0.9623 - val_loss: 1.2581 - val_categorical_accuracy: 0.5900 - lr: 0.0010\n",
      "Epoch 40/50\n",
      "14/14 [==============================] - ETA: 0s - loss: 0.1586 - categorical_accuracy: 0.9713  \n",
      "Epoch 40: saving model to model_init_2023-02-1416_20_20.622580\\model-00040-0.15856-0.97134-1.54545-0.57000.h5\n",
      "14/14 [==============================] - 894s 64s/step - loss: 0.1586 - categorical_accuracy: 0.9713 - val_loss: 1.5455 - val_categorical_accuracy: 0.5700 - lr: 0.0010\n",
      "Epoch 41/50\n",
      "14/14 [==============================] - ETA: 0s - loss: 0.1428 - categorical_accuracy: 0.9653  \n",
      "Epoch 41: saving model to model_init_2023-02-1416_20_20.622580\\model-00041-0.14279-0.96531-1.21337-0.62000.h5\n",
      "14/14 [==============================] - 892s 63s/step - loss: 0.1428 - categorical_accuracy: 0.9653 - val_loss: 1.2134 - val_categorical_accuracy: 0.6200 - lr: 0.0010\n",
      "Epoch 42/50\n",
      "14/14 [==============================] - ETA: 0s - loss: 0.1571 - categorical_accuracy: 0.9623  \n",
      "Epoch 42: saving model to model_init_2023-02-1416_20_20.622580\\model-00042-0.15711-0.96229-1.16308-0.62000.h5\n",
      "14/14 [==============================] - 956s 68s/step - loss: 0.1571 - categorical_accuracy: 0.9623 - val_loss: 1.1631 - val_categorical_accuracy: 0.6200 - lr: 0.0010\n",
      "Epoch 43/50\n",
      "14/14 [==============================] - ETA: 0s - loss: 0.1629 - categorical_accuracy: 0.9623  \n",
      "Epoch 43: saving model to model_init_2023-02-1416_20_20.622580\\model-00043-0.16291-0.96229-1.14131-0.64000.h5\n",
      "14/14 [==============================] - 936s 67s/step - loss: 0.1629 - categorical_accuracy: 0.9623 - val_loss: 1.1413 - val_categorical_accuracy: 0.6400 - lr: 0.0010\n",
      "Epoch 44/50\n",
      "14/14 [==============================] - ETA: 0s - loss: 0.1459 - categorical_accuracy: 0.9713  \n",
      "Epoch 44: saving model to model_init_2023-02-1416_20_20.622580\\model-00044-0.14586-0.97134-1.11916-0.58000.h5\n",
      "14/14 [==============================] - 897s 64s/step - loss: 0.1459 - categorical_accuracy: 0.9713 - val_loss: 1.1192 - val_categorical_accuracy: 0.5800 - lr: 0.0010\n",
      "Epoch 45/50\n",
      "14/14 [==============================] - ETA: 0s - loss: 0.1618 - categorical_accuracy: 0.9668  \n",
      "Epoch 45: saving model to model_init_2023-02-1416_20_20.622580\\model-00045-0.16176-0.96682-1.16718-0.64000.h5\n",
      "14/14 [==============================] - 885s 63s/step - loss: 0.1618 - categorical_accuracy: 0.9668 - val_loss: 1.1672 - val_categorical_accuracy: 0.6400 - lr: 0.0010\n",
      "Epoch 46/50\n",
      "14/14 [==============================] - ETA: 0s - loss: 0.1563 - categorical_accuracy: 0.9668  \n",
      "Epoch 46: saving model to model_init_2023-02-1416_20_20.622580\\model-00046-0.15634-0.96682-1.19954-0.64000.h5\n",
      "14/14 [==============================] - 891s 64s/step - loss: 0.1563 - categorical_accuracy: 0.9668 - val_loss: 1.1995 - val_categorical_accuracy: 0.6400 - lr: 0.0010\n",
      "Epoch 47/50\n",
      "14/14 [==============================] - ETA: 0s - loss: 0.1397 - categorical_accuracy: 0.9683  \n",
      "Epoch 47: saving model to model_init_2023-02-1416_20_20.622580\\model-00047-0.13975-0.96833-1.12797-0.65000.h5\n",
      "14/14 [==============================] - 883s 63s/step - loss: 0.1397 - categorical_accuracy: 0.9683 - val_loss: 1.1280 - val_categorical_accuracy: 0.6500 - lr: 0.0010\n",
      "Epoch 48/50\n",
      "14/14 [==============================] - ETA: 0s - loss: 0.1454 - categorical_accuracy: 0.9608  \n",
      "Epoch 48: saving model to model_init_2023-02-1416_20_20.622580\\model-00048-0.14544-0.96078-1.14419-0.64000.h5\n",
      "14/14 [==============================] - 884s 63s/step - loss: 0.1454 - categorical_accuracy: 0.9608 - val_loss: 1.1442 - val_categorical_accuracy: 0.6400 - lr: 0.0010\n",
      "Epoch 49/50\n",
      "14/14 [==============================] - ETA: 0s - loss: 0.1345 - categorical_accuracy: 0.9668  \n",
      "Epoch 49: saving model to model_init_2023-02-1416_20_20.622580\\model-00049-0.13449-0.96682-1.10167-0.63000.h5\n",
      "14/14 [==============================] - 939s 67s/step - loss: 0.1345 - categorical_accuracy: 0.9668 - val_loss: 1.1017 - val_categorical_accuracy: 0.6300 - lr: 0.0010\n",
      "Epoch 50/50\n",
      "14/14 [==============================] - ETA: 0s - loss: 0.1772 - categorical_accuracy: 0.9578  \n",
      "Epoch 50: saving model to model_init_2023-02-1416_20_20.622580\\model-00050-0.17718-0.95777-1.14168-0.61000.h5\n",
      "14/14 [==============================] - 1029s 73s/step - loss: 0.1772 - categorical_accuracy: 0.9578 - val_loss: 1.1417 - val_categorical_accuracy: 0.6100 - lr: 0.0010\n"
     ]
    }
   ],
   "source": [
    "history=model.fit_generator(train_generator, steps_per_epoch=steps_per_epoch, epochs=num_epochs, verbose=1, \n",
    "                    callbacks=callbacks_list, validation_data=val_generator, \n",
    "                    validation_steps=validation_steps, class_weight=None, workers=1, initial_epoch=0)"
   ]
  },
  {
   "cell_type": "code",
   "execution_count": 21,
   "metadata": {},
   "outputs": [
    {
     "data": {
      "image/png": "[encoded data removed]",
      "text/plain": [
       "<Figure size 640x480 with 1 Axes>"
      ]
     },
     "metadata": {},
     "output_type": "display_data"
    }
   ],
   "source": [
    "import matplotlib.pyplot as plt\n",
    "\n",
    "# Plot training & validation loss values\n",
    "plt.plot(history.history['loss'])\n",
    "plt.plot(history.history['val_loss'])\n",
    "plt.title('Model loss')\n",
    "plt.ylabel('Loss')\n",
    "plt.xlabel('Epoch')\n",
    "plt.legend(['Train', 'Val'], loc='upper left')\n",
    "plt.show()"
   ]
  },
  {
   "cell_type": "code",
   "execution_count": 22,
   "metadata": {},
   "outputs": [
    {
     "data": {
      "image/png": "[encoded data removed]",
      "text/plain": [
       "<Figure size 640x480 with 1 Axes>"
      ]
     },
     "metadata": {},
     "output_type": "display_data"
    }
   ],
   "source": [
    "# Plot training & validation accuracy values\n",
    "plt.plot(history.history['categorical_accuracy'])\n",
    "plt.plot(history.history['val_categorical_accuracy'])\n",
    "plt.title('Model accuracy')\n",
    "plt.ylabel('Accuracy')\n",
    "plt.xlabel('Epoch')\n",
    "plt.legend(['Train', 'Val'], loc='upper left')\n",
    "plt.show()"
   ]
  },
  {
   "cell_type": "code",
   "execution_count": 23,
   "metadata": {},
   "outputs": [],
   "source": [
    "model.save_weights(\"model_5.h5\")"
   ]
  },
  {
   "cell_type": "code",
   "execution_count": null,
   "metadata": {},
   "outputs": [],
   "source": []
  },
  {
   "cell_type": "code",
   "execution_count": null,
   "metadata": {},
   "outputs": [],
   "source": []
  }
 ],
 "metadata": {
  "kernelspec": {
   "display_name": "Python 3 (ipykernel)",
   "language": "python",
   "name": "python3"
  },
  "language_info": {
   "codemirror_mode": {
    "name": "ipython",
    "version": 3
   },
   "file_extension": ".py",
   "mimetype": "text/x-python",
   "name": "python",
   "nbconvert_exporter": "python",
   "pygments_lexer": "ipython3",
   "version": "3.9.13"
  }
 },
 "nbformat": 4,
 "nbformat_minor": 2
}
