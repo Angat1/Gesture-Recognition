{
 "cells": [
  {
   "cell_type": "markdown",
   "metadata": {},
   "source": [
    "# Gesture Recognition\n",
    "In this group project, you are going to build a 3D Conv model that will be able to predict the 5 gestures correctly. Please import the following libraries to get started."
   ]
  },
  {
   "cell_type": "code",
   "execution_count": 1,
   "metadata": {},
   "outputs": [],
   "source": [
    "import numpy as np\n",
    "import os\n",
    "#from scipy.misc import imread, imresize\n",
    "import imageio\n",
    "import datetime\n",
    "import os\n",
    "from skimage.io import imread\n",
    "import cv2"
   ]
  },
  {
   "cell_type": "markdown",
   "metadata": {},
   "source": [
    "We set the random seed so that the results don't vary drastically."
   ]
  },
  {
   "cell_type": "code",
   "execution_count": 2,
   "metadata": {
    "scrolled": true
   },
   "outputs": [],
   "source": [
    "np.random.seed(30)\n",
    "import random as rn\n",
    "rn.seed(30)\n",
    "from keras import backend as K\n",
    "import tensorflow as tf\n",
    "tf.random.set_seed(30)"
   ]
  },
  {
   "cell_type": "markdown",
   "metadata": {},
   "source": [
    "In this block, you read the folder names for training and validation. You also set the `batch_size` here. Note that you set the batch size in such a way that you are able to use the GPU in full capacity. You keep increasing the batch size until the machine throws an error."
   ]
  },
  {
   "cell_type": "code",
   "execution_count": 3,
   "metadata": {},
   "outputs": [],
   "source": [
    "train_doc = np.random.permutation(open('E:/Project_data/Project_data/train.csv').readlines())\n",
    "val_doc = np.random.permutation(open('E:/Project_data/Project_data/val.csv').readlines())\n",
    "batch_size = 50\n"
   ]
  },
  {
   "cell_type": "markdown",
   "metadata": {},
   "source": [
    "## Generator\n",
    "This is one of the most important part of the code. The overall structure of the generator has been given. In the generator, you are going to preprocess the images as you have images of 2 different dimensions as well as create a batch of video frames. You have to experiment with `img_idx`, `y`,`z` and normalization such that you get high accuracy."
   ]
  },
  {
   "cell_type": "code",
   "execution_count": 4,
   "metadata": {},
   "outputs": [],
   "source": [
    "def generator(source_path, folder_list, batch_size):\n",
    "    print( 'Source path = ', source_path, '; batch size =', batch_size)\n",
    "    img_idx = [0,1,2,3,6,8,10,12,14,16,18,20,24,26,27,28,29]#create a list of image numbers you want to use for a particular video\n",
    "    while True:\n",
    "        t = np.random.permutation(folder_list)\n",
    "        num_batches = int(len(folder_list)/batch_size)\n",
    "        # calculate the number of batches\n",
    "        for batch in range(num_batches): # we iterate over the number of batches\n",
    "            x=len(img_idx)\n",
    "            #batch_data = np.zeros((batch_size,x,y,z,3)) # x is the number of images you use for each video, (y,z) is the final size of the input images and 3 is the number of channels RGB\n",
    "            batch_data = np.zeros((batch_size,x,100,100,3))\n",
    "            batch_labels = np.zeros((batch_size,5)) # batch_labels is the one hot representation of the output\n",
    "            for folder in range(batch_size): # iterate over the batch_size\n",
    "                imgs = os.listdir(source_path+'/'+ t[folder + (batch*batch_size)].split(';')[0]) # read all the images in the folder\n",
    "                for idx,item in enumerate(img_idx): #  Iterate iver the frames/images of a folder to read them in\n",
    "                    image = imread(source_path+'/'+ t[folder + (batch*batch_size)].strip().split(';')[0]+'/'+imgs[item]).astype(np.float32)\n",
    "\n",
    "                    \n",
    "                    #crop the images and resize them. Note that the images are of 2 different shape \n",
    "                    #and the conv3D will throw error if the inputs in a batch have different shapes\n",
    "                    \n",
    "                    height, width, channel = image.shape\n",
    "                    if height == 120 and width == 120:\n",
    "                        image = image[20:140, :120, :]\n",
    "                    image = cv2.resize(image, (100, 100)) #resizing all image to 100*100\n",
    "                    image = image/255\n",
    "\n",
    "                    batch_data[folder,idx,:,:,0] = image[:,:,0]\n",
    "                    #normalise and feed in the image\n",
    "                    batch_data[folder,idx,:,:,1] = image[:,:,1]\n",
    "                    #normalise and feed in the image\n",
    "                    batch_data[folder,idx,:,:,2] = image[:,:,2]\n",
    "                    #normalise and feed in the image\n",
    "\n",
    "                batch_labels[folder, int(t[folder + (batch*batch_size)].strip().split(';')[2])] = 1\n",
    "            yield batch_data, batch_labels #you yield the batch_data and the batch_labels, remember what does yield do\n",
    "\n",
    "        # write the code for the remaining data points which are left after full batches\n",
    "        if len(folder_list) > num_batches * batch_size:\n",
    "            x=len(img_idx)\n",
    "            rem = len(folder_list) - (num_batches * batch_size)\n",
    "            batch_data = np.zeros((rem,x,100,100,3))\n",
    "            batch_labels = np.zeros((rem,5)) # batch_labels is the one hot representation of the output\n",
    "            for folder in range(rem): # iterate over the batch_size\n",
    "                imgs = os.listdir(source_path+'/'+ t[folder + (num_batches * batch_size)].split(';')[0]) # read all the images in the folder\n",
    "                for idx,item in enumerate(img_idx): #  Iterate iver the frames/images of a folder to read them in\n",
    "                    image = imread(source_path+'/'+ t[folder + (num_batches * batch_size)].strip().split(';')[0]+'/'+imgs[item]).astype(np.float32)\n",
    "                    \n",
    "                    #crop the images and resize them. Note that the images are of 2 different shape \n",
    "                    #and the conv3D will throw error if the inputs in a batch have different shapes\n",
    "                    \n",
    "                    height, width , channel = image.shape\n",
    "                    if height == 120 or width == 120:\n",
    "                        image=image[20:140,:120,:]\n",
    "                    image = cv2.resize(image,(100,100))\n",
    "                    image = image/255\n",
    "                    batch_data[folder,idx,:,:,0] = image[:,:,0]\n",
    "                    #normalise and feed in the image\n",
    "                    batch_data[folder,idx,:,:,1] = image[:,:,1]\n",
    "                    #normalise and feed in the image\n",
    "                    batch_data[folder,idx,:,:,2] = image[:,:,2]\n",
    "                    #normalise and feed in the image\n",
    "\n",
    "                batch_labels[folder, int(t[folder + (num_batches * batch_size)].strip().split(';')[2])] = 1\n",
    "            yield batch_data, batch_labels #you yield the batch_data and the batch_labels, remember what does yield do"
   ]
  },
  {
   "cell_type": "markdown",
   "metadata": {},
   "source": [
    "Note here that a video is represented above in the generator as (number of images, height, width, number of channels). Take this into consideration while creating the model architecture."
   ]
  },
  {
   "cell_type": "code",
   "execution_count": 5,
   "metadata": {},
   "outputs": [
    {
     "name": "stdout",
     "output_type": "stream",
     "text": [
      "# training sequences = 663\n",
      "# validation sequences = 100\n",
      "# epochs = 50\n"
     ]
    }
   ],
   "source": [
    "curr_dt_time = datetime.datetime.now()\n",
    "train_path = 'E:/Project_data/Project_data/train'\n",
    "val_path = 'E:/Project_data/Project_data/val'\n",
    "num_train_sequences = len(train_doc)\n",
    "print('# training sequences =', num_train_sequences)\n",
    "num_val_sequences = len(val_doc)\n",
    "print('# validation sequences =', num_val_sequences)\n",
    "num_epochs = 50\n",
    "print ('# epochs =', num_epochs)"
   ]
  },
  {
   "cell_type": "markdown",
   "metadata": {},
   "source": [
    "## Model\n",
    "Here you make the model using different functionalities that Keras provides. Remember to use `Conv3D` and `MaxPooling3D` and not `Conv2D` and `Maxpooling2D` for a 3D convolution model. You would want to use `TimeDistributed` while building a Conv2D + RNN model. Also remember that the last layer is the softmax. Design the network in such a way that the model is able to give good accuracy on the least number of parameters so that it can fit in the memory of the webcam."
   ]
  },
  {
   "cell_type": "code",
   "execution_count": 21,
   "metadata": {},
   "outputs": [],
   "source": [
    "# Import necessary libraries\n",
    "from keras.models import Sequential\n",
    "from keras.layers import Conv3D, MaxPooling3D, BatchNormalization, Dropout, Flatten, Dense\n",
    "\n",
    "# Define the input shape\n",
    "input_shape = (30, 100, 100, 3)\n",
    "\n",
    "# Define the model\n",
    "model = Sequential()\n",
    "\n",
    "model.add(Conv3D(8, (3,3,3), padding='same', input_shape=input_shape, activation='relu'))\n",
    "model.add(BatchNormalization())\n",
    "model.add(MaxPooling3D(pool_size=(2,2,2)))\n",
    "\n",
    "model.add(Conv3D(16, (3,3,3), padding='same', activation='relu'))\n",
    "model.add(BatchNormalization())\n",
    "model.add(MaxPooling3D(pool_size=(2,2,2)))\n",
    "\n",
    "model.add(Conv3D(32, (1,3,3), padding='same', activation='relu'))\n",
    "model.add(BatchNormalization())\n",
    "model.add(MaxPooling3D(pool_size=(2,2,2)))\n",
    "\n",
    "model.add(Conv3D(64, (1,3,3), padding='same', activation='relu'))\n",
    "model.add(BatchNormalization())\n",
    "model.add(MaxPooling3D(pool_size=(2,2,2)))\n",
    "\n",
    "model.add(Flatten())\n",
    "\n",
    "model.add(Dense(128, activation='relu'))\n",
    "model.add(BatchNormalization())\n",
    "model.add(Dropout(0.25))\n",
    "\n",
    "model.add(Dense(64, activation='relu'))\n",
    "model.add(BatchNormalization())\n",
    "model.add(Dropout(0.25))\n",
    "\n",
    "model.add(Dense(5, activation='softmax'))\n"
   ]
  },
  {
   "cell_type": "markdown",
   "metadata": {},
   "source": [
    "Now that you have written the model, the next step is to `compile` the model. When you print the `summary` of the model, you'll see the total number of parameters you have to train."
   ]
  },
  {
   "cell_type": "code",
   "execution_count": 22,
   "metadata": {
    "scrolled": true
   },
   "outputs": [
    {
     "name": "stdout",
     "output_type": "stream",
     "text": [
      "Model: \"sequential_3\"\n",
      "_________________________________________________________________\n",
      " Layer (type)                Output Shape              Param #   \n",
      "=================================================================\n",
      " conv3d_9 (Conv3D)           (None, 30, 100, 100, 8)   656       \n",
      "                                                                 \n",
      " batch_normalization_9 (Batc  (None, 30, 100, 100, 8)  32        \n",
      " hNormalization)                                                 \n",
      "                                                                 \n",
      " max_pooling3d_9 (MaxPooling  (None, 15, 50, 50, 8)    0         \n",
      " 3D)                                                             \n",
      "                                                                 \n",
      " conv3d_10 (Conv3D)          (None, 15, 50, 50, 16)    3472      \n",
      "                                                                 \n",
      " batch_normalization_10 (Bat  (None, 15, 50, 50, 16)   64        \n",
      " chNormalization)                                                \n",
      "                                                                 \n",
      " max_pooling3d_10 (MaxPoolin  (None, 7, 25, 25, 16)    0         \n",
      " g3D)                                                            \n",
      "                                                                 \n",
      " conv3d_11 (Conv3D)          (None, 7, 25, 25, 32)     4640      \n",
      "                                                                 \n",
      " batch_normalization_11 (Bat  (None, 7, 25, 25, 32)    128       \n",
      " chNormalization)                                                \n",
      "                                                                 \n",
      " max_pooling3d_11 (MaxPoolin  (None, 3, 12, 12, 32)    0         \n",
      " g3D)                                                            \n",
      "                                                                 \n",
      " conv3d_12 (Conv3D)          (None, 3, 12, 12, 64)     18496     \n",
      "                                                                 \n",
      " batch_normalization_12 (Bat  (None, 3, 12, 12, 64)    256       \n",
      " chNormalization)                                                \n",
      "                                                                 \n",
      " max_pooling3d_12 (MaxPoolin  (None, 1, 6, 6, 64)      0         \n",
      " g3D)                                                            \n",
      "                                                                 \n",
      " flatten_3 (Flatten)         (None, 2304)              0         \n",
      "                                                                 \n",
      " dense_4 (Dense)             (None, 128)               295040    \n",
      "                                                                 \n",
      " batch_normalization_13 (Bat  (None, 128)              512       \n",
      " chNormalization)                                                \n",
      "                                                                 \n",
      " dropout_2 (Dropout)         (None, 128)               0         \n",
      "                                                                 \n",
      " dense_5 (Dense)             (None, 64)                8256      \n",
      "                                                                 \n",
      " batch_normalization_14 (Bat  (None, 64)               256       \n",
      " chNormalization)                                                \n",
      "                                                                 \n",
      " dropout_3 (Dropout)         (None, 64)                0         \n",
      "                                                                 \n",
      " dense_6 (Dense)             (None, 5)                 325       \n",
      "                                                                 \n",
      "=================================================================\n",
      "Total params: 332,133\n",
      "Trainable params: 331,509\n",
      "Non-trainable params: 624\n",
      "_________________________________________________________________\n",
      "None\n"
     ]
    }
   ],
   "source": [
    "optimiser = 'adam'\n",
    "model.compile(optimizer=optimiser, loss='categorical_crossentropy', metrics=['categorical_accuracy'])\n",
    "print (model.summary())"
   ]
  },
  {
   "cell_type": "markdown",
   "metadata": {},
   "source": [
    "Let us create the `train_generator` and the `val_generator` which will be used in `.fit_generator`."
   ]
  },
  {
   "cell_type": "code",
   "execution_count": 23,
   "metadata": {},
   "outputs": [],
   "source": [
    "train_generator = generator(train_path, train_doc, batch_size)\n",
    "val_generator = generator(val_path, val_doc, batch_size)"
   ]
  },
  {
   "cell_type": "code",
   "execution_count": 24,
   "metadata": {},
   "outputs": [
    {
     "name": "stdout",
     "output_type": "stream",
     "text": [
      "WARNING:tensorflow:`period` argument is deprecated. Please use `save_freq` to specify the frequency in number of batches seen.\n"
     ]
    }
   ],
   "source": [
    "model_name = 'model_init' + '_' + str(curr_dt_time).replace(' ','').replace(':','_') + '/'\n",
    "    \n",
    "if not os.path.exists(model_name):\n",
    "    os.mkdir(model_name)\n",
    "        \n",
    "filepath = model_name + 'model-{epoch:05d}-{loss:.5f}-{categorical_accuracy:.5f}-{val_loss:.5f}-{val_categorical_accuracy:.5f}.h5'\n",
    "\n",
    "checkpoint = ModelCheckpoint(filepath, monitor='val_loss', verbose=1, save_best_only=False, save_weights_only=False, mode='auto', period=1)\n",
    "\n",
    "LR = ReduceLROnPlateau(monitor='val_loss', factor=0.2, patience=5, min_lr=0.001)\n",
    "callbacks_list = [checkpoint, LR]"
   ]
  },
  {
   "cell_type": "markdown",
   "metadata": {},
   "source": [
    "The `steps_per_epoch` and `validation_steps` are used by `fit_generator` to decide the number of next() calls it need to make."
   ]
  },
  {
   "cell_type": "code",
   "execution_count": 25,
   "metadata": {},
   "outputs": [],
   "source": [
    "if (num_train_sequences%batch_size) == 0:\n",
    "    steps_per_epoch = int(num_train_sequences/batch_size)\n",
    "else:\n",
    "    steps_per_epoch = (num_train_sequences//batch_size) + 1\n",
    "\n",
    "if (num_val_sequences%batch_size) == 0:\n",
    "    validation_steps = int(num_val_sequences/batch_size)\n",
    "else:\n",
    "    validation_steps = (num_val_sequences//batch_size) + 1"
   ]
  },
  {
   "cell_type": "markdown",
   "metadata": {},
   "source": [
    "Let us now fit the model. This will start training the model and with the help of the checkpoints, you'll be able to save the model at the end of each epoch."
   ]
  },
  {
   "cell_type": "code",
   "execution_count": 26,
   "metadata": {},
   "outputs": [
    {
     "name": "stderr",
     "output_type": "stream",
     "text": [
      "C:\\Users\\Administrator\\AppData\\Local\\Temp\\2\\ipykernel_1228\\1787904139.py:1: UserWarning: `Model.fit_generator` is deprecated and will be removed in a future version. Please use `Model.fit`, which supports generators.\n",
      "  history=model.fit_generator(train_generator, steps_per_epoch=steps_per_epoch, epochs=num_epochs, verbose=1,\n"
     ]
    },
    {
     "name": "stdout",
     "output_type": "stream",
     "text": [
      "Source path =  E:/Project_data/Project_data/train ; batch size = 50\n",
      "Epoch 1/50\n",
      "14/14 [==============================] - ETA: 0s - loss: 1.6523 - categorical_accuracy: 0.3982 Source path =  E:/Project_data/Project_data/val ; batch size = 50\n",
      "\n",
      "Epoch 1: saving model to model_init_2023-02-1417_08_25.339716\\model-00001-1.65226-0.39819-1.63947-0.23000.h5\n",
      "14/14 [==============================] - 292s 21s/step - loss: 1.6523 - categorical_accuracy: 0.3982 - val_loss: 1.6395 - val_categorical_accuracy: 0.2300 - lr: 0.0010\n",
      "Epoch 2/50\n",
      "14/14 [==============================] - ETA: 0s - loss: 1.0163 - categorical_accuracy: 0.6109 \n",
      "Epoch 2: saving model to model_init_2023-02-1417_08_25.339716\\model-00002-1.01627-0.61086-2.13071-0.26000.h5\n",
      "14/14 [==============================] - 293s 21s/step - loss: 1.0163 - categorical_accuracy: 0.6109 - val_loss: 2.1307 - val_categorical_accuracy: 0.2600 - lr: 0.0010\n",
      "Epoch 3/50\n",
      "14/14 [==============================] - ETA: 0s - loss: 0.7578 - categorical_accuracy: 0.7104 \n",
      "Epoch 3: saving model to model_init_2023-02-1417_08_25.339716\\model-00003-0.75782-0.71041-3.09844-0.21000.h5\n",
      "14/14 [==============================] - 285s 20s/step - loss: 0.7578 - categorical_accuracy: 0.7104 - val_loss: 3.0984 - val_categorical_accuracy: 0.2100 - lr: 0.0010\n",
      "Epoch 4/50\n",
      "14/14 [==============================] - ETA: 0s - loss: 0.6442 - categorical_accuracy: 0.7722 \n",
      "Epoch 4: saving model to model_init_2023-02-1417_08_25.339716\\model-00004-0.64425-0.77225-3.50408-0.22000.h5\n",
      "14/14 [==============================] - 296s 22s/step - loss: 0.6442 - categorical_accuracy: 0.7722 - val_loss: 3.5041 - val_categorical_accuracy: 0.2200 - lr: 0.0010\n",
      "Epoch 5/50\n",
      "14/14 [==============================] - ETA: 0s - loss: 0.5069 - categorical_accuracy: 0.8190 \n",
      "Epoch 5: saving model to model_init_2023-02-1417_08_25.339716\\model-00005-0.50692-0.81900-3.99201-0.21000.h5\n",
      "14/14 [==============================] - 287s 21s/step - loss: 0.5069 - categorical_accuracy: 0.8190 - val_loss: 3.9920 - val_categorical_accuracy: 0.2100 - lr: 0.0010\n",
      "Epoch 6/50\n",
      "14/14 [==============================] - ETA: 0s - loss: 0.3996 - categorical_accuracy: 0.8658 \n",
      "Epoch 6: saving model to model_init_2023-02-1417_08_25.339716\\model-00006-0.39960-0.86576-4.58243-0.22000.h5\n",
      "14/14 [==============================] - 284s 21s/step - loss: 0.3996 - categorical_accuracy: 0.8658 - val_loss: 4.5824 - val_categorical_accuracy: 0.2200 - lr: 0.0010\n",
      "Epoch 7/50\n",
      "14/14 [==============================] - ETA: 0s - loss: 0.3491 - categorical_accuracy: 0.8974 \n",
      "Epoch 7: saving model to model_init_2023-02-1417_08_25.339716\\model-00007-0.34907-0.89744-5.03218-0.16000.h5\n",
      "14/14 [==============================] - 289s 20s/step - loss: 0.3491 - categorical_accuracy: 0.8974 - val_loss: 5.0322 - val_categorical_accuracy: 0.1600 - lr: 0.0010\n",
      "Epoch 8/50\n",
      "14/14 [==============================] - ETA: 0s - loss: 0.2718 - categorical_accuracy: 0.9035 \n",
      "Epoch 8: saving model to model_init_2023-02-1417_08_25.339716\\model-00008-0.27178-0.90347-5.89964-0.11000.h5\n",
      "14/14 [==============================] - 295s 21s/step - loss: 0.2718 - categorical_accuracy: 0.9035 - val_loss: 5.8996 - val_categorical_accuracy: 0.1100 - lr: 0.0010\n",
      "Epoch 9/50\n",
      "14/14 [==============================] - ETA: 0s - loss: 0.2894 - categorical_accuracy: 0.8974 \n",
      "Epoch 9: saving model to model_init_2023-02-1417_08_25.339716\\model-00009-0.28940-0.89744-5.32551-0.24000.h5\n",
      "14/14 [==============================] - 284s 20s/step - loss: 0.2894 - categorical_accuracy: 0.8974 - val_loss: 5.3255 - val_categorical_accuracy: 0.2400 - lr: 0.0010\n",
      "Epoch 10/50\n",
      "14/14 [==============================] - ETA: 0s - loss: 0.2669 - categorical_accuracy: 0.9216 \n",
      "Epoch 10: saving model to model_init_2023-02-1417_08_25.339716\\model-00010-0.26689-0.92157-4.84667-0.28000.h5\n",
      "14/14 [==============================] - 286s 20s/step - loss: 0.2669 - categorical_accuracy: 0.9216 - val_loss: 4.8467 - val_categorical_accuracy: 0.2800 - lr: 0.0010\n",
      "Epoch 11/50\n",
      "14/14 [==============================] - ETA: 0s - loss: 0.1699 - categorical_accuracy: 0.9548 \n",
      "Epoch 11: saving model to model_init_2023-02-1417_08_25.339716\\model-00011-0.16992-0.95475-5.25958-0.22000.h5\n",
      "14/14 [==============================] - 285s 20s/step - loss: 0.1699 - categorical_accuracy: 0.9548 - val_loss: 5.2596 - val_categorical_accuracy: 0.2200 - lr: 0.0010\n",
      "Epoch 12/50\n",
      "14/14 [==============================] - ETA: 0s - loss: 0.1817 - categorical_accuracy: 0.9532 \n",
      "Epoch 12: saving model to model_init_2023-02-1417_08_25.339716\\model-00012-0.18166-0.95324-5.98731-0.22000.h5\n",
      "14/14 [==============================] - 297s 21s/step - loss: 0.1817 - categorical_accuracy: 0.9532 - val_loss: 5.9873 - val_categorical_accuracy: 0.2200 - lr: 0.0010\n",
      "Epoch 13/50\n",
      "14/14 [==============================] - ETA: 0s - loss: 0.1626 - categorical_accuracy: 0.9517 \n",
      "Epoch 13: saving model to model_init_2023-02-1417_08_25.339716\\model-00013-0.16255-0.95173-5.76983-0.21000.h5\n",
      "14/14 [==============================] - 284s 20s/step - loss: 0.1626 - categorical_accuracy: 0.9517 - val_loss: 5.7698 - val_categorical_accuracy: 0.2100 - lr: 0.0010\n",
      "Epoch 14/50\n",
      "14/14 [==============================] - ETA: 0s - loss: 0.1362 - categorical_accuracy: 0.9698 \n",
      "Epoch 14: saving model to model_init_2023-02-1417_08_25.339716\\model-00014-0.13620-0.96983-5.82546-0.22000.h5\n",
      "14/14 [==============================] - 287s 20s/step - loss: 0.1362 - categorical_accuracy: 0.9698 - val_loss: 5.8255 - val_categorical_accuracy: 0.2200 - lr: 0.0010\n",
      "Epoch 15/50\n",
      "14/14 [==============================] - ETA: 0s - loss: 0.1329 - categorical_accuracy: 0.9608 \n",
      "Epoch 15: saving model to model_init_2023-02-1417_08_25.339716\\model-00015-0.13290-0.96078-5.82616-0.21000.h5\n",
      "14/14 [==============================] - 289s 21s/step - loss: 0.1329 - categorical_accuracy: 0.9608 - val_loss: 5.8262 - val_categorical_accuracy: 0.2100 - lr: 0.0010\n",
      "Epoch 16/50\n",
      "14/14 [==============================] - ETA: 0s - loss: 0.1341 - categorical_accuracy: 0.9578 \n",
      "Epoch 16: saving model to model_init_2023-02-1417_08_25.339716\\model-00016-0.13414-0.95777-5.59382-0.28000.h5\n",
      "14/14 [==============================] - 295s 21s/step - loss: 0.1341 - categorical_accuracy: 0.9578 - val_loss: 5.5938 - val_categorical_accuracy: 0.2800 - lr: 0.0010\n",
      "Epoch 17/50\n",
      "14/14 [==============================] - ETA: 0s - loss: 0.1100 - categorical_accuracy: 0.9668 \n",
      "Epoch 17: saving model to model_init_2023-02-1417_08_25.339716\\model-00017-0.11000-0.96682-5.57865-0.21000.h5\n",
      "14/14 [==============================] - 281s 20s/step - loss: 0.1100 - categorical_accuracy: 0.9668 - val_loss: 5.5786 - val_categorical_accuracy: 0.2100 - lr: 0.0010\n",
      "Epoch 18/50\n",
      "14/14 [==============================] - ETA: 0s - loss: 0.1324 - categorical_accuracy: 0.9698 \n",
      "Epoch 18: saving model to model_init_2023-02-1417_08_25.339716\\model-00018-0.13238-0.96983-5.79301-0.21000.h5\n",
      "14/14 [==============================] - 287s 20s/step - loss: 0.1324 - categorical_accuracy: 0.9698 - val_loss: 5.7930 - val_categorical_accuracy: 0.2100 - lr: 0.0010\n",
      "Epoch 19/50\n",
      "14/14 [==============================] - ETA: 0s - loss: 0.1047 - categorical_accuracy: 0.9713 \n",
      "Epoch 19: saving model to model_init_2023-02-1417_08_25.339716\\model-00019-0.10469-0.97134-5.27828-0.21000.h5\n",
      "14/14 [==============================] - 292s 21s/step - loss: 0.1047 - categorical_accuracy: 0.9713 - val_loss: 5.2783 - val_categorical_accuracy: 0.2100 - lr: 0.0010\n",
      "Epoch 20/50\n",
      "14/14 [==============================] - ETA: 0s - loss: 0.1391 - categorical_accuracy: 0.9729 \n",
      "Epoch 20: saving model to model_init_2023-02-1417_08_25.339716\\model-00020-0.13914-0.97285-5.60949-0.20000.h5\n",
      "14/14 [==============================] - 287s 21s/step - loss: 0.1391 - categorical_accuracy: 0.9729 - val_loss: 5.6095 - val_categorical_accuracy: 0.2000 - lr: 0.0010\n",
      "Epoch 21/50\n",
      "14/14 [==============================] - ETA: 0s - loss: 0.1635 - categorical_accuracy: 0.9472 \n",
      "Epoch 21: saving model to model_init_2023-02-1417_08_25.339716\\model-00021-0.16352-0.94721-3.91711-0.24000.h5\n",
      "14/14 [==============================] - 284s 20s/step - loss: 0.1635 - categorical_accuracy: 0.9472 - val_loss: 3.9171 - val_categorical_accuracy: 0.2400 - lr: 0.0010\n",
      "Epoch 22/50\n",
      "14/14 [==============================] - ETA: 0s - loss: 0.1156 - categorical_accuracy: 0.9623 \n",
      "Epoch 22: saving model to model_init_2023-02-1417_08_25.339716\\model-00022-0.11561-0.96229-3.52460-0.27000.h5\n",
      "14/14 [==============================] - 284s 20s/step - loss: 0.1156 - categorical_accuracy: 0.9623 - val_loss: 3.5246 - val_categorical_accuracy: 0.2700 - lr: 0.0010\n",
      "Epoch 23/50\n",
      "14/14 [==============================] - ETA: 0s - loss: 0.1154 - categorical_accuracy: 0.9729 \n",
      "Epoch 23: saving model to model_init_2023-02-1417_08_25.339716\\model-00023-0.11542-0.97285-3.93760-0.24000.h5\n",
      "14/14 [==============================] - 290s 20s/step - loss: 0.1154 - categorical_accuracy: 0.9729 - val_loss: 3.9376 - val_categorical_accuracy: 0.2400 - lr: 0.0010\n",
      "Epoch 24/50\n",
      "14/14 [==============================] - ETA: 0s - loss: 0.0837 - categorical_accuracy: 0.9819 \n",
      "Epoch 24: saving model to model_init_2023-02-1417_08_25.339716\\model-00024-0.08374-0.98190-3.79002-0.24000.h5\n",
      "14/14 [==============================] - 285s 20s/step - loss: 0.0837 - categorical_accuracy: 0.9819 - val_loss: 3.7900 - val_categorical_accuracy: 0.2400 - lr: 0.0010\n",
      "Epoch 25/50\n",
      "14/14 [==============================] - ETA: 0s - loss: 0.1124 - categorical_accuracy: 0.9668 \n",
      "Epoch 25: saving model to model_init_2023-02-1417_08_25.339716\\model-00025-0.11238-0.96682-3.09054-0.33000.h5\n",
      "14/14 [==============================] - 292s 20s/step - loss: 0.1124 - categorical_accuracy: 0.9668 - val_loss: 3.0905 - val_categorical_accuracy: 0.3300 - lr: 0.0010\n",
      "Epoch 26/50\n",
      "14/14 [==============================] - ETA: 0s - loss: 0.0990 - categorical_accuracy: 0.9774 \n",
      "Epoch 26: saving model to model_init_2023-02-1417_08_25.339716\\model-00026-0.09896-0.97738-3.99952-0.28000.h5\n",
      "14/14 [==============================] - 289s 20s/step - loss: 0.0990 - categorical_accuracy: 0.9774 - val_loss: 3.9995 - val_categorical_accuracy: 0.2800 - lr: 0.0010\n",
      "Epoch 27/50\n",
      "14/14 [==============================] - ETA: 0s - loss: 0.0723 - categorical_accuracy: 0.9834 \n",
      "Epoch 27: saving model to model_init_2023-02-1417_08_25.339716\\model-00027-0.07232-0.98341-3.51313-0.37000.h5\n",
      "14/14 [==============================] - 283s 20s/step - loss: 0.0723 - categorical_accuracy: 0.9834 - val_loss: 3.5131 - val_categorical_accuracy: 0.3700 - lr: 0.0010\n",
      "Epoch 28/50\n",
      "14/14 [==============================] - ETA: 0s - loss: 0.0691 - categorical_accuracy: 0.9819 \n",
      "Epoch 28: saving model to model_init_2023-02-1417_08_25.339716\\model-00028-0.06906-0.98190-3.67858-0.32000.h5\n",
      "14/14 [==============================] - 293s 21s/step - loss: 0.0691 - categorical_accuracy: 0.9819 - val_loss: 3.6786 - val_categorical_accuracy: 0.3200 - lr: 0.0010\n",
      "Epoch 29/50\n",
      "14/14 [==============================] - ETA: 0s - loss: 0.0809 - categorical_accuracy: 0.9774 \n",
      "Epoch 29: saving model to model_init_2023-02-1417_08_25.339716\\model-00029-0.08090-0.97738-2.29413-0.43000.h5\n",
      "14/14 [==============================] - 286s 21s/step - loss: 0.0809 - categorical_accuracy: 0.9774 - val_loss: 2.2941 - val_categorical_accuracy: 0.4300 - lr: 0.0010\n",
      "Epoch 30/50\n",
      "14/14 [==============================] - ETA: 0s - loss: 0.0577 - categorical_accuracy: 0.9849 \n",
      "Epoch 30: saving model to model_init_2023-02-1417_08_25.339716\\model-00030-0.05772-0.98492-1.63079-0.59000.h5\n",
      "14/14 [==============================] - 292s 20s/step - loss: 0.0577 - categorical_accuracy: 0.9849 - val_loss: 1.6308 - val_categorical_accuracy: 0.5900 - lr: 0.0010\n",
      "Epoch 31/50\n",
      "14/14 [==============================] - ETA: 0s - loss: 0.0555 - categorical_accuracy: 0.9864 \n",
      "Epoch 31: saving model to model_init_2023-02-1417_08_25.339716\\model-00031-0.05549-0.98643-2.16289-0.55000.h5\n",
      "14/14 [==============================] - 283s 20s/step - loss: 0.0555 - categorical_accuracy: 0.9864 - val_loss: 2.1629 - val_categorical_accuracy: 0.5500 - lr: 0.0010\n",
      "Epoch 32/50\n",
      "14/14 [==============================] - ETA: 0s - loss: 0.0649 - categorical_accuracy: 0.9879 \n",
      "Epoch 32: saving model to model_init_2023-02-1417_08_25.339716\\model-00032-0.06493-0.98793-1.51760-0.67000.h5\n",
      "14/14 [==============================] - 300s 22s/step - loss: 0.0649 - categorical_accuracy: 0.9879 - val_loss: 1.5176 - val_categorical_accuracy: 0.6700 - lr: 0.0010\n",
      "Epoch 33/50\n",
      "14/14 [==============================] - ETA: 0s - loss: 0.0476 - categorical_accuracy: 0.9925 \n",
      "Epoch 33: saving model to model_init_2023-02-1417_08_25.339716\\model-00033-0.04762-0.99246-1.73278-0.60000.h5\n",
      "14/14 [==============================] - 281s 20s/step - loss: 0.0476 - categorical_accuracy: 0.9925 - val_loss: 1.7328 - val_categorical_accuracy: 0.6000 - lr: 0.0010\n",
      "Epoch 34/50\n",
      "14/14 [==============================] - ETA: 0s - loss: 0.0656 - categorical_accuracy: 0.9849 \n",
      "Epoch 34: saving model to model_init_2023-02-1417_08_25.339716\\model-00034-0.06563-0.98492-1.62757-0.60000.h5\n",
      "14/14 [==============================] - 285s 21s/step - loss: 0.0656 - categorical_accuracy: 0.9849 - val_loss: 1.6276 - val_categorical_accuracy: 0.6000 - lr: 0.0010\n",
      "Epoch 35/50\n",
      "14/14 [==============================] - ETA: 0s - loss: 0.0617 - categorical_accuracy: 0.9834 \n",
      "Epoch 35: saving model to model_init_2023-02-1417_08_25.339716\\model-00035-0.06170-0.98341-1.46069-0.67000.h5\n",
      "14/14 [==============================] - 286s 20s/step - loss: 0.0617 - categorical_accuracy: 0.9834 - val_loss: 1.4607 - val_categorical_accuracy: 0.6700 - lr: 0.0010\n",
      "Epoch 36/50\n",
      "14/14 [==============================] - ETA: 0s - loss: 0.0688 - categorical_accuracy: 0.9804 \n",
      "Epoch 36: saving model to model_init_2023-02-1417_08_25.339716\\model-00036-0.06877-0.98039-5.96717-0.29000.h5\n",
      "14/14 [==============================] - 299s 22s/step - loss: 0.0688 - categorical_accuracy: 0.9804 - val_loss: 5.9672 - val_categorical_accuracy: 0.2900 - lr: 0.0010\n",
      "Epoch 37/50\n",
      "14/14 [==============================] - ETA: 0s - loss: 0.1318 - categorical_accuracy: 0.9593 \n",
      "Epoch 37: saving model to model_init_2023-02-1417_08_25.339716\\model-00037-0.13183-0.95928-5.21679-0.39000.h5\n",
      "14/14 [==============================] - 286s 20s/step - loss: 0.1318 - categorical_accuracy: 0.9593 - val_loss: 5.2168 - val_categorical_accuracy: 0.3900 - lr: 0.0010\n",
      "Epoch 38/50\n",
      "14/14 [==============================] - ETA: 0s - loss: 0.1027 - categorical_accuracy: 0.9774 \n",
      "Epoch 38: saving model to model_init_2023-02-1417_08_25.339716\\model-00038-0.10272-0.97738-1.19575-0.67000.h5\n",
      "14/14 [==============================] - 281s 20s/step - loss: 0.1027 - categorical_accuracy: 0.9774 - val_loss: 1.1957 - val_categorical_accuracy: 0.6700 - lr: 0.0010\n",
      "Epoch 39/50\n",
      "14/14 [==============================] - ETA: 0s - loss: 0.0622 - categorical_accuracy: 0.9834 \n",
      "Epoch 39: saving model to model_init_2023-02-1417_08_25.339716\\model-00039-0.06217-0.98341-1.77066-0.57000.h5\n",
      "14/14 [==============================] - 289s 21s/step - loss: 0.0622 - categorical_accuracy: 0.9834 - val_loss: 1.7707 - val_categorical_accuracy: 0.5700 - lr: 0.0010\n",
      "Epoch 40/50\n",
      "14/14 [==============================] - ETA: 0s - loss: 0.0440 - categorical_accuracy: 0.9910 \n",
      "Epoch 40: saving model to model_init_2023-02-1417_08_25.339716\\model-00040-0.04405-0.99095-1.52515-0.63000.h5\n",
      "14/14 [==============================] - 288s 20s/step - loss: 0.0440 - categorical_accuracy: 0.9910 - val_loss: 1.5252 - val_categorical_accuracy: 0.6300 - lr: 0.0010\n",
      "Epoch 41/50\n",
      "14/14 [==============================] - ETA: 0s - loss: 0.0494 - categorical_accuracy: 0.9879 \n",
      "Epoch 41: saving model to model_init_2023-02-1417_08_25.339716\\model-00041-0.04940-0.98793-1.01190-0.68000.h5\n",
      "14/14 [==============================] - 290s 20s/step - loss: 0.0494 - categorical_accuracy: 0.9879 - val_loss: 1.0119 - val_categorical_accuracy: 0.6800 - lr: 0.0010\n",
      "Epoch 42/50\n",
      "14/14 [==============================] - ETA: 0s - loss: 0.0669 - categorical_accuracy: 0.9804 \n",
      "Epoch 42: saving model to model_init_2023-02-1417_08_25.339716\\model-00042-0.06685-0.98039-1.09636-0.67000.h5\n",
      "14/14 [==============================] - 286s 20s/step - loss: 0.0669 - categorical_accuracy: 0.9804 - val_loss: 1.0964 - val_categorical_accuracy: 0.6700 - lr: 0.0010\n",
      "Epoch 43/50\n",
      "14/14 [==============================] - ETA: 0s - loss: 0.0707 - categorical_accuracy: 0.9774 \n",
      "Epoch 43: saving model to model_init_2023-02-1417_08_25.339716\\model-00043-0.07070-0.97738-1.00476-0.76000.h5\n",
      "14/14 [==============================] - 286s 20s/step - loss: 0.0707 - categorical_accuracy: 0.9774 - val_loss: 1.0048 - val_categorical_accuracy: 0.7600 - lr: 0.0010\n",
      "Epoch 44/50\n",
      "14/14 [==============================] - ETA: 0s - loss: 0.0405 - categorical_accuracy: 0.9879 \n",
      "Epoch 44: saving model to model_init_2023-02-1417_08_25.339716\\model-00044-0.04048-0.98793-0.92824-0.77000.h5\n",
      "14/14 [==============================] - 285s 20s/step - loss: 0.0405 - categorical_accuracy: 0.9879 - val_loss: 0.9282 - val_categorical_accuracy: 0.7700 - lr: 0.0010\n",
      "Epoch 45/50\n",
      "14/14 [==============================] - ETA: 0s - loss: 0.0242 - categorical_accuracy: 0.9985 \n",
      "Epoch 45: saving model to model_init_2023-02-1417_08_25.339716\\model-00045-0.02417-0.99849-0.92092-0.76000.h5\n",
      "14/14 [==============================] - 288s 20s/step - loss: 0.0242 - categorical_accuracy: 0.9985 - val_loss: 0.9209 - val_categorical_accuracy: 0.7600 - lr: 0.0010\n",
      "Epoch 46/50\n",
      "14/14 [==============================] - ETA: 0s - loss: 0.0605 - categorical_accuracy: 0.9849 \n",
      "Epoch 46: saving model to model_init_2023-02-1417_08_25.339716\\model-00046-0.06049-0.98492-0.61434-0.81000.h5\n",
      "14/14 [==============================] - 291s 20s/step - loss: 0.0605 - categorical_accuracy: 0.9849 - val_loss: 0.6143 - val_categorical_accuracy: 0.8100 - lr: 0.0010\n",
      "Epoch 47/50\n",
      "14/14 [==============================] - ETA: 0s - loss: 0.0703 - categorical_accuracy: 0.9789 \n",
      "Epoch 47: saving model to model_init_2023-02-1417_08_25.339716\\model-00047-0.07033-0.97888-1.03805-0.69000.h5\n",
      "14/14 [==============================] - 284s 20s/step - loss: 0.0703 - categorical_accuracy: 0.9789 - val_loss: 1.0381 - val_categorical_accuracy: 0.6900 - lr: 0.0010\n",
      "Epoch 48/50\n",
      "14/14 [==============================] - ETA: 0s - loss: 0.0662 - categorical_accuracy: 0.9804 \n",
      "Epoch 48: saving model to model_init_2023-02-1417_08_25.339716\\model-00048-0.06621-0.98039-1.74746-0.59000.h5\n",
      "14/14 [==============================] - 284s 20s/step - loss: 0.0662 - categorical_accuracy: 0.9804 - val_loss: 1.7475 - val_categorical_accuracy: 0.5900 - lr: 0.0010\n",
      "Epoch 49/50\n",
      "14/14 [==============================] - ETA: 0s - loss: 0.0908 - categorical_accuracy: 0.9713 \n",
      "Epoch 49: saving model to model_init_2023-02-1417_08_25.339716\\model-00049-0.09079-0.97134-1.83537-0.59000.h5\n",
      "14/14 [==============================] - 297s 21s/step - loss: 0.0908 - categorical_accuracy: 0.9713 - val_loss: 1.8354 - val_categorical_accuracy: 0.5900 - lr: 0.0010\n",
      "Epoch 50/50\n",
      "14/14 [==============================] - ETA: 0s - loss: 0.0900 - categorical_accuracy: 0.9683 \n",
      "Epoch 50: saving model to model_init_2023-02-1417_08_25.339716\\model-00050-0.09000-0.96833-1.38857-0.67000.h5\n",
      "14/14 [==============================] - 286s 21s/step - loss: 0.0900 - categorical_accuracy: 0.9683 - val_loss: 1.3886 - val_categorical_accuracy: 0.6700 - lr: 0.0010\n"
     ]
    }
   ],
   "source": [
    "history=model.fit_generator(train_generator, steps_per_epoch=steps_per_epoch, epochs=num_epochs, verbose=1, \n",
    "                    callbacks=callbacks_list, validation_data=val_generator, \n",
    "                    validation_steps=validation_steps, class_weight=None, workers=1, initial_epoch=0)"
   ]
  },
  {
   "cell_type": "code",
   "execution_count": 27,
   "metadata": {},
   "outputs": [
    {
     "data": {
      "image/png": "[encoded data removed]",
      "text/plain": [
       "<Figure size 640x480 with 1 Axes>"
      ]
     },
     "metadata": {},
     "output_type": "display_data"
    }
   ],
   "source": [
    "import matplotlib.pyplot as plt\n",
    "\n",
    "# Plot training & validation loss values\n",
    "plt.plot(history.history['loss'])\n",
    "plt.plot(history.history['val_loss'])\n",
    "plt.title('Model loss')\n",
    "plt.ylabel('Loss')\n",
    "plt.xlabel('Epoch')\n",
    "plt.legend(['Train', 'Val'], loc='upper left')\n",
    "plt.show()"
   ]
  },
  {
   "cell_type": "code",
   "execution_count": 28,
   "metadata": {},
   "outputs": [
    {
     "data": {
      "image/png": "[encoded data removed]",
      "text/plain": [
       "<Figure size 640x480 with 1 Axes>"
      ]
     },
     "metadata": {},
     "output_type": "display_data"
    }
   ],
   "source": [
    "# Plot training & validation accuracy values\n",
    "plt.plot(history.history['categorical_accuracy'])\n",
    "plt.plot(history.history['val_categorical_accuracy'])\n",
    "plt.title('Model accuracy')\n",
    "plt.ylabel('Accuracy')\n",
    "plt.xlabel('Epoch')\n",
    "plt.legend(['Train', 'Val'], loc='upper left')\n",
    "plt.show()"
   ]
  },
  {
   "cell_type": "code",
   "execution_count": 29,
   "metadata": {},
   "outputs": [],
   "source": [
    "model.save_weights(\"model_6.h5\")"
   ]
  },
  {
   "cell_type": "code",
   "execution_count": null,
   "metadata": {},
   "outputs": [],
   "source": []
  },
  {
   "cell_type": "code",
   "execution_count": null,
   "metadata": {},
   "outputs": [],
   "source": []
  }
 ],
 "metadata": {
  "kernelspec": {
   "display_name": "Python 3 (ipykernel)",
   "language": "python",
   "name": "python3"
  },
  "language_info": {
   "codemirror_mode": {
    "name": "ipython",
    "version": 3
   },
   "file_extension": ".py",
   "mimetype": "text/x-python",
   "name": "python",
   "nbconvert_exporter": "python",
   "pygments_lexer": "ipython3",
   "version": "3.9.13"
  }
 },
 "nbformat": 4,
 "nbformat_minor": 2
}
